{
 "cells": [
  {
   "cell_type": "code",
   "execution_count": 9,
   "id": "ba72cea5-5858-4ae6-8870-6a64e842dca6",
   "metadata": {},
   "outputs": [
    {
     "name": "stdout",
     "output_type": "stream",
     "text": [
      "b is greater\n"
     ]
    }
   ],
   "source": [
    "a = 2\n",
    "b = 5\n",
    "if b > a: \n",
    "    print('b is greater')    "
   ]
  },
  {
   "cell_type": "code",
   "execution_count": 11,
   "id": "be653191-0ffa-48f5-82ad-f3b89a3af038",
   "metadata": {},
   "outputs": [
    {
     "name": "stdout",
     "output_type": "stream",
     "text": [
      "b is greater\n"
     ]
    }
   ],
   "source": [
    "if a > b: # Here we are trying to find if a is greater than b\n",
    "    print('a is greater')\n",
    "elif a < b: # Here we are trying to find if b is greater than a\n",
    "    print('b is greater')"
   ]
  },
  {
   "cell_type": "code",
   "execution_count": 13,
   "id": "daed4c0c-02e1-46e7-a41b-9d66767bb48f",
   "metadata": {},
   "outputs": [
    {
     "name": "stdout",
     "output_type": "stream",
     "text": [
      "b is greater than a or both are equal\n"
     ]
    }
   ],
   "source": [
    "if a > b: # Here we are trying to find if which is greater, a or b\n",
    "    print('a is greater')  \n",
    "else:\n",
    "    print('b is greater than a or both are equal')"
   ]
  },
  {
   "cell_type": "code",
   "execution_count": 15,
   "id": "33ade1e9-ad18-4a1b-86e5-9484f4c80eaf",
   "metadata": {},
   "outputs": [
    {
     "name": "stdout",
     "output_type": "stream",
     "text": [
      "b is greater\n"
     ]
    }
   ],
   "source": [
    "if a > b: # Here we are trying to find if a is greater than b\n",
    "    print('a is greater')\n",
    "elif a < b: # Here we are trying to find if b is greater than a\n",
    "    print('b is greater')\n",
    "else: # If none of the above are True, then we execute the else statement\n",
    "    print('a and b are equal')"
   ]
  },
  {
   "cell_type": "code",
   "execution_count": 17,
   "id": "63bf24b6-32c7-4e61-87b7-679c028d2302",
   "metadata": {},
   "outputs": [
    {
     "name": "stdout",
     "output_type": "stream",
     "text": [
      "b is greater\n",
      "Done!\n"
     ]
    }
   ],
   "source": [
    "if a > b: # Here we are trying to find if a is greater than b\n",
    "    print('a is greater')\n",
    "elif a < b: # Here we are trying to find if b is greater than a\n",
    "    print('b is greater')\n",
    "print(\"Done!\")"
   ]
  },
  {
   "cell_type": "code",
   "execution_count": 19,
   "id": "a94f79c0-b288-41cc-a112-1b20bc078733",
   "metadata": {},
   "outputs": [
    {
     "name": "stdout",
     "output_type": "stream",
     "text": [
      "a is greater\n",
      "Value of a is 5\n",
      "And value of b is 2\n"
     ]
    }
   ],
   "source": [
    "a = 5\n",
    "b = 2\n",
    "\n",
    "# Pay attention to the indentation here. \n",
    "# All the statements with the same indendation will be executed.\n",
    "if a>b:                     \n",
    "    print('a is greater')      \n",
    "    print('Value of a is',a)  \n",
    "    print('And value of b is',b)\n",
    "elif b>a:\n",
    "    print('b is greater')\n",
    "    print('Value of a is', a)\n",
    "    print('And value of b is',b)\n",
    "else:\n",
    "    print('they both are equal')\n",
    "    \n",
    "# In this case, the first condition is true. \n",
    "# Hence only the statements within 'IF' are executed "
   ]
  },
  {
   "cell_type": "code",
   "execution_count": 21,
   "id": "9a241671-6a6b-4f37-851e-9e13ce2f57ec",
   "metadata": {},
   "outputs": [
    {
     "name": "stdout",
     "output_type": "stream",
     "text": [
      "b is greater\n",
      "Value of a is 10\n",
      "And value of b is 50\n"
     ]
    }
   ],
   "source": [
    "a = 10\n",
    "b = 50\n",
    "# Pay attention to the indentation here. \n",
    "# All the statements with the same indendation will be executed.\n",
    "\n",
    "if a>b:                     \n",
    "    print('a is greater')       \n",
    "    print('Value of a is',a)  \n",
    "    print('And value of b is',b)\n",
    "elif b>a:\n",
    "    print('b is greater')\n",
    "    print('Value of a is', a)\n",
    "    print('And value of b is',b)\n",
    "else:\n",
    "    print('they both are equal')\n",
    "    \n",
    "# In this case, the second condition is True. \n",
    "# Hence only the statements within 'ELIF' are executed "
   ]
  },
  {
   "cell_type": "code",
   "execution_count": 23,
   "id": "e6554e59-6233-40ba-b761-84c2a8af97e3",
   "metadata": {},
   "outputs": [
    {
     "name": "stdout",
     "output_type": "stream",
     "text": [
      "Enter a number:  3\n"
     ]
    },
    {
     "name": "stdout",
     "output_type": "stream",
     "text": [
      "The number is positive.\n"
     ]
    }
   ],
   "source": [
    "number = int(input(\"Enter a number: \"))\n",
    "\n",
    "if number > 0:\n",
    "    print(\"The number is positive.\")\n",
    "elif number < 0:\n",
    "    print(\"The number is negative.\")\n",
    "else:\n",
    "    print(\"The number is zero.\")"
   ]
  },
  {
   "cell_type": "code",
   "execution_count": 25,
   "id": "ec6a191d-b35d-4d30-b5c4-a856f6a46e40",
   "metadata": {},
   "outputs": [
    {
     "name": "stdout",
     "output_type": "stream",
     "text": [
      "Enter a number:  0\n"
     ]
    },
    {
     "name": "stdout",
     "output_type": "stream",
     "text": [
      "The number is zero.\n"
     ]
    }
   ],
   "source": [
    "number = int(input(\"Enter a number: \"))\n",
    "\n",
    "if number > 0:\n",
    "    print(\"The number is positive.\")\n",
    "elif number < 0:\n",
    "    print(\"The number is negative.\")\n",
    "else:\n",
    "    print(\"The number is zero.\")\n"
   ]
  },
  {
   "cell_type": "code",
   "execution_count": 27,
   "id": "7181524b-e9b5-47fe-b3a5-4aa3edd68705",
   "metadata": {},
   "outputs": [
    {
     "name": "stdout",
     "output_type": "stream",
     "text": [
      "Enter a number:  -3\n"
     ]
    },
    {
     "name": "stdout",
     "output_type": "stream",
     "text": [
      "The number is negative.\n"
     ]
    }
   ],
   "source": [
    "number = int(input(\"Enter a number: \"))\n",
    "\n",
    "if number > 0:\n",
    "    print(\"The number is positive.\")\n",
    "elif number < 0:\n",
    "    print(\"The number is negative.\")\n",
    "else:\n",
    "    print(\"The number is zero.\")"
   ]
  },
  {
   "cell_type": "code",
   "execution_count": 29,
   "id": "44bd04ac-db99-495b-a4d5-8237c06fceaa",
   "metadata": {},
   "outputs": [
    {
     "name": "stdout",
     "output_type": "stream",
     "text": [
      "Enter the percentage:  80\n"
     ]
    },
    {
     "name": "stdout",
     "output_type": "stream",
     "text": [
      "Your grade is: B\n"
     ]
    }
   ],
   "source": [
    "percentage = float(input(\"Enter the percentage: \"))\n",
    "\n",
    "if percentage >= 90:\n",
    "    grade = \"A\"\n",
    "elif percentage >= 80:\n",
    "    grade = \"B\"\n",
    "elif percentage >= 70:\n",
    "    grade = \"C\"\n",
    "elif percentage >= 60:\n",
    "    grade = \"D\"\n",
    "else:\n",
    "    grade = \"F\"\n",
    "\n",
    "print(\"Your grade is:\", grade)"
   ]
  },
  {
   "cell_type": "code",
   "execution_count": 31,
   "id": "1d1f6d57-66ba-4b51-b744-66cbf7067921",
   "metadata": {},
   "outputs": [
    {
     "name": "stdout",
     "output_type": "stream",
     "text": [
      "Enter the percentage:  30\n"
     ]
    },
    {
     "name": "stdout",
     "output_type": "stream",
     "text": [
      "Your grade is: F\n"
     ]
    }
   ],
   "source": [
    "percentage = float(input(\"Enter the percentage: \"))\n",
    "\n",
    "if percentage >= 90:\n",
    "    grade = \"A\"\n",
    "elif percentage >= 80:\n",
    "    grade = \"B\"\n",
    "elif percentage >= 70:\n",
    "    grade = \"C\"\n",
    "elif percentage >= 60:\n",
    "    grade = \"D\"\n",
    "else:\n",
    "    grade = \"F\"\n",
    "\n",
    "print(\"Your grade is:\", grade)"
   ]
  },
  {
   "cell_type": "code",
   "execution_count": 33,
   "id": "44af0d0b-5ec5-4477-894c-7b91a0dbe4c9",
   "metadata": {},
   "outputs": [
    {
     "name": "stdout",
     "output_type": "stream",
     "text": [
      "Enter the percentage:  100\n"
     ]
    },
    {
     "name": "stdout",
     "output_type": "stream",
     "text": [
      "Your grade is: A\n"
     ]
    }
   ],
   "source": [
    "percentage = float(input(\"Enter the percentage: \"))\n",
    "\n",
    "if percentage >= 90:\n",
    "    grade = \"A\"\n",
    "elif percentage >= 80:\n",
    "    grade = \"B\"\n",
    "elif percentage >= 70:\n",
    "    grade = \"C\"\n",
    "elif percentage >= 60:\n",
    "    grade = \"D\"\n",
    "else:\n",
    "    grade = \"F\"\n",
    "\n",
    "print(\"Your grade is:\", grade)"
   ]
  },
  {
   "cell_type": "code",
   "execution_count": 35,
   "id": "6db22684-c082-42f1-8a9a-f74c75225a3f",
   "metadata": {},
   "outputs": [
    {
     "name": "stdout",
     "output_type": "stream",
     "text": [
      "Enter a number:  3\n"
     ]
    },
    {
     "name": "stdout",
     "output_type": "stream",
     "text": [
      "The number is negative or odd.\n"
     ]
    }
   ],
   "source": [
    "number = int(input(\"Enter a number: \"))\n",
    "\n",
    "if number > 0 and number % 2 == 0:\n",
    "    print(\"The number is positive and even.\")\n",
    "elif number < 0 or number % 2 != 0:\n",
    "    print(\"The number is negative or odd.\")\n",
    "else:\n",
    "    print(\"The number is zero.\")"
   ]
  },
  {
   "cell_type": "code",
   "execution_count": 37,
   "id": "96e90a1b-dde3-49ee-81e8-3043da11f99f",
   "metadata": {},
   "outputs": [
    {
     "name": "stdout",
     "output_type": "stream",
     "text": [
      "Enter a number:  2\n"
     ]
    },
    {
     "name": "stdout",
     "output_type": "stream",
     "text": [
      "The number is positive and even.\n"
     ]
    }
   ],
   "source": [
    "number = int(input(\"Enter a number: \"))\n",
    "\n",
    "if number > 0 and number % 2 == 0:\n",
    "    print(\"The number is positive and even.\")\n",
    "elif number < 0 or number % 2 != 0:\n",
    "    print(\"The number is negative or odd.\")\n",
    "else:\n",
    "    print(\"The number is zero.\")"
   ]
  },
  {
   "cell_type": "code",
   "execution_count": 39,
   "id": "423fa531-45cb-43cd-8cfa-4be7a4eb5aaa",
   "metadata": {},
   "outputs": [
    {
     "name": "stdout",
     "output_type": "stream",
     "text": [
      "Enter a number:  0\n"
     ]
    },
    {
     "name": "stdout",
     "output_type": "stream",
     "text": [
      "The number is zero.\n"
     ]
    }
   ],
   "source": [
    "number = int(input(\"Enter a number: \"))\n",
    "\n",
    "if number > 0 and number % 2 == 0:\n",
    "    print(\"The number is positive and even.\")\n",
    "elif number < 0 or number % 2 != 0:\n",
    "    print(\"The number is negative or odd.\")\n",
    "else:\n",
    "    print(\"The number is zero.\")"
   ]
  },
  {
   "cell_type": "code",
   "execution_count": 41,
   "id": "57e6757b-1a98-43bb-8bc1-1d1ae1581aed",
   "metadata": {},
   "outputs": [
    {
     "name": "stdout",
     "output_type": "stream",
     "text": [
      "Enter a number:  3\n"
     ]
    },
    {
     "name": "stdout",
     "output_type": "stream",
     "text": [
      "The number is positive.\n",
      "The number is odd.\n"
     ]
    }
   ],
   "source": [
    "number = int(input(\"Enter a number: \"))\n",
    "\n",
    "if number > 0:\n",
    "    print(\"The number is positive.\")\n",
    "    \n",
    "    if number % 2 == 0:\n",
    "        print(\"The number is even.\")\n",
    "    else:\n",
    "        print(\"The number is odd.\")\n",
    "        \n",
    "else:\n",
    "    print(\"The number is either zero or negative.\")"
   ]
  },
  {
   "cell_type": "code",
   "execution_count": 43,
   "id": "7e3fc2e1-844b-4b29-ae25-b548182c1a4d",
   "metadata": {},
   "outputs": [
    {
     "name": "stdout",
     "output_type": "stream",
     "text": [
      "Enter a number:  -3\n"
     ]
    },
    {
     "name": "stdout",
     "output_type": "stream",
     "text": [
      "The number is negative\n"
     ]
    }
   ],
   "source": [
    "number = int(input(\"Enter a number: \"))\n",
    "\n",
    "if number > 0:\n",
    "    print(\"The number is positive.\")\n",
    "    \n",
    "    if number % 2 == 0:\n",
    "        print(\"The number is even.\")\n",
    "    else:\n",
    "        print(\"The number is odd.\")\n",
    "elif number < 0:\n",
    "    print (\"The number is negative\")\n",
    "else:\n",
    "    print(\"The number is either zero\")"
   ]
  },
  {
   "cell_type": "code",
   "execution_count": 45,
   "id": "e33fcf16-79dd-4f2e-899f-0aa4938992e1",
   "metadata": {},
   "outputs": [
    {
     "name": "stdout",
     "output_type": "stream",
     "text": [
      "Enter a number:  -3\n"
     ]
    },
    {
     "name": "stdout",
     "output_type": "stream",
     "text": [
      "The number is negative\n",
      "The number is odd.\n"
     ]
    }
   ],
   "source": [
    "number = int(input(\"Enter a number: \"))\n",
    "\n",
    "if number > 0:\n",
    "    print(\"The number is positive.\")\n",
    "    \n",
    "    if number % 2 == 0:\n",
    "        print(\"The number is even.\")\n",
    "    else:\n",
    "        print(\"The number is odd.\")\n",
    "elif number < 0:\n",
    "    print (\"The number is negative\")\n",
    "        \n",
    "    if number % 2 == 0:\n",
    "        print(\"The number is even.\")\n",
    "    else:\n",
    "        print(\"The number is odd.\")\n",
    "else:\n",
    "    print(\"The number is either zero\")"
   ]
  },
  {
   "cell_type": "code",
   "execution_count": 1,
   "id": "118e91ad-ba4d-4628-8b48-eed2d7cdea5d",
   "metadata": {},
   "outputs": [
    {
     "name": "stdout",
     "output_type": "stream",
     "text": [
      "hi\n",
      "hello\n"
     ]
    }
   ],
   "source": [
    "def func(x='hello'):\n",
    "   print(x)\n",
    " \n",
    "func('hi')\n",
    "func()"
   ]
  },
  {
   "cell_type": "code",
   "execution_count": 5,
   "id": "a6a58bb1-606f-49af-beda-9d0ac6237259",
   "metadata": {},
   "outputs": [
    {
     "data": {
      "text/plain": [
       "1"
      ]
     },
     "execution_count": 5,
     "metadata": {},
     "output_type": "execute_result"
    }
   ],
   "source": [
    "nums = [1, 2, 3]\n",
    " \n",
    "(nums[0])"
   ]
  },
  {
   "cell_type": "code",
   "execution_count": 7,
   "id": "ba0672a1-b4bc-4ebf-892f-751fa226f7a6",
   "metadata": {},
   "outputs": [
    {
     "name": "stdout",
     "output_type": "stream",
     "text": [
      "[1, 2, 5]\n"
     ]
    }
   ],
   "source": [
    "numbers = [1, 2, 3, 4, 5]\n",
    "numbers[:4] = [1,2]\n",
    "print(numbers)"
   ]
  },
  {
   "cell_type": "code",
   "execution_count": 9,
   "id": "f2454958-4e1a-4428-a1df-2af140fda24e",
   "metadata": {},
   "outputs": [
    {
     "name": "stdout",
     "output_type": "stream",
     "text": [
      "[1, 2, 3]\n"
     ]
    }
   ],
   "source": [
    "numbers = [1, 2, 3, 4, 5]\n",
    "numbers[3:] = []\n",
    "print(numbers)"
   ]
  },
  {
   "cell_type": "code",
   "execution_count": 11,
   "id": "96afcefe-aa5c-4e1b-9d41-a322d5f42e65",
   "metadata": {},
   "outputs": [
    {
     "name": "stdout",
     "output_type": "stream",
     "text": [
      "[1, 2, 3, 4, 3, 5]\n"
     ]
    }
   ],
   "source": [
    "numbers = [1, 2, 3, 4, 5]\n",
    "numbers.insert(4,3)\n",
    "print(numbers)"
   ]
  },
  {
   "cell_type": "code",
   "execution_count": 13,
   "id": "9253335b-43fe-44ce-a217-9e796f08f516",
   "metadata": {},
   "outputs": [
    {
     "name": "stdout",
     "output_type": "stream",
     "text": [
      "[2, 3, 4, 5]\n"
     ]
    }
   ],
   "source": [
    "numbers = [1, 2, 3, 4, 5]\n",
    "print(numbers[1:])"
   ]
  },
  {
   "cell_type": "code",
   "execution_count": 15,
   "id": "0baeae38-7d29-461a-bbda-6c30f17ff88f",
   "metadata": {},
   "outputs": [
    {
     "name": "stdout",
     "output_type": "stream",
     "text": [
      "[2, 3]\n"
     ]
    }
   ],
   "source": [
    "numbers = [1, 2, 3, 4, 5]\n",
    "print(numbers[1:-2])"
   ]
  },
  {
   "cell_type": "code",
   "execution_count": 17,
   "id": "e5ba301f-a275-429c-81f2-81b7f9d5165f",
   "metadata": {},
   "outputs": [
    {
     "name": "stdout",
     "output_type": "stream",
     "text": [
      "[1, 2, 3, 1, 2, 3, 5]\n"
     ]
    }
   ],
   "source": [
    "numbers = [1, 2, 3, 4, 5]\n",
    "numbers[3:4] = [1,2,3]\n",
    "print(numbers)"
   ]
  },
  {
   "cell_type": "code",
   "execution_count": 19,
   "id": "19fa3659-776c-4918-94c1-a4f66a3d3b0a",
   "metadata": {},
   "outputs": [
    {
     "name": "stdout",
     "output_type": "stream",
     "text": [
      "[1, 3, 1, 2, 3]\n"
     ]
    }
   ],
   "source": [
    "numbers = [1, 2, 3, 1, 2, 3]\n",
    "numbers.remove(2)\n",
    "print(numbers)"
   ]
  },
  {
   "cell_type": "code",
   "execution_count": 21,
   "id": "f53a80dc-ba65-441d-8133-77e0c4991e0e",
   "metadata": {},
   "outputs": [
    {
     "name": "stdout",
     "output_type": "stream",
     "text": [
      "2\n"
     ]
    }
   ],
   "source": [
    "numbers = [1, 2, 3, 4, 5]\n",
    "print(numbers[1])"
   ]
  },
  {
   "cell_type": "code",
   "execution_count": 23,
   "id": "c901a76f-c17d-41fc-bb67-11f7ca1edf93",
   "metadata": {},
   "outputs": [
    {
     "name": "stdout",
     "output_type": "stream",
     "text": [
      "[1, 2, 1, 2, 3]\n"
     ]
    }
   ],
   "source": [
    "numbers = [1, 2, 3, 1, 2, 3]\n",
    "numbers.pop(2)\n",
    "print(numbers)"
   ]
  },
  {
   "cell_type": "code",
   "execution_count": 3,
   "id": "db84ccf4-983e-4d9f-b882-40373f06a7dd",
   "metadata": {},
   "outputs": [
    {
     "name": "stdout",
     "output_type": "stream",
     "text": [
      "Escribe un numero para saber si es positivo, negativo o neutro: 2\n"
     ]
    },
    {
     "name": "stdout",
     "output_type": "stream",
     "text": [
      "El número es postivo.\n"
     ]
    }
   ],
   "source": [
    "numero = int(input('Escribe un numero para saber si es positivo, negativo o neutro:'))\n",
    "if numero > 0:\n",
    "    print ('El número es postivo.')\n",
    "elif numero < 0:\n",
    "    print ('El número es negativo.')\n",
    "else:\n",
    "    print ('El numero es neutro.')\n"
   ]
  },
  {
   "cell_type": "code",
   "execution_count": 5,
   "id": "f003f83e-61ff-4cbd-84b6-19fdb76f3450",
   "metadata": {},
   "outputs": [
    {
     "name": "stdout",
     "output_type": "stream",
     "text": [
      "Introduce tu edad 42\n"
     ]
    },
    {
     "name": "stdout",
     "output_type": "stream",
     "text": [
      "Eres un/a adulto/a\n"
     ]
    }
   ],
   "source": [
    "edad = int(input('Introduce tu edad'))\n",
    "if edad > 0 and edad <= 12:\n",
    "    print ('Eres un/a niño/a')\n",
    "elif edad > 12 and edad <= 17:\n",
    "    print ('Eres un/a adolescente')\n",
    "elif edad > 17 and edad <= 64:\n",
    "    print ('Eres un/a adulto/a')\n",
    "else:\n",
    "    print ('Eres un/a adulto/a mayor')"
   ]
  },
  {
   "cell_type": "code",
   "execution_count": 7,
   "id": "b1f6616a-8712-4c68-ac55-2be6bfe246c2",
   "metadata": {},
   "outputs": [
    {
     "name": "stdout",
     "output_type": "stream",
     "text": [
      "Escribe un número y el programa contará hasta ese número: 5\n"
     ]
    },
    {
     "name": "stdout",
     "output_type": "stream",
     "text": [
      "1\n",
      "2\n",
      "3\n",
      "4\n",
      "5\n"
     ]
    }
   ],
   "source": [
    "numero = int(input('Escribe un número y el programa contará hasta ese número:'))\n",
    "contador = 1\n",
    "while contador <= numero:\n",
    "    print (contador)\n",
    "    contador += 1"
   ]
  },
  {
   "cell_type": "code",
   "execution_count": 15,
   "id": "d4287e9e-5dcb-4325-bc39-c83668568cec",
   "metadata": {},
   "outputs": [
    {
     "name": "stdout",
     "output_type": "stream",
     "text": [
      "Introduce un número positivo (o un número negativo para terminar):  3\n",
      "Introduce otro número (o un número negativo para terminar):  3\n",
      "Introduce otro número (o un número negativo para terminar):  3\n",
      "Introduce otro número (o un número negativo para terminar):  -2\n"
     ]
    },
    {
     "name": "stdout",
     "output_type": "stream",
     "text": [
      "La suma de los números positivos es: 9\n"
     ]
    }
   ],
   "source": [
    "\n",
    "numero = int(input(\"Introduce un número positivo (o un número negativo para terminar): \"))\n",
    "suma = 0\n",
    "while numero >= 0:\n",
    "    suma += numero\n",
    "    numero = int(input(\"Introduce otro número (o un número negativo para terminar): \"))\n",
    "\n",
    "print(\"La suma de los números positivos es:\", suma)"
   ]
  },
  {
   "cell_type": "code",
   "execution_count": 17,
   "id": "81c5f64c-52ea-46e8-b6c4-8ffad2ae430e",
   "metadata": {},
   "outputs": [
    {
     "name": "stdout",
     "output_type": "stream",
     "text": [
      "\n",
      "Menú:\n",
      "1. Sumar dos números\n",
      "2. Restar dos números\n",
      "3. Salir\n"
     ]
    },
    {
     "name": "stdout",
     "output_type": "stream",
     "text": [
      "Elige una opción:  1\n",
      "Introduce el primer número:  2\n",
      "Introduce el segundo número:  3\n"
     ]
    },
    {
     "name": "stdout",
     "output_type": "stream",
     "text": [
      "La suma es: 5.0\n",
      "\n",
      "Menú:\n",
      "1. Sumar dos números\n",
      "2. Restar dos números\n",
      "3. Salir\n"
     ]
    },
    {
     "name": "stdout",
     "output_type": "stream",
     "text": [
      "Elige una opción:  3\n"
     ]
    },
    {
     "name": "stdout",
     "output_type": "stream",
     "text": [
      "Saliendo del programa...\n"
     ]
    }
   ],
   "source": [
    "opcion = 0\n",
    "\n",
    "while opcion != 3:\n",
    "    print(\"Menú:\")\n",
    "    print(\"1. Sumar dos números\")\n",
    "    print(\"2. Restar dos números\")\n",
    "    print(\"3. Salir\")\n",
    "    \n",
    "    opcion = int(input(\"Elige una opción: \"))\n",
    "    \n",
    "    if opcion == 1:\n",
    "        num1 = float(input(\"Introduce el primer número: \"))\n",
    "        num2 = float(input(\"Introduce el segundo número: \"))\n",
    "        print(f\"La suma es: {num1 + num2}\")\n",
    "    elif opcion == 2:\n",
    "        num1 = float(input(\"Introduce el primer número: \"))\n",
    "        num2 = float(input(\"Introduce el segundo número: \"))\n",
    "        print(f\"La resta es: {num1 - num2}\")\n",
    "    elif opcion == 3:\n",
    "        print(\"Saliendo del programa...\")\n",
    "    else:\n",
    "        print(\"Opción no válida, por favor elige una opción del 1 al 3.\")"
   ]
  },
  {
   "cell_type": "code",
   "execution_count": 19,
   "id": "55edc7fe-eae8-481b-b120-9794d7fbdacf",
   "metadata": {},
   "outputs": [
    {
     "name": "stdout",
     "output_type": "stream",
     "text": [
      "Adivina el número (entre 1 y 100):  5\n"
     ]
    },
    {
     "name": "stdout",
     "output_type": "stream",
     "text": [
      "Demasiado bajo.\n"
     ]
    },
    {
     "name": "stdout",
     "output_type": "stream",
     "text": [
      "Adivina el número (entre 1 y 100):  29\n"
     ]
    },
    {
     "name": "stdout",
     "output_type": "stream",
     "text": [
      "Demasiado bajo.\n"
     ]
    },
    {
     "name": "stdout",
     "output_type": "stream",
     "text": [
      "Adivina el número (entre 1 y 100):  47\n"
     ]
    },
    {
     "name": "stdout",
     "output_type": "stream",
     "text": [
      "Demasiado bajo.\n"
     ]
    },
    {
     "name": "stdout",
     "output_type": "stream",
     "text": [
      "Adivina el número (entre 1 y 100):  58\n"
     ]
    },
    {
     "name": "stdout",
     "output_type": "stream",
     "text": [
      "Demasiado alto.\n"
     ]
    },
    {
     "name": "stdout",
     "output_type": "stream",
     "text": [
      "Adivina el número (entre 1 y 100):  55\n"
     ]
    },
    {
     "name": "stdout",
     "output_type": "stream",
     "text": [
      "Demasiado alto.\n"
     ]
    },
    {
     "name": "stdout",
     "output_type": "stream",
     "text": [
      "Adivina el número (entre 1 y 100):  52\n"
     ]
    },
    {
     "name": "stdout",
     "output_type": "stream",
     "text": [
      "¡Felicidades! Adivinaste el número.\n"
     ]
    }
   ],
   "source": [
    "import random\n",
    "\n",
    "numero_secreto = random.randint(1, 100)\n",
    "intento = None\n",
    "\n",
    "while intento != numero_secreto:\n",
    "    intento = int(input(\"Adivina el número (entre 1 y 100): \"))\n",
    "\n",
    "    if intento < numero_secreto:\n",
    "        print(\"Demasiado bajo.\")\n",
    "    elif intento > numero_secreto:\n",
    "        print(\"Demasiado alto.\")\n",
    "    else:\n",
    "        print(\"¡Felicidades! Adivinaste el número.\")"
   ]
  },
  {
   "cell_type": "code",
   "execution_count": 23,
   "id": "bf07cc9b-0b05-4903-ab68-50e0b2bab76d",
   "metadata": {},
   "outputs": [
    {
     "name": "stdout",
     "output_type": "stream",
     "text": [
      "Hi Diego from Madrid\n"
     ]
    }
   ],
   "source": [
    "def welcome (name, location):\n",
    "    print ('Hi',name, 'from', location)\n",
    "welcome ('Diego', 'Madrid')"
   ]
  },
  {
   "cell_type": "code",
   "execution_count": 25,
   "id": "c678e128-0c29-4176-8165-9b7f8fd2df34",
   "metadata": {},
   "outputs": [
    {
     "name": "stdout",
     "output_type": "stream",
     "text": [
      "5\n"
     ]
    }
   ],
   "source": [
    "def add(a,b):\n",
    "    return (a+b)\n",
    "result = add(2,3)\n",
    "print(result)"
   ]
  },
  {
   "cell_type": "code",
   "execution_count": 27,
   "id": "a0c4a806-2ea2-477a-9125-bc56aeeaeee9",
   "metadata": {},
   "outputs": [
    {
     "name": "stdout",
     "output_type": "stream",
     "text": [
      "....\n"
     ]
    }
   ],
   "source": [
    "def optional_greeter(name):\n",
    "    if name.startswith('X'):\n",
    "        # We don't greet people with weird names :p\n",
    "        print('....')\n",
    "    else:\n",
    "        print('Hi there, ', name)\n",
    "optional_greeter('Xander')"
   ]
  },
  {
   "cell_type": "code",
   "execution_count": 35,
   "id": "8e747706-5f72-48ba-a538-17b9eefa2829",
   "metadata": {},
   "outputs": [
    {
     "name": "stdout",
     "output_type": "stream",
     "text": [
      "Hi Diego , welcome to your house\n"
     ]
    }
   ],
   "source": [
    "def welcome (name = 'learner', location = 'this tutorial'):\n",
    "    print ('Hi',name,', welcome to',location)\n",
    "welcome('Diego','your house')"
   ]
  },
  {
   "cell_type": "code",
   "execution_count": 37,
   "id": "d833d300-773b-4e14-9020-11a7068ac078",
   "metadata": {},
   "outputs": [
    {
     "name": "stdout",
     "output_type": "stream",
     "text": [
      "Hi Diego , welcome to your house\n"
     ]
    }
   ],
   "source": [
    "def welcome (name = 'learner', location = 'this tutorial'):\n",
    "    print ('Hi',name,', welcome to',location)\n",
    "welcome(name = 'Diego',location = 'your house')"
   ]
  },
  {
   "cell_type": "code",
   "execution_count": 3,
   "id": "252b082d-6c0f-47d3-988c-bbfb3198b532",
   "metadata": {},
   "outputs": [
    {
     "name": "stdout",
     "output_type": "stream",
     "text": [
      "[2, 4, 6, 8]\n"
     ]
    }
   ],
   "source": [
    "numbers = [1, 2, 3, 4, 5, 6, 7, 8, 9]\n",
    "\n",
    "for num in numbers:\n",
    "    if num % 2 != 0:\n",
    "        numbers.remove(num)\n",
    "\n",
    "print(numbers)"
   ]
  },
  {
   "cell_type": "code",
   "execution_count": 17,
   "id": "7bdf5524-9d52-47c2-9800-caa90cae0081",
   "metadata": {},
   "outputs": [
    {
     "name": "stdout",
     "output_type": "stream",
     "text": [
      "La suma de todos los numeros es: 2550\n"
     ]
    }
   ],
   "source": [
    "\"\"\"\n",
    "Escribe un programa que sume todos los números pares entre 1 y 100.\n",
    "Pistas:\n",
    "Usa un bucle for o while.\n",
    "Usa el operador % para verificar si un número es par. \"\"\"\n",
    "suma = 0\n",
    "for i in range (1,101):\n",
    "    if i %2 == 0:\n",
    "        suma = suma + i\n",
    "print ('La suma de todos los numeros es:',suma)"
   ]
  },
  {
   "cell_type": "code",
   "execution_count": 19,
   "id": "4599c5ec-9e95-4329-8aab-84e40222dcb1",
   "metadata": {},
   "outputs": [
    {
     "name": "stdout",
     "output_type": "stream",
     "text": [
      "odnuM aloH\n"
     ]
    }
   ],
   "source": [
    "\"\"\"\n",
    "Escribe un programa que tome una cadena de texto como entrada y devuelva la cadena invertida.\n",
    "Ejemplo:\n",
    "Entrada: \"Hola Mundo\"\n",
    "Salida: \"odnuM aloH\"\n",
    "Pistas:\n",
    "Usa slicing (cadena[::-1]) para invertir la cadena.\n",
    "Puedes también usar un bucle for para construir la cadena invertida.\n",
    "\"\"\"\n",
    "cadena = \"Hola Mundo\"\n",
    "cadena_invertida = cadena [::-1]\n",
    "print (cadena_invertida)"
   ]
  },
  {
   "cell_type": "code",
   "execution_count": 25,
   "id": "5d636e17-efed-4555-a8b9-2cc393f6d950",
   "metadata": {},
   "outputs": [
    {
     "name": "stdout",
     "output_type": "stream",
     "text": [
      "90\n",
      "2\n"
     ]
    }
   ],
   "source": [
    "lst = [34, 67, 23, 90, 2, 78, 56]\n",
    "max_lst = max(lst)\n",
    "min_lst = min(lst)\n",
    "print(max_lst)\n",
    "print(min_lst)"
   ]
  },
  {
   "cell_type": "code",
   "execution_count": 27,
   "id": "d61ba951-9f61-464f-b1af-4e746a30d8d5",
   "metadata": {},
   "outputs": [
    {
     "name": "stdout",
     "output_type": "stream",
     "text": [
      "{1, 2, 3, 4, 5, 6}\n"
     ]
    }
   ],
   "source": [
    "lst = [1, 2, 2, 3, 4, 4, 5, 6, 6, 6]\n",
    "new_lst = set(lst)\n",
    "print (new_lst)"
   ]
  },
  {
   "cell_type": "code",
   "execution_count": 3,
   "id": "90b7d4b1-7295-4ca9-a2e3-38792d4eeae0",
   "metadata": {},
   "outputs": [
    {
     "name": "stdout",
     "output_type": "stream",
     "text": [
      "Choose a number to multiplicate 5\n"
     ]
    },
    {
     "name": "stdout",
     "output_type": "stream",
     "text": [
      "5 x 1 = 5\n",
      "5 x 2 = 10\n",
      "5 x 3 = 15\n",
      "5 x 4 = 20\n",
      "5 x 5 = 25\n",
      "5 x 6 = 30\n",
      "5 x 7 = 35\n",
      "5 x 8 = 40\n",
      "5 x 9 = 45\n",
      "5 x 10 = 50\n"
     ]
    }
   ],
   "source": [
    "num = int (input ('Choose a number to multiplicate'))\n",
    "for i in range (1,11):\n",
    "    print(f\"{num} x {i} = {num * i}\")"
   ]
  },
  {
   "cell_type": "code",
   "execution_count": 5,
   "id": "29f38b43-9bf8-4ca8-b129-b7a1dd9350d1",
   "metadata": {},
   "outputs": [
    {
     "name": "stdout",
     "output_type": "stream",
     "text": [
      "Introduce una cadena de texto:  Hola como estas?\n"
     ]
    },
    {
     "name": "stdout",
     "output_type": "stream",
     "text": [
      "El número de palabras en la cadena es: 3\n"
     ]
    }
   ],
   "source": [
    "texto = input(\"Introduce una cadena de texto: \")\n",
    "\n",
    "# Dividimos la cadena en palabras usando split()\n",
    "palabras = texto.split()\n",
    "\n",
    "# Contamos el número de palabras (elementos en la lista)\n",
    "numero_palabras = len(palabras)\n",
    "\n",
    "# Imprimimos el resultado\n",
    "print(\"El número de palabras en la cadena es:\", numero_palabras)\n"
   ]
  }
 ],
 "metadata": {
  "kernelspec": {
   "display_name": "Python 3 (ipykernel)",
   "language": "python",
   "name": "python3"
  },
  "language_info": {
   "codemirror_mode": {
    "name": "ipython",
    "version": 3
   },
   "file_extension": ".py",
   "mimetype": "text/x-python",
   "name": "python",
   "nbconvert_exporter": "python",
   "pygments_lexer": "ipython3",
   "version": "3.12.4"
  }
 },
 "nbformat": 4,
 "nbformat_minor": 5
}
