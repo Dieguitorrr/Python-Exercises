{
 "cells": [
  {
   "cell_type": "markdown",
   "metadata": {},
   "source": [
    "## Exercises"
   ]
  },
  {
   "cell_type": "markdown",
   "metadata": {},
   "source": [
    "### 1. Excercise - Data Types "
   ]
  },
  {
   "cell_type": "markdown",
   "metadata": {},
   "source": [
    "**1.1** For the given variables, use the `type()` function in Python to check their data types:"
   ]
  },
  {
   "cell_type": "code",
   "execution_count": null,
   "metadata": {},
   "outputs": [],
   "source": [
    "x1 = 1.1\n",
    "\n",
    "x2 = \"Ironhack\"\n",
    "\n",
    "x3 = \"1.1\"\n",
    "\n",
    "x4 = True \n",
    "\n",
    "x5 = \"True\"\n",
    "\n",
    "x6 = -1"
   ]
  },
  {
   "cell_type": "code",
   "execution_count": null,
   "metadata": {},
   "outputs": [],
   "source": []
  },
  {
   "cell_type": "markdown",
   "metadata": {},
   "source": [
    "**2. What is the difference between the variables `x1` and `x3`?**"
   ]
  },
  {
   "cell_type": "code",
   "execution_count": null,
   "metadata": {},
   "outputs": [],
   "source": [
    "#x1 is an integer while x3 is a string"
   ]
  },
  {
   "cell_type": "markdown",
   "metadata": {},
   "source": [
    "**3.Substract `x3` from `x1`. Explain what happens.**"
   ]
  },
  {
   "cell_type": "code",
   "execution_count": null,
   "metadata": {},
   "outputs": [],
   "source": [
    "#gives back an error as they are different types and not compatible"
   ]
  },
  {
   "cell_type": "markdown",
   "metadata": {},
   "source": [
    "**4. What is the difference between the variables `x4` and `x5`?**"
   ]
  },
  {
   "cell_type": "code",
   "execution_count": null,
   "metadata": {},
   "outputs": [],
   "source": [
    "#x4 is a bollean and x5 is a string as it is using quotes"
   ]
  },
  {
   "cell_type": "markdown",
   "metadata": {},
   "source": [
    "**5.Substract `x4` from `x5`. Explain what happens.**"
   ]
  },
  {
   "cell_type": "code",
   "execution_count": null,
   "metadata": {},
   "outputs": [],
   "source": [
    "#gives back an error as they are different types and not compatible"
   ]
  },
  {
   "cell_type": "markdown",
   "metadata": {},
   "source": [
    "### 2. Exercise - Operators"
   ]
  },
  {
   "cell_type": "markdown",
   "metadata": {},
   "source": [
    "**2.1** In this problem, we will demonstrate how to take user input. To gather input from the user, we can use the `input(message)` function, where *message* is a message of type *string* that will be displayed to the user. \n",
    "\n",
    "```py\n",
    "x1 = input(\"Please enter an integer number: \")\n",
    "x2 = input(\"Please enter another integer number: \")\n",
    "```"
   ]
  },
  {
   "cell_type": "markdown",
   "metadata": {},
   "source": [
    "**Observation:** When you run two or more lines of code in the same cell, or in different cells, in Jupyter Notebook, it will be executed one at a time, in sequence. \n",
    "In this exercise, each of the `input()` functions will create a cell box where you can enter a value and press Enter to confirm. You can identify these input cells because they have a star symbol on the left side as shown [here](https://education-team-2020.s3.eu-west-1.amazonaws.com/data-analytics/prework/unit1/input_function.png), indicating that the computer is waiting for your input (or executing code).\n",
    "After you enter a value, the star symbol will disappear, and the next `input()` function will be executed, displaying a new cell box with a star symbol for the next input. It's important to note that **while an input cell has a star symbol, it will prevent you from running other cells** (if you have the default  settings on your Jupyter Notebook environment)."
   ]
  },
  {
   "cell_type": "markdown",
   "metadata": {},
   "source": [
    "**_Question 1_**: \n",
    "\n",
    "Use the code provided above and ask the user to input two numbers. Then, print the values of the two variables. What is the type of `x1` and `x2`? Don't just answer by looking at it's value, use the function `type()` to do so."
   ]
  },
  {
   "cell_type": "code",
   "execution_count": 7,
   "metadata": {
    "scrolled": true
   },
   "outputs": [
    {
     "name": "stdin",
     "output_type": "stream",
     "text": [
      "Please enter an integer number:  1\n",
      "Please enter another integer number:  2\n"
     ]
    },
    {
     "data": {
      "text/plain": [
       "str"
      ]
     },
     "execution_count": 7,
     "metadata": {},
     "output_type": "execute_result"
    }
   ],
   "source": [
    "x1 = input(\"Please enter an integer number: \")\n",
    "x2 = input(\"Please enter another integer number: \")\n",
    "type (x1)\n",
    "type (x2)"
   ]
  },
  {
   "cell_type": "markdown",
   "metadata": {},
   "source": [
    "Even though we entered *integers*, the `input()` function converts them into *strings* **by default** (it's the way the function `input()` is defined). Now we will perform data type conversion from *string* to *integer*. Use the `int()` function to do so. Print again the values after performing data type conversion and the corresponding type."
   ]
  },
  {
   "cell_type": "code",
   "execution_count": 11,
   "metadata": {},
   "outputs": [
    {
     "name": "stdout",
     "output_type": "stream",
     "text": [
      "1\n"
     ]
    }
   ],
   "source": [
    "num_int1 = int(x1)\n",
    "num_int2 = int(x2)"
   ]
  },
  {
   "cell_type": "markdown",
   "metadata": {},
   "source": [
    "**_Question 2_**: \n",
    "\n",
    "Perform the following simple comparisons, using operators:\n",
    "\n",
    "- Check if the two variables are equal.\n",
    "- Check if `x1` is greater than `x2`.\n",
    "- Check if `x2` is greater than `x1`.\n",
    "- Check if `x1` is not equal to `x2`.\n",
    "\n",
    "Store the difference between `x1` and `x2` in another variable `x3` (subtract the smaller number from the larger number). \n",
    "\n",
    "Increment the smaller of the two variables (`x1` and `x2`) with the difference. Use the shorthand addition operator for the same. Again check if `x1` and `x2` are equal or not.\n"
   ]
  },
  {
   "cell_type": "code",
   "execution_count": 35,
   "metadata": {},
   "outputs": [
    {
     "data": {
      "text/plain": [
       "True"
      ]
     },
     "execution_count": 35,
     "metadata": {},
     "output_type": "execute_result"
    }
   ],
   "source": [
    "x1 > x2"
   ]
  },
  {
   "cell_type": "code",
   "execution_count": 37,
   "metadata": {},
   "outputs": [
    {
     "data": {
      "text/plain": [
       "False"
      ]
     },
     "execution_count": 37,
     "metadata": {},
     "output_type": "execute_result"
    }
   ],
   "source": [
    "x2 > x1"
   ]
  },
  {
   "cell_type": "code",
   "execution_count": 40,
   "metadata": {},
   "outputs": [
    {
     "data": {
      "text/plain": [
       "True"
      ]
     },
     "execution_count": 40,
     "metadata": {},
     "output_type": "execute_result"
    }
   ],
   "source": [
    "x1 != x2"
   ]
  },
  {
   "cell_type": "code",
   "execution_count": 9,
   "metadata": {},
   "outputs": [
    {
     "name": "stdout",
     "output_type": "stream",
     "text": [
      "1\n"
     ]
    }
   ],
   "source": [
    "x3 = 2 - 1\n",
    "print (x3)"
   ]
  },
  {
   "cell_type": "markdown",
   "metadata": {},
   "source": [
    "## 3. Exercise - Concatenation\n",
    "\n",
    "Write a program that asks the user to enter their first name and last name as separate strings. Concatenate the two strings and display a greeting message, such as \"Hello, John Doe!\"."
   ]
  },
  {
   "cell_type": "code",
   "execution_count": 33,
   "metadata": {},
   "outputs": [
    {
     "name": "stdin",
     "output_type": "stream",
     "text": [
      "Please enter name Diego\n",
      "Please enter surname Alonso\n"
     ]
    },
    {
     "name": "stdout",
     "output_type": "stream",
     "text": [
      "Hello, Diego Alonso!\n"
     ]
    }
   ],
   "source": [
    "x1 = input(\"Please enter name\")\n",
    "x2 = input(\"Please enter surname\")\n",
    "print (\"Hello, \" + x1 + \" \" + x2 + \"!\")"
   ]
  },
  {
   "cell_type": "raw",
   "metadata": {},
   "source": [
    "Not Included in Pre-Work Assessment\n",
    "\n",
    "The following content provides additional information on the topic but will not be covered in the pre-work assessment. It serves as supplementary material to enhance your understanding beyond the assessment requirements."
   ]
  },
  {
   "cell_type": "code",
   "execution_count": null,
   "metadata": {},
   "outputs": [],
   "source": [
    "# We will talk about these later in the bootcamp. The definitions are below for your reference."
   ]
  },
  {
   "cell_type": "code",
   "execution_count": null,
   "metadata": {},
   "outputs": [],
   "source": [
    "x = 10\n",
    "y = 5"
   ]
  },
  {
   "cell_type": "markdown",
   "metadata": {},
   "source": [
    "### Identity Operator"
   ]
  },
  {
   "cell_type": "markdown",
   "metadata": {},
   "source": [
    "Identity operators are used to compare the identity of two objects in Python. They determine whether two variables or values refer to the same object in memory."
   ]
  },
  {
   "cell_type": "markdown",
   "metadata": {},
   "source": [
    "Understanding Object Identity:\n",
    "\n",
    "In Python, objects are stored in memory, and variables hold references (or pointers) to those objects. When we use identity operators, we are comparing the memory addresses of the objects to check if they are the same."
   ]
  },
  {
   "cell_type": "markdown",
   "metadata": {},
   "source": [
    "**is**: The is operator checks if two variables refer to the same object."
   ]
  },
  {
   "cell_type": "markdown",
   "metadata": {},
   "source": [
    "Returns `True` if both variables are the same object.\n",
    "The `x` is the `y`. Otherwise returns False."
   ]
  },
  {
   "cell_type": "code",
   "execution_count": null,
   "metadata": {},
   "outputs": [],
   "source": [
    "x is y"
   ]
  },
  {
   "cell_type": "markdown",
   "metadata": {},
   "source": [
    "**is not**: The is not operator checks if two variables do not refer to the same object."
   ]
  },
  {
   "cell_type": "markdown",
   "metadata": {},
   "source": [
    "Returns `True` if both variables are not the same object.\n",
    "`x` is not `y`."
   ]
  },
  {
   "cell_type": "code",
   "execution_count": null,
   "metadata": {},
   "outputs": [],
   "source": [
    "x is not y"
   ]
  },
  {
   "cell_type": "markdown",
   "metadata": {},
   "source": [
    "The is operator checks if two variables refer to the same object.\n",
    "\n",
    "The is not operator checks if two variables do not refer to the same object."
   ]
  },
  {
   "cell_type": "markdown",
   "metadata": {},
   "source": [
    "### Membership Operator"
   ]
  },
  {
   "cell_type": "markdown",
   "metadata": {},
   "source": [
    "Membership operators are used to test the membership of a value in a sequence (such as a string, list, tuple, or set) in Python. They determine whether a value is present or not in the given sequence."
   ]
  },
  {
   "cell_type": "code",
   "execution_count": null,
   "metadata": {},
   "outputs": [],
   "source": [
    "a = 'I'\n",
    "b = 'Ironhack'"
   ]
  },
  {
   "cell_type": "markdown",
   "metadata": {},
   "source": [
    "**in**: The in operator checks if a value exists in a sequence."
   ]
  },
  {
   "cell_type": "markdown",
   "metadata": {},
   "source": [
    "Returns `True` if a sequence with the specified value is present in the object.\n",
    "`x` in `y`."
   ]
  },
  {
   "cell_type": "code",
   "execution_count": null,
   "metadata": {},
   "outputs": [],
   "source": [
    "a in b"
   ]
  },
  {
   "cell_type": "markdown",
   "metadata": {},
   "source": [
    "**not in**: The not in operator checks if a value does not exist in a sequence."
   ]
  },
  {
   "cell_type": "markdown",
   "metadata": {},
   "source": [
    "Returns `True` if a sequence with the specified value is not present in the object.\n",
    "`x` not in `y`."
   ]
  },
  {
   "cell_type": "code",
   "execution_count": null,
   "metadata": {},
   "outputs": [],
   "source": [
    "a not in b"
   ]
  },
  {
   "cell_type": "markdown",
   "metadata": {},
   "source": [
    "Membership operators perform membership testing by checking if a value matches any element in the given sequence. They return a boolean value (True or False) based on the test result."
   ]
  }
 ],
 "metadata": {
  "kernelspec": {
   "display_name": "Python 3 (ipykernel)",
   "language": "python",
   "name": "python3"
  },
  "language_info": {
   "codemirror_mode": {
    "name": "ipython",
    "version": 3
   },
   "file_extension": ".py",
   "mimetype": "text/x-python",
   "name": "python",
   "nbconvert_exporter": "python",
   "pygments_lexer": "ipython3",
   "version": "3.12.4"
  }
 },
 "nbformat": 4,
 "nbformat_minor": 4
}
