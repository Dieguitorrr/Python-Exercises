{
 "cells": [
  {
   "cell_type": "markdown",
   "metadata": {
    "tags": []
   },
   "source": [
    "### Exercise - Writing Pseudocode"
   ]
  },
  {
   "cell_type": "markdown",
   "metadata": {},
   "source": [
    "To make the code more robust and improve the user experience, write pseudocode and code to add the following enhancements to the last example provided:\n",
    "\n",
    "- Implement a validation loop: After prompting the user for input, we can use a loop to keep asking for the value until a valid one is entered. This ensures that the program does not proceed with incorrect inputs. For example, if the user enters \"3\" instead of \"1\" or \"2\", the program will continue to prompt for the correct choice.\n",
    "\n",
    "- Bonus: Add more input validation. If the user enters a non-numerical value, we can display an error message and prompt for input again.\n",
    "\n",
    "    *Hint:*\n",
    "    - *To remove any leading or trailing spaces from the user's input, you can use the `lstrip()` method. This will remove any spaces from the left side of the input string. Example: input_string = input_string.lstrip(). Also, this method takes an optional argument where you can specify the characters you want to remove from the left side of the string. Example: input_string = input_string.lstrip(\"symbol_to_remove\")*\n",
    "\n",
    "    - *To replace a specific character or substring within a string, you can use the `replace()` method. This method takes two arguments: the old substring you want to replace and the new substring you want to replace it with. Example: input_string = input_string.replace(\"old_value\", \"new_value\")*\n",
    "\n",
    "    - *To check if a string consists only of numerical digits, you can use the `isdigit()` method. This method returns True if all the characters in the string are digits, and False otherwise. Example: is_numeric = input_string.isdigit()*"
   ]
  },
  {
   "cell_type": "raw",
   "metadata": {},
   "source": [
    "\n",
    "1. Display \"Enter 1 to convert from Fahrenheit to Celsius or 2 to convert from Celsius to Fahrenheit:\"\n",
    "2. Read user input and assign it to the variable 'choice'\n",
    "3. Validate that choice is valid defining get_valid_choice variable and using while loop \n",
    "4. The loop asks for the correct until the \n",
    "5. If 'choice' input is equal to 1, go to step Display \"Enter the temperature in Fahrenheit:\"\n",
    "6. Read user input and assign it to the variable 'fahrenheit'\n",
    "7. Validate that temperature is correct and is a number using isdigit() and allowing decimals using replace(\".\",\"\") if correct go 9\n",
    "8. If its not correct prompt user w/ an error mesage and ask for number, validate w/ 7\n",
    "9. Convert 'fahrenheit' to Celsius using the formula: celsius = (fahrenheit - 32) * 5/9\n",
    "10. If 'choice' is equal to 2, Display \"Enter the temperature in Celsius:\"\n",
    "11. Read user input and assign it to the variable 'celsius'\n",
    "12. Validate that temperature is correct and is a number using isdigit() and replace(\".\",\"\") for decimals, if correct go to 14\n",
    "13. If its not correct prompt user w/ an error mesage and ask for number, validate w/ 12\n",
    "14. Convert 'celsius' to Fahrenheit using the formula: fahrenheit = (celsius * 9/5) + 32\n",
    "15. Display \"The converted temperature is \" + fahrenheit + \" degrees Fahrenheit\" (if 'choice' was 1) or \" degrees Celsius\" (if 'choice' was 2)"
   ]
  },
  {
   "cell_type": "code",
   "execution_count": 31,
   "metadata": {},
   "outputs": [
    {
     "name": "stdin",
     "output_type": "stream",
     "text": [
      "Enter 1 to convert from Fahrenheit to Celsius or 2 to convert from Celsius to Fahrenheit: 2\n",
      "What is the number you want to convert?:  35\n"
     ]
    },
    {
     "name": "stdout",
     "output_type": "stream",
     "text": [
      "The converted temperature is 95.0 degrees Fahrenheit\n"
     ]
    }
   ],
   "source": [
    "def valid_choice():\n",
    "    \"\"\"\n",
    "    Prompt the user to enter a valid choice for temperature conversion.\n",
    "    \"\"\"\n",
    "    while True:\n",
    "        choice = input(\"Enter 1 to convert from Fahrenheit to Celsius or 2 to convert from Celsius to Fahrenheit:\").lstrip(\" \")\n",
    "        if choice.isdigit() and choice in {'1', '2'}:\n",
    "            return int(choice)\n",
    "        else:\n",
    "            print(\"Invalid choice. Please enter 1 or 2.\")\n",
    "\n",
    "def valid_temperature(prompt):\n",
    "    \"\"\"\n",
    "    Prompt the user to enter a valid temperature value.\n",
    "    \"\"\"\n",
    "    while True:\n",
    "        temp = input(prompt).lstrip()\n",
    "        if temp.replace('.','').isdigit():\n",
    "            return float(temp)\n",
    "        else:\n",
    "            print(\"Please enter a numerical value.\")\n",
    "\n",
    "choice = valid_choice()\n",
    "#Fahrenheit to Celsius\n",
    "if choice == 1:\n",
    "    fahrenheit = valid_temperature(\"What is the number you want to convert?: \")\n",
    "    celsius = (fahrenheit - 32) * 5 / 9\n",
    "    print(f\"The converted temperature is {celsius:} degrees Celsius\")\n",
    "#Celsius to Fahrenheit\n",
    "elif choice == 2:\n",
    "    celsius = valid_temperature(\"What is the number you want to convert?: \")\n",
    "    fahrenheit = (celsius * 9 / 5) + 32\n",
    "    print(f\"The converted temperature is {fahrenheit:} degrees Fahrenheit\")"
   ]
  },
  {
   "cell_type": "code",
   "execution_count": null,
   "metadata": {},
   "outputs": [],
   "source": []
  }
 ],
 "metadata": {
  "kernelspec": {
   "display_name": "Python 3 (ipykernel)",
   "language": "python",
   "name": "python3"
  },
  "language_info": {
   "codemirror_mode": {
    "name": "ipython",
    "version": 3
   },
   "file_extension": ".py",
   "mimetype": "text/x-python",
   "name": "python",
   "nbconvert_exporter": "python",
   "pygments_lexer": "ipython3",
   "version": "3.12.4"
  }
 },
 "nbformat": 4,
 "nbformat_minor": 4
}
