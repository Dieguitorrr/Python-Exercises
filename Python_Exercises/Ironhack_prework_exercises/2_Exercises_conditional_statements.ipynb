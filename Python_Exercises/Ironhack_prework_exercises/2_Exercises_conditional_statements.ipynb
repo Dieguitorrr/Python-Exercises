{
 "cells": [
  {
   "cell_type": "markdown",
   "metadata": {},
   "source": [
    "## Exercises"
   ]
  },
  {
   "cell_type": "markdown",
   "metadata": {},
   "source": [
    "1. Write a program that prompts the user to enter two numbers and determines which number is larger or if they are equal."
   ]
  },
  {
   "cell_type": "code",
   "execution_count": 3,
   "metadata": {},
   "outputs": [
    {
     "name": "stdout",
     "output_type": "stream",
     "text": [
      "b is greater\n"
     ]
    }
   ],
   "source": [
    "a = 2\n",
    "b = 5\n",
    "if b > a: \n",
    "    print('b is greater')    \n",
    "else:\n",
    "    print (\"a is greater\")"
   ]
  },
  {
   "cell_type": "markdown",
   "metadata": {},
   "source": [
    "2. Write a program that prompts the user to enter a numerical grade and prints the corresponding grade classification according to the following criteria:\n",
    "\n",
    "- Grades 90 and above: \"A\"\n",
    "- Grades 80-89: \"B\"\n",
    "- Grades 70-79: \"C\"\n",
    "- Grades 60-69: \"D\"\n",
    "- Grades below 60: \"F\""
   ]
  },
  {
   "cell_type": "code",
   "execution_count": 7,
   "metadata": {},
   "outputs": [
    {
     "name": "stdin",
     "output_type": "stream",
     "text": [
      "Enter tyour grade:  68\n"
     ]
    },
    {
     "name": "stdout",
     "output_type": "stream",
     "text": [
      "Your grade is: D\n"
     ]
    }
   ],
   "source": [
    "grade = float(input(\"Enter tyour grade: \"))\n",
    "\n",
    "if grade >= 90:\n",
    "    grade = \"A\"\n",
    "elif grade >= 80:\n",
    "    grade = \"B\"\n",
    "elif grade >= 70:\n",
    "    grade = \"C\"\n",
    "elif grade>= 60:\n",
    "    grade = \"D\"\n",
    "else:\n",
    "    grade = \"F\"\n",
    "\n",
    "print(\"Your grade is:\", grade)"
   ]
  },
  {
   "cell_type": "markdown",
   "metadata": {},
   "source": [
    "3. Write a program that prompts the user to enter a letter of the alphabet and determines whether it is a vowel or a consonant. Consider both uppercase and lowercase letters.\n",
    "\n",
    "Hint:\n",
    "\n",
    "Convert the letter to lowercase using the lower() method to handle both uppercase and lowercase letters.\n",
    "\n",
    "The lower() method is a built-in string method in Python that returns a new string with all the characters converted to lowercase. Here's how it works:\n",
    "```python\n",
    "string.lower()\n",
    "```\n",
    "\n",
    "The lower() method returns a new string with all the characters converted to lowercase. The original string remains unchanged. This means that you should save the result in a variable."
   ]
  },
  {
   "cell_type": "markdown",
   "metadata": {},
   "source": [
    "Example:\n",
    "\n",
    "```python\n",
    "message = \"Hello, World!\"\n",
    "lowercase_message = message.lower()\n",
    "print(lowercase_message)  # Output: hello, world!\n",
    "```"
   ]
  },
  {
   "cell_type": "markdown",
   "metadata": {},
   "source": [
    "In this example, the string \"Hello, World!\" is assigned to the variable message. When we call the lower() method on message, it returns a new string \"hello, world!\" with all the characters converted to lowercase. We then assign this new string to the variable lowercase_message and print its value."
   ]
  },
  {
   "cell_type": "markdown",
   "metadata": {},
   "source": [
    "The lower() method is often used to perform case-insensitive comparisons. By converting all characters to lowercase, we can compare strings without worrying about differences in letter case."
   ]
  },
  {
   "cell_type": "code",
   "execution_count": 63,
   "metadata": {},
   "outputs": [
    {
     "name": "stdin",
     "output_type": "stream",
     "text": [
      "Please enter a letter of the alphabet:  A\n"
     ]
    },
    {
     "name": "stdout",
     "output_type": "stream",
     "text": [
      "letter is vowel\n"
     ]
    }
   ],
   "source": [
    "letter = input(\"Please enter a letter of the alphabet: \")\n",
    "lowercase_letter = letter.lower()\n",
    "if letter == \"a\" or \"e\" or \"i\" or \"o\" or \"u\":\n",
    "    print (\"letter is vowel\")\n",
    "else:\n",
    "    print (\"letter is a consonant\")"
   ]
  },
  {
   "cell_type": "markdown",
   "metadata": {},
   "source": [
    "**Bonus Exercise** \n",
    "\n",
    "We want the user to input a number and check if the number is even, odd, or zero. But we want to ensure the code handles invalid input, such as the user entering text. To do so, follow these steps:\n",
    "\n",
    "1. Prompt the user to enter an integer.\n",
    "\n",
    "2. Before proceeding further, check if the entered input is a valid number using appropriate validation techniques. If the input is not a number (i.e., it contains letters or symbols), print a message indicating that the input was not an integer.\n",
    "\n",
    "3. If the input is a number, perform the following checks:\n",
    "\n",
    "- If the number is zero, print a message indicating that the number is zero.\n",
    "- If the number is even (i.e., divisible by 2 with no remainder), print a message indicating that the number is even.\n",
    "- If the number is odd (i.e., not divisible by 2), print a message indicating that the number is odd.\n",
    "\n",
    "Hint: search for the method *isdigit()*."
   ]
  },
  {
   "cell_type": "code",
   "execution_count": 193,
   "metadata": {},
   "outputs": [
    {
     "name": "stdin",
     "output_type": "stream",
     "text": [
      "Please enter an number:  3\n"
     ]
    },
    {
     "name": "stdout",
     "output_type": "stream",
     "text": [
      "The number is odd.\n"
     ]
    }
   ],
   "source": [
    "x = input(\"Please enter an number: \")\n",
    "if x.isdigit():\n",
    "    number = int(x)\n",
    "    if number == 0:\n",
    "        print(\"The number is zero.\")\n",
    "    elif number % 2 == 0:\n",
    "        print(\"The number is even.\")\n",
    "    else:\n",
    "        print(\"The number is odd.\")\n",
    "else:\n",
    "    print(\" That is not an number.\")"
   ]
  },
  {
   "cell_type": "code",
   "execution_count": null,
   "metadata": {},
   "outputs": [],
   "source": []
  }
 ],
 "metadata": {
  "kernelspec": {
   "display_name": "Python 3 (ipykernel)",
   "language": "python",
   "name": "python3"
  },
  "language_info": {
   "codemirror_mode": {
    "name": "ipython",
    "version": 3
   },
   "file_extension": ".py",
   "mimetype": "text/x-python",
   "name": "python",
   "nbconvert_exporter": "python",
   "pygments_lexer": "ipython3",
   "version": "3.12.4"
  }
 },
 "nbformat": 4,
 "nbformat_minor": 4
}
