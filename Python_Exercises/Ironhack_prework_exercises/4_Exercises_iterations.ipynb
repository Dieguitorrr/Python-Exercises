{
 "cells": [
  {
   "cell_type": "markdown",
   "metadata": {
    "tags": []
   },
   "source": [
    "# Exercises"
   ]
  },
  {
   "cell_type": "markdown",
   "metadata": {
    "id": "hD_jWzm_D6Ob"
   },
   "source": [
    "## 1. Exercise - Simple Iterations "
   ]
  },
  {
   "cell_type": "markdown",
   "metadata": {
    "id": "i82gPbNaD6Oc"
   },
   "source": [
    "**1.1**  Write a simple for loop to print integers from 10 to 30. "
   ]
  },
  {
   "cell_type": "code",
   "execution_count": 51,
   "metadata": {
    "id": "R9xgpmLBD6Oc"
   },
   "outputs": [
    {
     "name": "stdout",
     "output_type": "stream",
     "text": [
      "10\n",
      "11\n",
      "12\n",
      "13\n",
      "14\n",
      "15\n",
      "16\n",
      "17\n",
      "18\n",
      "19\n",
      "20\n",
      "21\n",
      "22\n",
      "23\n",
      "24\n",
      "25\n",
      "26\n",
      "27\n",
      "28\n",
      "29\n",
      "30\n"
     ]
    }
   ],
   "source": [
    "for number in range(10, 31):\n",
    "    print(number)"
   ]
  },
  {
   "cell_type": "markdown",
   "metadata": {
    "id": "ZLjmn0jwD6Oc"
   },
   "source": [
    "**1.2** Update the previous code to print all the numbers from 10 to 30 that are multiples of 5. These are: 5, 10, 15, ..."
   ]
  },
  {
   "cell_type": "code",
   "execution_count": 57,
   "metadata": {
    "id": "rhi3-A0gD6Oc"
   },
   "outputs": [
    {
     "name": "stdout",
     "output_type": "stream",
     "text": [
      "10\n",
      "15\n",
      "20\n",
      "25\n",
      "30\n"
     ]
    }
   ],
   "source": [
    "for number in range(10, 31):\n",
    "    if number % 5 == 0:\n",
    "        print(number)"
   ]
  },
  {
   "cell_type": "markdown",
   "metadata": {
    "id": "nA-Ivr6MD6Oc"
   },
   "source": [
    "**1.3** Modify the dummy code provided to print the following pattern. \n",
    "\n",
    "- The pattern    \n",
    "    ```\n",
    "    *\n",
    "    ***\n",
    "    *****\n",
    "    ```\n",
    "\n",
    "<br>\n",
    "\n",
    "- Dummy Code\n",
    "\n",
    "    ```python\n",
    "    for i in range(1, _, _):\n",
    "        print(\"*\"*i)\n",
    "    ```"
   ]
  },
  {
   "cell_type": "code",
   "execution_count": 67,
   "metadata": {
    "id": "839Sa0cpD6Od"
   },
   "outputs": [
    {
     "name": "stdout",
     "output_type": "stream",
     "text": [
      "*\n",
      "***\n",
      "*****\n"
     ]
    }
   ],
   "source": [
    "for i in range(1, 6, 2):\n",
    "    print(\"*\" * i)"
   ]
  },
  {
   "cell_type": "markdown",
   "metadata": {
    "id": "Y-r13CBRD6Od"
   },
   "source": [
    "**1.4** Update the following code to print the pattern:\n",
    "\n",
    "  ```\n",
    "    *\n",
    "   ***\n",
    "  *****\n",
    "  ```\n",
    "\n",
    "  ```python\n",
    "  a = # Fill the starting value\n",
    "  for i in range(1, _, _):\n",
    "    a = a - 1\n",
    "    print(\" \"*a+\"*\"*i)\n",
    "  ```"
   ]
  },
  {
   "cell_type": "code",
   "execution_count": 89,
   "metadata": {
    "id": "Qz-SKZSfD6Od"
   },
   "outputs": [
    {
     "name": "stdout",
     "output_type": "stream",
     "text": [
      "  *\n",
      " ***\n",
      "*****\n"
     ]
    }
   ],
   "source": [
    "a = 3\n",
    "for i in range(1, 6, 2):\n",
    "    a = a - 1\n",
    "    print(\" \" * a + \"*\" * i)"
   ]
  },
  {
   "cell_type": "markdown",
   "metadata": {
    "id": "DWV8_ryhD6Od"
   },
   "source": [
    "**1.5** Use the function `input()` to prompt the user to enter an integer number. Then calculate the factorial of that number using loops. To verify the correctness of your result, you can compare it with the factorial calculated using the `factorial` function from the `math` library.\n",
    "\n",
    "<br>\n",
    "\n",
    "```python\n",
    "import math\n",
    "math.factorial(n) # n is the positive integer for which we want to calculate the factorial \n",
    "```\n",
    "\n",
    "**Note**: Factorial is defined as:\n",
    "\n",
    "```\n",
    "5 ! = 5*4*3*2*1  # \" ! \" is the mathematical notation for factorial\n",
    "    \n",
    "n! = n*(n-1)*(n-2)*..........*1\n",
    "```"
   ]
  },
  {
   "cell_type": "code",
   "execution_count": 123,
   "metadata": {
    "id": "nlky63ApD6Od"
   },
   "outputs": [
    {
     "name": "stdin",
     "output_type": "stream",
     "text": [
      "Enter an integer number to calculate its factorial:  5\n"
     ]
    },
    {
     "name": "stdout",
     "output_type": "stream",
     "text": [
      "Factorial of 5 using loop: 120\n",
      "Factorial of 5 using math.factorial: 120\n",
      "The factorial is correct!\n"
     ]
    }
   ],
   "source": [
    "import math\n",
    "n = int(input(\"Enter an integer number to calculate its factorial: \"))\n",
    "\n",
    "loop = 1\n",
    "for i in range(1, n + 1):\n",
    "    loop *= i\n",
    "math = math.factorial(n)\n",
    "\n",
    "print(f\"Factorial of {n} using loop: {loop}\")\n",
    "print(f\"Factorial of {n} using math.factorial: {math}\")\n",
    "\n",
    "if loop == math:\n",
    "    print(\"The factorial is correct!\")"
   ]
  },
  {
   "cell_type": "markdown",
   "metadata": {
    "id": "aAM3MT2-D6Oe"
   },
   "source": [
    "-----------------------------"
   ]
  },
  {
   "cell_type": "markdown",
   "metadata": {
    "id": "o8GHC6l_D6Og"
   },
   "source": [
    "## 2. Exercise - Iterations on Lists"
   ]
  },
  {
   "cell_type": "markdown",
   "metadata": {
    "id": "dPmp1YIgD6Og"
   },
   "source": [
    "Given the list:\n",
    "```python\n",
    "x = [12, 43, 4, 1, 6, 343, 10, 34, 12, 93, 783, 330, 896, 1, 55]\n",
    "```"
   ]
  },
  {
   "cell_type": "markdown",
   "metadata": {},
   "source": [
    "**2.1** Write code to find only those numbers in the list that are divisible by 3."
   ]
  },
  {
   "cell_type": "code",
   "execution_count": 111,
   "metadata": {},
   "outputs": [
    {
     "name": "stdout",
     "output_type": "stream",
     "text": [
      "12\n",
      "6\n",
      "12\n",
      "93\n",
      "783\n",
      "330\n"
     ]
    }
   ],
   "source": [
    "x = [12, 43, 4, 1, 6, 343, 10, 34, 12, 93, 783, 330, 896, 1, 55]\n",
    "for number in x:\n",
    "    if number % 3 == 0:\n",
    "        print(number)"
   ]
  },
  {
   "cell_type": "markdown",
   "metadata": {},
   "source": [
    "**2.2** Write code to find only those numbers in a list that end with the digit 3. Create a new list with those numbers. To accomplish this, you can convert the integers to strings and use indexing to access the last digit. Here's an example of how to use indexing with strings:\n",
    "\n",
    "```python\n",
    "string_value = 'IRONHACK'\n",
    "string_value[0]\n",
    "```"
   ]
  },
  {
   "cell_type": "code",
   "execution_count": 127,
   "metadata": {},
   "outputs": [
    {
     "name": "stdout",
     "output_type": "stream",
     "text": [
      "43\n",
      "343\n",
      "93\n",
      "783\n"
     ]
    }
   ],
   "source": [
    "x = [12, 43, 4, 1, 6, 343, 10, 34, 12, 93, 783, 330, 896, 1, 55]\n",
    "for number in x:\n",
    "    if str(number)[-1] == '3':\n",
    "        print (number)"
   ]
  },
  {
   "cell_type": "markdown",
   "metadata": {},
   "source": [
    "**2.3** Find the minimum value in the list `x`. You can research if there is any function available directly to calculate the minimum value."
   ]
  },
  {
   "cell_type": "code",
   "execution_count": 131,
   "metadata": {},
   "outputs": [
    {
     "name": "stdout",
     "output_type": "stream",
     "text": [
      "1\n"
     ]
    }
   ],
   "source": [
    "minimum_value = min(x)\n",
    "\n",
    "print(minimum_value)"
   ]
  },
  {
   "cell_type": "markdown",
   "metadata": {},
   "source": [
    "**2.4** Find the maximum value in the list `x`. Similarly, research if there is any function available directly to calculate the maximum value."
   ]
  },
  {
   "cell_type": "code",
   "execution_count": 133,
   "metadata": {
    "id": "maYRn1xgD6Og"
   },
   "outputs": [
    {
     "name": "stdout",
     "output_type": "stream",
     "text": [
      "896\n"
     ]
    }
   ],
   "source": [
    "maximum_value = max(x)\n",
    "\n",
    "print(maximum_value)"
   ]
  },
  {
   "cell_type": "markdown",
   "metadata": {
    "id": "caGMNACND6Og"
   },
   "source": [
    "-----------------------------"
   ]
  },
  {
   "cell_type": "markdown",
   "metadata": {
    "id": "vDaP12dSD6Oj"
   },
   "source": [
    "## 3. Exercise - Iterations on Dictionaries"
   ]
  },
  {
   "cell_type": "markdown",
   "metadata": {
    "id": "oWHtlCccD6Oj"
   },
   "source": [
    "Given this dictionary:"
   ]
  },
  {
   "cell_type": "code",
   "execution_count": null,
   "metadata": {
    "id": "kQMORoCTD6Oj"
   },
   "outputs": [],
   "source": [
    "word_freq = {'love': 25, 'conversation': 1, 'every': 6, \"we're\": 1, 'plate': 1, 'sour': 1, 'jukebox': 1, 'now': 11, 'taxi': 1, 'fast': 1, 'bag': 1, 'man': 1, 'push': 3, 'baby': 14, 'going': 1, 'you': 16, \"don't\": 2, 'one': 1, 'mind': 2, 'backseat': 1, 'friends': 1, 'then': 3, 'know': 2}"
   ]
  },
  {
   "cell_type": "markdown",
   "metadata": {
    "id": "OPiInNFgD6Oj"
   },
   "source": [
    "**3.1** Iterate on the items of this dictionary to print only those keys where the frequency of the word is less than 3."
   ]
  },
  {
   "cell_type": "code",
   "execution_count": 139,
   "metadata": {},
   "outputs": [
    {
     "name": "stdout",
     "output_type": "stream",
     "text": [
      "conversation\n",
      "we're\n",
      "plate\n",
      "sour\n",
      "jukebox\n",
      "taxi\n",
      "fast\n",
      "bag\n",
      "man\n",
      "going\n",
      "don't\n",
      "one\n",
      "mind\n",
      "backseat\n",
      "friends\n",
      "know\n"
     ]
    }
   ],
   "source": [
    "word_freq = {'love': 25, 'conversation': 1, 'every': 6, \"we're\": 1, 'plate': 1, 'sour': 1, 'jukebox': 1, 'now': 11, 'taxi': 1, 'fast': 1, 'bag': 1, 'man': 1, 'push': 3, 'baby': 14, 'going': 1, 'you': 16, \"don't\": 2, 'one': 1, 'mind': 2, 'backseat': 1, 'friends': 1, 'then': 3, 'know': 2}\n",
    "for word, freq in word_freq.items():\n",
    "    if freq < 3:\n",
    "        print(word)"
   ]
  },
  {
   "cell_type": "markdown",
   "metadata": {},
   "source": [
    "**3.2** Iterate on the items of this dictionary to print the word with the highest frequency.\n",
    "\n",
    "*Hint: There are multiple approaches to solve this exercise.*\n",
    "- *Use the max() function with a custom key to find the word with the highest frequency.*\n",
    "- *Initialize max_frequency and word_with_max_freq to 0 and an empty string, respectively. Iterate over the dictionary items, updating the variables when a higher frequency is found.*\n",
    "- *Convert the dictionary values to a list and use max() to find the maximum frequency (max_freq). Iterate over the dictionary items and print the word if its frequency matches max_freq.*"
   ]
  },
  {
   "cell_type": "code",
   "execution_count": 151,
   "metadata": {
    "id": "l_2VFQsdD6Oj"
   },
   "outputs": [
    {
     "name": "stdout",
     "output_type": "stream",
     "text": [
      "Word with highest frequency: love\n"
     ]
    }
   ],
   "source": [
    "# Using max() with a Custom Key\n",
    "max_word = max(word_freq, key=lambda k: word_freq[k])\n",
    "print(\"Word with highest frequency:\", max_word)"
   ]
  },
  {
   "cell_type": "code",
   "execution_count": 149,
   "metadata": {},
   "outputs": [
    {
     "name": "stdout",
     "output_type": "stream",
     "text": [
      "Word with highest frequency: love\n"
     ]
    }
   ],
   "source": [
    "# Initialize and Iterate\n",
    "max_frequency = 0\n",
    "word_with_max_freq = ''\n",
    "\n",
    "for word, freq in word_freq.items():\n",
    "    if freq > max_frequency:\n",
    "        max_frequency = freq\n",
    "        word_with_max_freq = word\n",
    "\n",
    "print(\"Word with highest frequency:\", word_with_max_freq)"
   ]
  },
  {
   "cell_type": "code",
   "execution_count": 147,
   "metadata": {},
   "outputs": [
    {
     "name": "stdout",
     "output_type": "stream",
     "text": [
      "Word with highest frequency: love\n"
     ]
    }
   ],
   "source": [
    "#Convert the Dictionary and using max()\n",
    "max_frequency = max(word_freq.values())\n",
    "\n",
    "# Find and print the word(s) with the maximum frequency\n",
    "for word, freq in word_freq.items():\n",
    "    if freq == max_frequency:\n",
    "        print(\"Word with highest frequency:\", word)"
   ]
  },
  {
   "cell_type": "markdown",
   "metadata": {
    "id": "aAM3MT2-D6Oe"
   },
   "source": [
    "-----------------------------"
   ]
  },
  {
   "cell_type": "markdown",
   "metadata": {
    "id": "o8GHC6l_D6Og"
   },
   "source": [
    "## 4. Exercise - More on iterations "
   ]
  },
  {
   "cell_type": "markdown",
   "metadata": {},
   "source": [
    "Write a program that generates a random number between 1 and 100. The program should then prompt the user to guess the number. If the user's guess is too high, the program should print \"Too high, try again!\" and ask for another guess. If the guess is too low, the program should print \"Too low, try again!\" and ask for another guess. If the user guesses the correct number, the program should print \"Congratulations, you guessed the number!\" and end.\n",
    "\n",
    "Hints:\n",
    "\n",
    "- You will need to use a loop to repeatedly ask for guesses until the correct number is guessed.\n",
    "- Remember to convert the user's input to an integer using the `int()` function.\n",
    "- Use the `random` module in Python to generate a random number.\n",
    "\n",
    "```python\n",
    "import random\n",
    "\n",
    "# Generate a random number between 1 and 10\n",
    "random_number = random.randint(1, 10)\n",
    "```"
   ]
  },
  {
   "cell_type": "code",
   "execution_count": 153,
   "metadata": {},
   "outputs": [
    {
     "name": "stdin",
     "output_type": "stream",
     "text": [
      "Guess the number between 1 and 100:  50\n"
     ]
    },
    {
     "name": "stdout",
     "output_type": "stream",
     "text": [
      "Too low, try again!\n"
     ]
    },
    {
     "name": "stdin",
     "output_type": "stream",
     "text": [
      "Guess the number between 1 and 100:  60\n"
     ]
    },
    {
     "name": "stdout",
     "output_type": "stream",
     "text": [
      "Too low, try again!\n"
     ]
    },
    {
     "name": "stdin",
     "output_type": "stream",
     "text": [
      "Guess the number between 1 and 100:  86\n"
     ]
    },
    {
     "name": "stdout",
     "output_type": "stream",
     "text": [
      "Too low, try again!\n"
     ]
    },
    {
     "name": "stdin",
     "output_type": "stream",
     "text": [
      "Guess the number between 1 and 100:  93\n"
     ]
    },
    {
     "name": "stdout",
     "output_type": "stream",
     "text": [
      "Too high, try again!\n"
     ]
    },
    {
     "name": "stdin",
     "output_type": "stream",
     "text": [
      "Guess the number between 1 and 100:  90\n"
     ]
    },
    {
     "name": "stdout",
     "output_type": "stream",
     "text": [
      "Too high, try again!\n"
     ]
    },
    {
     "name": "stdin",
     "output_type": "stream",
     "text": [
      "Guess the number between 1 and 100:  89\n"
     ]
    },
    {
     "name": "stdout",
     "output_type": "stream",
     "text": [
      "Congratulations, you guessed the number!\n"
     ]
    }
   ],
   "source": [
    "import random\n",
    "\n",
    "random_number = random.randint(1, 100)\n",
    "\n",
    "guess = None\n",
    "\n",
    "while guess != random_number:\n",
    "    guess = int(input(\"Guess the number between 1 and 100: \"))\n",
    "    if guess < random_number:\n",
    "        print(\"Too low, try again!\")\n",
    "    elif guess > random_number:\n",
    "        print(\"Too high, try again!\")\n",
    "    else:\n",
    "        print(\"Congratulations, you guessed the number!\")"
   ]
  },
  {
   "cell_type": "code",
   "execution_count": null,
   "metadata": {},
   "outputs": [],
   "source": []
  }
 ],
 "metadata": {
  "colab": {
   "name": "4_iterations.ipynb",
   "provenance": []
  },
  "interpreter": {
   "hash": "767d51c1340bd893661ea55ea3124f6de3c7a262a8b4abca0554b478b1e2ff90"
  },
  "kernelspec": {
   "display_name": "Python 3 (ipykernel)",
   "language": "python",
   "name": "python3"
  },
  "language_info": {
   "codemirror_mode": {
    "name": "ipython",
    "version": 3
   },
   "file_extension": ".py",
   "mimetype": "text/x-python",
   "name": "python",
   "nbconvert_exporter": "python",
   "pygments_lexer": "ipython3",
   "version": "3.12.4"
  }
 },
 "nbformat": 4,
 "nbformat_minor": 4
}
