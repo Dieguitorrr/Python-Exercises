{
 "cells": [
  {
   "cell_type": "markdown",
   "id": "3bc2f6a8-6176-4c38-8ef4-587e922215d6",
   "metadata": {},
   "source": [
    "# Ejercicios"
   ]
  },
  {
   "cell_type": "markdown",
   "id": "7fae98f6-97e5-4a3b-89a1-32499b6afe60",
   "metadata": {
    "jp-MarkdownHeadingCollapsed": true
   },
   "source": [
    "## Operadores "
   ]
  },
  {
   "cell_type": "code",
   "execution_count": 23,
   "id": "4077a837-14b5-4534-b3ad-6117774b7e30",
   "metadata": {},
   "outputs": [
    {
     "name": "stdout",
     "output_type": "stream",
     "text": [
      "Introduce el primer número:  4\n",
      "Introduce el segundo número:  7\n"
     ]
    },
    {
     "name": "stdout",
     "output_type": "stream",
     "text": [
      "Suma: 11.0\n",
      "Resta: -3.0\n",
      "Multiplicación: 28.0\n",
      "División: 0.5714285714285714\n",
      "Módulo: 4.0\n",
      "Potencia: 16384.0\n"
     ]
    }
   ],
   "source": [
    "# Ejercicio 1: Operaciones básicas con dos números\n",
    "\n",
    "num1 = float(input(\"Introduce el primer número: \"))\n",
    "num2 = float(input(\"Introduce el segundo número: \"))\n",
    "\n",
    "suma = num1 + num2\n",
    "resta = num1 - num2\n",
    "multiplicacion = num1 * num2\n",
    "division = num1 / num2\n",
    "modulo = num1 % num2\n",
    "potencia = num1 ** num2\n",
    "\n",
    "print(f\"Suma: {suma}\")\n",
    "print(f\"Resta: {resta}\")\n",
    "print(f\"Multiplicación: {multiplicacion}\")\n",
    "print(f\"División: {division}\")\n",
    "print(f\"Módulo: {modulo}\")\n",
    "print(f\"Potencia: {potencia}\")"
   ]
  },
  {
   "cell_type": "code",
   "execution_count": 21,
   "id": "f5f2add4-ecf4-42ed-ac78-a2a7d5a80f3b",
   "metadata": {},
   "outputs": [
    {
     "name": "stdout",
     "output_type": "stream",
     "text": [
      "Introduce un número:  7\n"
     ]
    },
    {
     "name": "stdout",
     "output_type": "stream",
     "text": [
      "El número es impar.\n"
     ]
    }
   ],
   "source": [
    "# Ejercicio 2: Determinando si un número es par o impar\n",
    "\n",
    "numero = int(input(\"Introduce un número: \"))\n",
    "\n",
    "if numero % 2 == 0:\n",
    "    print(\"El número es par.\")\n",
    "else:\n",
    "    print(\"El número es impar.\")"
   ]
  },
  {
   "cell_type": "code",
   "execution_count": 19,
   "id": "2e8b7a91-085f-45e6-b9a5-5299208fb251",
   "metadata": {},
   "outputs": [
    {
     "name": "stdout",
     "output_type": "stream",
     "text": [
      "Calcula el area de un rectangulo:\n"
     ]
    },
    {
     "name": "stdout",
     "output_type": "stream",
     "text": [
      "Introduce el ancho:  4\n",
      "Introduce el alto:  7\n"
     ]
    },
    {
     "name": "stdout",
     "output_type": "stream",
     "text": [
      "El area del rectangulo es 28.0\n"
     ]
    }
   ],
   "source": [
    "# Ejercicio 3: Calculadora de área de un rectángulo\n",
    "\n",
    "print ('Calcula el area de un rectangulo:')\n",
    "ancho = float(input(\"Introduce el ancho: \"))\n",
    "alto = float(input(\"Introduce el alto: \"))\n",
    "\n",
    "area = ancho * alto\n",
    "\n",
    "print (f'El area del rectangulo es {area}')"
   ]
  },
  {
   "cell_type": "code",
   "execution_count": 15,
   "id": "36c83814-9ca2-4930-b03d-40c1e08266ae",
   "metadata": {},
   "outputs": [
    {
     "name": "stdout",
     "output_type": "stream",
     "text": [
      "Introduce la temperatura en grados Celsius:  34\n"
     ]
    },
    {
     "name": "stdout",
     "output_type": "stream",
     "text": [
      "La temperatura en grados Fahrenheit es: 93.2\n"
     ]
    }
   ],
   "source": [
    "# Ejercicio 4: Conversión de temperatura (Celsius a Fahrenheit)\n",
    "\n",
    "celsius = float(input(\"Introduce la temperatura en grados Celsius: \"))\n",
    "\n",
    "fahrenheit = (celsius * 9/5) + 32\n",
    "\n",
    "print(f\"La temperatura en grados Fahrenheit es: {fahrenheit}\")"
   ]
  },
  {
   "cell_type": "code",
   "execution_count": 13,
   "id": "3a6cb478-4808-47fc-a0f2-53b0f4b4020c",
   "metadata": {},
   "outputs": [
    {
     "name": "stdout",
     "output_type": "stream",
     "text": [
      "Introduce el precio original del producto:  55\n",
      "Introduce el porcentaje de descuento:  30\n"
     ]
    },
    {
     "name": "stdout",
     "output_type": "stream",
     "text": [
      "El precio final después del descuento es: 38.5\n"
     ]
    }
   ],
   "source": [
    "# Ejercicio 5: Calculadora de descuentos\n",
    "\n",
    "precio_original = float(input(\"Introduce el precio original del producto: \"))\n",
    "descuento = float(input(\"Introduce el porcentaje de descuento: \"))\n",
    "\n",
    "precio_final = precio_original - (precio_original * descuento / 100)\n",
    "\n",
    "print(f\"El precio final después del descuento es: {precio_final}\")"
   ]
  },
  {
   "cell_type": "markdown",
   "id": "81fa4f89-632d-40be-8511-9542cf9ddd21",
   "metadata": {
    "jp-MarkdownHeadingCollapsed": true
   },
   "source": [
    "## Condicionales"
   ]
  },
  {
   "cell_type": "code",
   "execution_count": 25,
   "id": "7d0ac9b9-429f-4ece-8924-0478e1e04967",
   "metadata": {},
   "outputs": [
    {
     "name": "stdout",
     "output_type": "stream",
     "text": [
      "Introduce el primer número:  2\n",
      "Introduce el segundo número:  3\n"
     ]
    },
    {
     "name": "stdout",
     "output_type": "stream",
     "text": [
      "2.0 es menor que 3.0\n"
     ]
    }
   ],
   "source": [
    "# Ejercicio 1: Comparación de dos números\n",
    "\n",
    "num1 = float(input(\"Introduce el primer número: \"))\n",
    "num2 = float(input(\"Introduce el segundo número: \"))\n",
    "\n",
    "if num1 > num2:\n",
    "    print(f\"{num1} es mayor que {num2}\")\n",
    "elif num1 < num2:\n",
    "    print(f\"{num1} es menor que {num2}\")\n",
    "else:\n",
    "    print(f\"{num1} y {num2} son iguales\")"
   ]
  },
  {
   "cell_type": "code",
   "execution_count": 29,
   "id": "accd7734-a887-4c6a-8f47-fefd486d3eb4",
   "metadata": {},
   "outputs": [
    {
     "name": "stdout",
     "output_type": "stream",
     "text": [
      "Introduce tu calificación (0-100):  87\n"
     ]
    },
    {
     "name": "stdout",
     "output_type": "stream",
     "text": [
      "Muy Bueno\n"
     ]
    }
   ],
   "source": [
    "# Ejercicio 2: Clasificación de calificaciones\n",
    "\n",
    "calificacion = int(input(\"Introduce tu calificación (0-100): \"))\n",
    "\n",
    "if calificacion >= 90:\n",
    "    print(\"Excelente\")\n",
    "elif calificacion >= 80:\n",
    "    print(\"Muy Bueno\")\n",
    "elif calificacion >= 70:\n",
    "    print(\"Bueno\")\n",
    "elif calificacion >= 60:\n",
    "    print(\"Suficiente\")\n",
    "else:\n",
    "    print(\"Insuficiente\")"
   ]
  },
  {
   "cell_type": "code",
   "execution_count": 2,
   "id": "0c8c5b7e-0c17-4c94-8eb8-95a09b9276df",
   "metadata": {},
   "outputs": [
    {
     "name": "stdout",
     "output_type": "stream",
     "text": [
      "Introduce un año:  1982\n"
     ]
    },
    {
     "name": "stdout",
     "output_type": "stream",
     "text": [
      "1982 no es un año bisiesto.\n"
     ]
    }
   ],
   "source": [
    "# Ejercicio 3: Verificación de año bisiesto\n",
    "\n",
    "anio = int(input(\"Introduce un año: \"))\n",
    "\n",
    "if anio % 400 == 0:\n",
    "    print(f\"{anio} es un año bisiesto.\")\n",
    "elif anio % 100 == 0:\n",
    "    print(f\"{anio} no es un año bisiesto.\")\n",
    "elif anio % 4 == 0:\n",
    "    print(f\"{anio} es un año bisiesto.\")\n",
    "else:\n",
    "    print(f\"{anio} no es un año bisiesto.\")"
   ]
  },
  {
   "cell_type": "code",
   "execution_count": 1,
   "id": "4292f39e-4e5a-425d-ab26-8d2e45105552",
   "metadata": {},
   "outputs": [
    {
     "name": "stdout",
     "output_type": "stream",
     "text": [
      "Introduce la contraseña:  1234\n"
     ]
    },
    {
     "name": "stdout",
     "output_type": "stream",
     "text": [
      "Contraseña incorrecta, acceso denegado.\n"
     ]
    }
   ],
   "source": [
    "# Verificación de contraseña\n",
    "\n",
    "contrasena_correcta = \"Python123\"\n",
    "contrasena = input(\"Introduce la contraseña: \")\n",
    "\n",
    "if contrasena == contrasena_correcta:\n",
    "    print(\"Contraseña correcta, acceso permitido.\")\n",
    "else:\n",
    "    print(\"Contraseña incorrecta, acceso denegado.\")\n"
   ]
  },
  {
   "cell_type": "code",
   "execution_count": 5,
   "id": "bb5dc83d-0283-4a17-8e1b-b290189ff7d5",
   "metadata": {},
   "outputs": [
    {
     "name": "stdout",
     "output_type": "stream",
     "text": [
      "Introduce tu renta:  28000\n"
     ]
    },
    {
     "name": "stdout",
     "output_type": "stream",
     "text": [
      "Tienes que pagar: 4200.0\n"
     ]
    }
   ],
   "source": [
    "# Ejercicio 5: Calculadora de impuesto sobre la renta\n",
    "\n",
    "renta = float(input(\"Introduce tu renta: \"))\n",
    "i1 = 0.05\n",
    "i2 = 0.1\n",
    "i3 = 0.15\n",
    "i4 = 0.2\n",
    "\n",
    "if renta < 10000:\n",
    "    print ('Tienes que pagar:', renta * i1) \n",
    "elif renta < 20000:\n",
    "    print ('Tienes que pagar:', renta * i2)\n",
    "elif renta < 50000:\n",
    "    print ('Tienes que pagar:', renta * i3)\n",
    "else: \n",
    "    print ('Tienes que pagar:', renta * i3)"
   ]
  },
  {
   "cell_type": "code",
   "execution_count": 3,
   "id": "ed927a6d-86d8-4920-9125-56539dc38273",
   "metadata": {},
   "outputs": [
    {
     "name": "stdout",
     "output_type": "stream",
     "text": [
      "Inserta una letra del abecedario:  F\n"
     ]
    },
    {
     "name": "stdout",
     "output_type": "stream",
     "text": [
      "La letra f es una consonante.\n"
     ]
    }
   ],
   "source": [
    "# Ejercicio 6: Programa para determinar si una letra es vocal o consonante\n",
    "\n",
    "letra = input(\"Inserta una letra del abecedario: \")\n",
    " \n",
    "letra = letra.lower()\n",
    " \n",
    "if letra == 'a' or letra == 'e' or  letra == 'i' or letra == 'o' or letra == 'u':\n",
    "    print(f\"La letra {letra} es una vocal.\")\n",
    "else:\n",
    "    print(f\"La letra {letra} es una consonante.\")"
   ]
  },
  {
   "cell_type": "code",
   "execution_count": 9,
   "id": "a55853fd-5876-4990-bd41-3178d5a0f566",
   "metadata": {},
   "outputs": [
    {
     "name": "stdout",
     "output_type": "stream",
     "text": [
      "Introduce un número: a\n"
     ]
    },
    {
     "name": "stdout",
     "output_type": "stream",
     "text": [
      "Eso no es un numero\n"
     ]
    }
   ],
   "source": [
    "# Ejercicio 7: Programa para determinar si un número es par, impar o neutro\n",
    "\n",
    "num = input (\"Introduce un número:\")\n",
    "\n",
    "if num.isdigit():\n",
    "    num = int(num)\n",
    "    if num % 2 == 0:\n",
    "        print (\"El número\", num, \"es par.\")\n",
    "    elif num % 2 != 0:\n",
    "        print (\"El número\", num, \"es impar.\")\n",
    "    elif num == 0:\n",
    "        print (\"El número\", num, \"es neutro.\")\n",
    "else:\n",
    "    print (\"Eso no es un numero\")"
   ]
  },
  {
   "cell_type": "markdown",
   "id": "2e973aea-925d-4def-8339-bca4f0d65860",
   "metadata": {},
   "source": [
    "## Listas"
   ]
  },
  {
   "cell_type": "code",
   "execution_count": 3,
   "id": "442153ad-4e67-46b0-ac09-6d80ba2881d1",
   "metadata": {},
   "outputs": [
    {
     "name": "stdout",
     "output_type": "stream",
     "text": [
      "La suma de los elementos es: 15\n"
     ]
    }
   ],
   "source": [
    "# Ejercicio 1: Suma de elementos de una lista\n",
    "\n",
    "numeros = [1, 2, 3, 4, 5]\n",
    "suma = sum(numeros)\n",
    "print(f\"La suma de los elementos es: {suma}\")"
   ]
  },
  {
   "cell_type": "code",
   "execution_count": 9,
   "id": "d2f160e4-2166-4467-8b66-1b07a77b64e4",
   "metadata": {},
   "outputs": [
    {
     "name": "stdout",
     "output_type": "stream",
     "text": [
      "El valor máximo es: 9\n",
      "El valor mínimo es: 2\n"
     ]
    }
   ],
   "source": [
    "# Ejercicio 2: Encontrar el máximo y mínimo en una lista\n",
    "\n",
    "numeros = [5, 9, 2, 8, 3]\n",
    "maximo = max(numeros)\n",
    "minimo = min(numeros)\n",
    "print(f\"El valor máximo es: {maximo}\")\n",
    "print(f\"El valor mínimo es: {minimo}\")"
   ]
  },
  {
   "cell_type": "code",
   "execution_count": 11,
   "id": "4df2e504-f30e-45c6-8ec4-b2a6696b90f3",
   "metadata": {},
   "outputs": [
    {
     "name": "stdout",
     "output_type": "stream",
     "text": [
      "La lista tiene 9 elementos.\n"
     ]
    }
   ],
   "source": [
    "# Ejercicio 3: Contar elementos en una lista\n",
    "\n",
    "numeros = [1, 2, 3, 4, 5, 6, 7, 8, 9]\n",
    "conteo = len(numeros)\n",
    "print(f\"La lista tiene {conteo} elementos.\")"
   ]
  },
  {
   "cell_type": "code",
   "execution_count": 1,
   "id": "6d946625-4a19-4a16-9bdd-6faec67daf86",
   "metadata": {},
   "outputs": [
    {
     "name": "stdout",
     "output_type": "stream",
     "text": [
      "El número 3 está en la lista.\n"
     ]
    }
   ],
   "source": [
    "# Ejercicio 4: Verificar si un elemento está en una lista\n",
    "\n",
    "numeros = [1, 2, 3, 4, 5]\n",
    "elemento = 3\n",
    "\n",
    "if elemento in numeros:\n",
    "    print(f\"El número {elemento} está en la lista.\")\n",
    "else:\n",
    "    print(f\"El número {elemento} no está en la lista.\")"
   ]
  },
  {
   "cell_type": "code",
   "execution_count": null,
   "id": "2cf13693-a3e0-47e8-989f-c8635a5c3acd",
   "metadata": {},
   "outputs": [],
   "source": [
    "# Ejercicio 5: Eliminar elementos duplicados de una lista\n",
    "\n",
    "numeros = [1, 2, 3, 4, 3, 2, 1]\n",
    "numeros_unicos = list(set(numeros)) # Operador set para convertir uan lista en un set.\n",
    "# Un set no puede tener items repetidos\n",
    "\n",
    "print(f\"Lista sin duplicados: {numeros_unicos}\")"
   ]
  },
  {
   "cell_type": "code",
   "execution_count": 23,
   "id": "d22fdde7-45d6-4ba8-936a-f0d521ae9ece",
   "metadata": {},
   "outputs": [
    {
     "name": "stdout",
     "output_type": "stream",
     "text": [
      "Lista invertida: [5, 4, 3, 2, 1]\n"
     ]
    }
   ],
   "source": [
    "# Ejercicio 6: Invertir una lista\n",
    "\n",
    "numeros = [1, 2, 3, 4, 5]\n",
    "numeros_invertidos = numeros[:: -1]\n",
    "print(f\"Lista invertida: {numeros_invertidos}\")"
   ]
  },
  {
   "cell_type": "code",
   "execution_count": 25,
   "id": "f4c87d3b-d4f2-45fd-85c6-d40d47d2a046",
   "metadata": {},
   "outputs": [
    {
     "name": "stdout",
     "output_type": "stream",
     "text": [
      "Lista concatenada: [1, 2, 3, 4, 5, 6]\n"
     ]
    }
   ],
   "source": [
    "# Ejercicio 7: Concatenar dos listas\n",
    "\n",
    "lista1 = [1, 2, 3]\n",
    "lista2 = [4, 5, 6]\n",
    "lista_concatenada = lista1 + lista2\n",
    "print(f\"Lista concatenada: {lista_concatenada}\")"
   ]
  },
  {
   "cell_type": "code",
   "execution_count": 27,
   "id": "9a10d573-29c6-4aab-875e-975c72dcd92e",
   "metadata": {},
   "outputs": [
    {
     "name": "stdout",
     "output_type": "stream",
     "text": [
      "Lista ordenada: [1, 2, 3, 5, 8]\n"
     ]
    }
   ],
   "source": [
    "# Ejercicio 8: Ordenar una lista\n",
    "\n",
    "numeros = [5, 3, 8, 1, 2]\n",
    "numeros.sort()\n",
    "print(f\"Lista ordenada: {numeros}\")"
   ]
  },
  {
   "cell_type": "code",
   "execution_count": 29,
   "id": "9d35a72e-a70f-445e-80e4-91699a3f021d",
   "metadata": {},
   "outputs": [
    {
     "name": "stdout",
     "output_type": "stream",
     "text": [
      "Lista después de eliminar el 3: [1, 2, 4, 3, 5]\n"
     ]
    }
   ],
   "source": [
    "# Ejercicio 9: Remover un elemento específico de una lista\n",
    "\n",
    "numeros = [1, 2, 3, 4, 3, 5]\n",
    "numeros.remove(3)\n",
    "print(f\"Lista después de eliminar el 3: {numeros}\")"
   ]
  },
  {
   "cell_type": "code",
   "execution_count": 31,
   "id": "b1062426-802f-4599-85c3-d4b768309c53",
   "metadata": {},
   "outputs": [
    {
     "name": "stdout",
     "output_type": "stream",
     "text": [
      "Lista de cuadrados: [1, 4, 9, 16, 25]\n"
     ]
    }
   ],
   "source": [
    "# Ejercicio 10: Crear una lista con los cuadrados de los números\n",
    "\n",
    "numeros = [1, 2, 3, 4, 5]\n",
    "cuadrados = [num ** 2 for num in numeros]\n",
    "print(f\"Lista de cuadrados: {cuadrados}\")"
   ]
  },
  {
   "cell_type": "code",
   "execution_count": 37,
   "id": "e357ad9d-3e4c-4420-9398-14e41189dc4b",
   "metadata": {},
   "outputs": [
    {
     "name": "stdout",
     "output_type": "stream",
     "text": [
      "Índice 0: manzana\n",
      "Índice 1: plátano\n",
      "Índice 2: cereza\n",
      "Índice 3: naranja\n"
     ]
    }
   ],
   "source": [
    "# Ejercicio 11: Imprimir los elementos de una lista con sus índices\n",
    "\n",
    "frutas = [\"manzana\", \"plátano\", \"cereza\", \"naranja\"]\n",
    "\n",
    "for indice, fruta in enumerate(frutas):\n",
    "    print(f\"Índice {indice}: {fruta}\")"
   ]
  },
  {
   "cell_type": "code",
   "execution_count": 69,
   "id": "fdf7e59a-376c-4749-9155-1d60e8f7e061",
   "metadata": {},
   "outputs": [
    {
     "name": "stdout",
     "output_type": "stream",
     "text": [
      "La suma de los elementos en posiciones pares es: 80\n"
     ]
    }
   ],
   "source": [
    "# Ejercicio 12: Sumar elementos en posiciones pares\n",
    "\n",
    "numeros = [10, 20, 30, 40, 50, 60]\n",
    "suma = 0\n",
    "\n",
    "for i in range (2, len(numeros), 2):\n",
    "    suma += numeros [i]\n",
    "print(f\"La suma de los elementos en posiciones pares es: {suma}\")"
   ]
  },
  {
   "cell_type": "code",
   "execution_count": 77,
   "id": "fdd3e7fd-ff76-40d7-9a78-39e183bd2c05",
   "metadata": {},
   "outputs": [
    {
     "name": "stdout",
     "output_type": "stream",
     "text": [
      "[5, 3, 2, 8, 7]\n"
     ]
    }
   ],
   "source": [
    "# Ejercicio 13: Reemplazar elementos negativos por su opuesto\n",
    "\n",
    "numeros = [-5, 3, -2, 8, -7]\n",
    "for i in range(len(numeros)):\n",
    "    if numeros[i] < 0:\n",
    "        numeros[i] = -numeros[i]\n",
    "print (numeros)    "
   ]
  },
  {
   "cell_type": "code",
   "execution_count": 43,
   "id": "755afb6a-4252-4063-8b88-0e214face772",
   "metadata": {},
   "outputs": [
    {
     "name": "stdout",
     "output_type": "stream",
     "text": [
      "Lista después de la rotación: [5, 1, 2, 3, 4]\n"
     ]
    }
   ],
   "source": [
    "# Ejercicio 15: Rotar los elementos de una lista\n",
    "\n",
    "numeros = [1, 2, 3, 4, 5]\n",
    "\n",
    "# Guardar el último elemento\n",
    "ultimo = numeros[-1]\n",
    "\n",
    "# Mover cada elemento una posición a la derecha\n",
    "for i in range(len(numeros) - 1, 0, -1):\n",
    "    numeros[i] = numeros[i - 1]\n",
    "\n",
    "# Colocar el último elemento en la primera posición\n",
    "numeros[0] = ultimo\n",
    "\n",
    "print(f\"Lista después de la rotación: {numeros}\")"
   ]
  },
  {
   "cell_type": "code",
   "execution_count": 83,
   "id": "504bce22-60ce-422e-81a1-d4946d06f74c",
   "metadata": {},
   "outputs": [
    {
     "name": "stdout",
     "output_type": "stream",
     "text": [
      "El valor 7 aparece en los índices: [2, 4, 7]\n"
     ]
    }
   ],
   "source": [
    "# Ejercicio 14: Crear una lista con los índices de un elemento específico\n",
    "numeros = [1, 3, 7, 8, 7, 5, 6, 7, 9]\n",
    "valor = 7\n",
    "indices = []\n",
    "\n",
    "for i in range(len(numeros)):\n",
    "    if numeros[i] == valor:\n",
    "        indices.append(i)\n",
    "\n",
    "print(f\"El valor {valor} aparece en los índices: {indices}\")"
   ]
  },
  {
   "cell_type": "code",
   "execution_count": 49,
   "id": "43622cb8-e55e-45dd-b03a-b54d00e23e87",
   "metadata": {},
   "outputs": [
    {
     "name": "stdout",
     "output_type": "stream",
     "text": [
      "Lista después de duplicar los elementos en posiciones impares: [1, 4, 3, 8, 5, 12]\n"
     ]
    }
   ],
   "source": [
    "# Ejercicio 16: Duplicar los elementos en posiciones impares\n",
    "\n",
    "numeros = [1, 2, 3, 4, 5, 6]\n",
    "\n",
    "for i in range(1, len(numeros), 2):\n",
    "    numeros[i] *= 2\n",
    "\n",
    "print(f\"Lista después de duplicar los elementos en posiciones impares: {numeros}\")"
   ]
  },
  {
   "cell_type": "code",
   "execution_count": 93,
   "id": "15d50efb-00c1-4477-a603-0a58472ef64e",
   "metadata": {},
   "outputs": [
    {
     "name": "stdout",
     "output_type": "stream",
     "text": [
      "Lista después del cambio: [5, 2, 3, 4, 1]\n"
     ]
    }
   ],
   "source": [
    "# Ejercicio 17: Intercambiar el primer y último elemento de una lista\n",
    "numeros = [1, 2, 3, 4, 5]\n",
    "\n",
    "# Guardar el último elemento\n",
    "ultimo = numeros[-1]\n",
    "\n",
    "# Guardar el primer elemento\n",
    "primero = numeros[0]\n",
    "\n",
    "# Colocar el último elemento en la primera posición\n",
    "numeros[0] = ultimo\n",
    "numeros [-1] = primero\n",
    "\n",
    "print(f\"Lista después del cambio: {numeros}\")"
   ]
  },
  {
   "cell_type": "markdown",
   "id": "0879ea00-2834-4ac8-a7ab-9865d91f951b",
   "metadata": {
    "jp-MarkdownHeadingCollapsed": true
   },
   "source": [
    "## Diccionarios"
   ]
  },
  {
   "cell_type": "code",
   "execution_count": 115,
   "id": "8e910437-aae0-47e2-989f-8e37ded0b375",
   "metadata": {},
   "outputs": [
    {
     "name": "stdout",
     "output_type": "stream",
     "text": [
      "Frecuencia de elementos: {1: 1, 2: 2, 3: 1, 4: 3, 5: 1}\n"
     ]
    }
   ],
   "source": [
    "# Ejercicio 1: Contar la frecuencia de elementos en una lista\n",
    "\n",
    "lista = [1, 2, 2, 3, 4, 4, 4, 5]\n",
    "frecuencias = {}\n",
    "\n",
    "for elemento in lista:\n",
    "    if elemento in frecuencias:\n",
    "        frecuencias[elemento] += 1\n",
    "    else:\n",
    "        frecuencias[elemento] = 1\n",
    "\n",
    "print(f\"Frecuencia de elementos: {frecuencias}\")"
   ]
  },
  {
   "cell_type": "code",
   "execution_count": 117,
   "id": "d14bed5c-0ec6-47be-8073-e350417b27d1",
   "metadata": {},
   "outputs": [
    {
     "name": "stdout",
     "output_type": "stream",
     "text": [
      "Diccionario invertido: {1: 'a', 2: 'b', 3: 'c'}\n"
     ]
    }
   ],
   "source": [
    "# Ejercicio 2: Invertir un diccionario\n",
    "\n",
    "diccionario = {'a': 1, 'b': 2, 'c': 3}\n",
    "diccionario_invertido = {v: k for k, v in diccionario.items()}\n",
    "\n",
    "print(f\"Diccionario invertido: {diccionario_invertido}\")"
   ]
  },
  {
   "cell_type": "code",
   "execution_count": 119,
   "id": "4958283b-d399-49a4-ad3c-decffe23e4b4",
   "metadata": {},
   "outputs": [
    {
     "name": "stdout",
     "output_type": "stream",
     "text": [
      "La suma de los valores es: 60\n"
     ]
    }
   ],
   "source": [
    "# Ejercicio 3: Sumar los valores de un diccionario\n",
    "\n",
    "diccionario = {'a': 10, 'b': 20, 'c': 30}\n",
    "suma = sum(diccionario.values())\n",
    "\n",
    "print(f\"La suma de los valores es: {suma}\")"
   ]
  },
  {
   "cell_type": "code",
   "execution_count": 121,
   "id": "022bccee-0c5a-4253-a5d8-872f456afabe",
   "metadata": {},
   "outputs": [
    {
     "name": "stdout",
     "output_type": "stream",
     "text": [
      "Diccionario creado: {'a': 1, 'b': 2, 'c': 3}\n"
     ]
    }
   ],
   "source": [
    "# Ejercicio 4: Crear un diccionario a partir de dos listas\n",
    "\n",
    "claves = ['a', 'b', 'c']\n",
    "valores = [1, 2, 3]\n",
    "diccionario = dict(zip(claves, valores))\n",
    "\n",
    "print(f\"Diccionario creado: {diccionario}\")"
   ]
  },
  {
   "cell_type": "code",
   "execution_count": 123,
   "id": "c6b9e45d-cb0b-415a-a528-a900178a19ea",
   "metadata": {},
   "outputs": [
    {
     "name": "stdout",
     "output_type": "stream",
     "text": [
      "La clave 'b' existe en el diccionario.\n"
     ]
    }
   ],
   "source": [
    "# Ejercicio 5: Verificar si una clave existe en un diccionario\n",
    "\n",
    "diccionario = {'a': 1, 'b': 2, 'c': 3}\n",
    "clave = 'b'\n",
    "\n",
    "if clave in diccionario:\n",
    "    print(f\"La clave '{clave}' existe en el diccionario.\")\n",
    "else:\n",
    "    print(f\"La clave '{clave}' no existe en el diccionario.\")"
   ]
  },
  {
   "cell_type": "code",
   "execution_count": 125,
   "id": "2e847b27-8ece-4c96-ac63-aa6fef0e661d",
   "metadata": {},
   "outputs": [
    {
     "name": "stdout",
     "output_type": "stream",
     "text": [
      "Diccionario después de eliminar la clave 'b': {'a': 1, 'c': 3}\n"
     ]
    }
   ],
   "source": [
    "# Ejercicio 6: Eliminar una clave de un diccionario\n",
    "\n",
    "diccionario = {'a': 1, 'b': 2, 'c': 3}\n",
    "clave_a_eliminar = 'b'\n",
    "\n",
    "diccionario.pop(clave_a_eliminar, None)  # None evita errores si la clave no existe\n",
    "\n",
    "print(f\"Diccionario después de eliminar la clave '{clave_a_eliminar}': {diccionario}\")\n"
   ]
  },
  {
   "cell_type": "code",
   "execution_count": 127,
   "id": "ce1d7221-1104-4079-8ed8-0f6600a6ca27",
   "metadata": {},
   "outputs": [
    {
     "name": "stdout",
     "output_type": "stream",
     "text": [
      "Diccionario concatenado: {'a': 1, 'b': 2, 'c': 3, 'd': 4}\n"
     ]
    }
   ],
   "source": [
    "# Ejercicio 7: Concatenar dos diccionarios\n",
    "\n",
    "diccionario1 = {'a': 1, 'b': 2}\n",
    "diccionario2 = {'c': 3, 'd': 4}\n",
    "\n",
    "# Método 1: Usando update()\n",
    "diccionario1.update(diccionario2)\n",
    "\n",
    "# Método 2: Usando desempaquetado (en versiones de Python 3.5+)\n",
    "# diccionario_concatenado = {**diccionario1, **diccionario2}\n",
    "\n",
    "print(f\"Diccionario concatenado: {diccionario1}\")"
   ]
  },
  {
   "cell_type": "code",
   "execution_count": 131,
   "id": "27863206-5894-4ef6-a18b-37b3280b92f3",
   "metadata": {},
   "outputs": [
    {
     "name": "stdout",
     "output_type": "stream",
     "text": [
      "Valor máximo: 20\n",
      "Valor mínimo: 5\n"
     ]
    }
   ],
   "source": [
    "#Ejercicio 8: Encontrar el valor máximo y mínimo en un diccionario\n",
    "\n",
    "diccionario = {'a': 10, 'b': 20, 'c': 5}\n",
    "\n",
    "valor_maximo = max(diccionario.values())\n",
    "valor_minimo = min(diccionario.values())\n",
    "\n",
    "print(f\"Valor máximo: {valor_maximo}\")\n",
    "print(f\"Valor mínimo: {valor_minimo}\")"
   ]
  },
  {
   "cell_type": "code",
   "execution_count": 135,
   "id": "f74d647d-21cd-4cde-8175-b5f86b6ac67c",
   "metadata": {},
   "outputs": [
    {
     "name": "stdout",
     "output_type": "stream",
     "text": [
      "Diccionario filtrado: {'b': 20, 'd': 30}\n"
     ]
    }
   ],
   "source": [
    "# Ejercicio 9: Filtrar un diccionario por clave o valor\n",
    "\n",
    "diccionario = {'a': 10, 'b': 20, 'c': 5, 'd': 30}\n",
    "\n",
    "# Filtrar por valores mayores que 15\n",
    "diccionario_filtrado = {k: v for k, v in diccionario.items() if v > 15}\n",
    "\n",
    "print(f\"Diccionario filtrado: {diccionario_filtrado}\")"
   ]
  },
  {
   "cell_type": "code",
   "execution_count": 149,
   "id": "9097fc9f-a49b-4ecb-acdb-ac7c17fb1b0b",
   "metadata": {},
   "outputs": [
    {
     "name": "stdout",
     "output_type": "stream",
     "text": [
      "Diccionario ordenado por valores: {'c': 5, 'a': 10, 'b': 20, 'd': 30}\n"
     ]
    }
   ],
   "source": [
    "#Ejercicio 10: Ordenar un diccionario por sus valores\n",
    "\n",
    "diccionario = {'a': 10, 'b': 20, 'c': 5, 'd': 30}\n",
    "\n",
    "# Ordenar por valores de menor a mayor\n",
    "diccionario_ordenado = dict(sorted(diccionario.items(), key=lambda item: item[1]))\n",
    "\n",
    "print(f\"Diccionario ordenado por valores: {diccionario_ordenado}\")"
   ]
  },
  {
   "cell_type": "markdown",
   "id": "44c367c1-27da-4c8e-8b84-e27bbbbed7ea",
   "metadata": {
    "jp-MarkdownHeadingCollapsed": true
   },
   "source": [
    "## Tuplas"
   ]
  },
  {
   "cell_type": "code",
   "execution_count": 1,
   "id": "cd3bc70d-e05c-4d57-86f7-caa3377ba9d8",
   "metadata": {},
   "outputs": [
    {
     "name": "stdout",
     "output_type": "stream",
     "text": [
      "Tupla creada: (1, 2, 3, 4, 5)\n"
     ]
    }
   ],
   "source": [
    "# Ejercicio 1: Crear una tupla a partir de una lista\n",
    "\n",
    "lista = [1, 2, 3, 4, 5]\n",
    "tupla = tuple(lista)\n",
    "print(f\"Tupla creada: {tupla}\")"
   ]
  },
  {
   "cell_type": "code",
   "execution_count": 3,
   "id": "6963dc64-e819-4b8f-98c8-ca5ef87119f3",
   "metadata": {},
   "outputs": [
    {
     "name": "stdout",
     "output_type": "stream",
     "text": [
      "Primer elemento: 10, Último elemento: 50\n"
     ]
    }
   ],
   "source": [
    "# Ejercicio 2: Acceder a elementos de una tupla\n",
    "\n",
    "tupla = (10, 20, 30, 40, 50)\n",
    "primero = tupla[0]\n",
    "ultimo = tupla[-1]\n",
    "print(f\"Primer elemento: {primero}, Último elemento: {ultimo}\")"
   ]
  },
  {
   "cell_type": "code",
   "execution_count": 5,
   "id": "c4601cfd-70c5-4c6d-ad16-df0548ab3177",
   "metadata": {},
   "outputs": [
    {
     "name": "stdout",
     "output_type": "stream",
     "text": [
      "Tupla concatenada: (1, 2, 3, 4, 5, 6)\n"
     ]
    }
   ],
   "source": [
    "# Ejercicio 3: Concatenar dos tuplas\n",
    "\n",
    "tupla1 = (1, 2, 3)\n",
    "tupla2 = (4, 5, 6)\n",
    "tupla_concatenada = tupla1 + tupla2\n",
    "print(f\"Tupla concatenada: {tupla_concatenada}\")"
   ]
  },
  {
   "cell_type": "code",
   "execution_count": 13,
   "id": "e01fde77-ff14-448a-8f30-c682696ea682",
   "metadata": {},
   "outputs": [
    {
     "name": "stdout",
     "output_type": "stream",
     "text": [
      "El número 3 está en la tupla.\n"
     ]
    }
   ],
   "source": [
    "# Ejercicio 4: Verificar si un elemento existe en una tupla\n",
    "\n",
    "numeros = (1, 2, 3, 4, 5)\n",
    "elemento = 3\n",
    "\n",
    "if elemento in numeros:\n",
    "    print(f\"El número {elemento} está en la tupla.\")\n",
    "else:\n",
    "    print(f\"El número {elemento} no está en la tupla.\")"
   ]
  },
  {
   "cell_type": "code",
   "execution_count": 9,
   "id": "6273cc4f-29f4-4355-bbc4-c90fd9c9a22d",
   "metadata": {},
   "outputs": [
    {
     "name": "stdout",
     "output_type": "stream",
     "text": [
      "Valores desempaquetados: a=10, b=20, c=30\n"
     ]
    }
   ],
   "source": [
    "# Ejercicio 5: Desempaquetar una tupla\n",
    "\n",
    "tupla = (10, 20, 30)\n",
    "a, b, c = tupla\n",
    "print(f\"Valores desempaquetados: a={a}, b={b}, c={c}\")"
   ]
  },
  {
   "cell_type": "code",
   "execution_count": 11,
   "id": "4fda0edb-9ca8-4aa8-8700-fd45b98337c8",
   "metadata": {},
   "outputs": [
    {
     "name": "stdout",
     "output_type": "stream",
     "text": [
      "La longitud de la tupla es: 5\n"
     ]
    }
   ],
   "source": [
    "# Ejercicio 6: Encontrar la longitud de una tupla\n",
    "\n",
    "tupla = (1, 2, 3, 4, 5)\n",
    "longitud = len(tupla)\n",
    "print(f\"La longitud de la tupla es: {longitud}\")"
   ]
  },
  {
   "cell_type": "code",
   "execution_count": 15,
   "id": "84bfc549-5ae7-4817-8c9e-f2aeef68ae7b",
   "metadata": {},
   "outputs": [
    {
     "name": "stdout",
     "output_type": "stream",
     "text": [
      "Cadena resultante: a, b, c, d\n"
     ]
    }
   ],
   "source": [
    "# Ejercicio 7: Convertir una tupla en una cadena de texto\n",
    "\n",
    "tupla = ('a', 'b', 'c', 'd')\n",
    "cadena = ', '.join(tupla)\n",
    "print(f\"Cadena resultante: {cadena}\")"
   ]
  },
  {
   "cell_type": "code",
   "execution_count": 17,
   "id": "aa4c3914-4f0c-4f0c-9ee2-9039be9e157a",
   "metadata": {},
   "outputs": [
    {
     "name": "stdout",
     "output_type": "stream",
     "text": [
      "El índice del elemento 30 es: 2\n"
     ]
    }
   ],
   "source": [
    "# Ejercicio 8: Obtener el índice de un elemento en una tupla\n",
    "\n",
    "tupla = (10, 20, 30, 40, 50)\n",
    "elemento = 30\n",
    "indice = tupla.index(elemento)\n",
    "print(f\"El índice del elemento {elemento} es: {indice}\")"
   ]
  },
  {
   "cell_type": "code",
   "execution_count": 19,
   "id": "6dd01f82-1750-4414-b72e-61543e3bcde1",
   "metadata": {},
   "outputs": [
    {
     "name": "stdout",
     "output_type": "stream",
     "text": [
      "El elemento 3 aparece 3 veces en la tupla.\n"
     ]
    }
   ],
   "source": [
    "# Ejercicio 9: Contar la frecuencia de un elemento en una tupla\n",
    "\n",
    "tupla = (1, 2, 3, 4, 3, 5, 3, 6)\n",
    "elemento = 3\n",
    "frecuencia = tupla.count(elemento)\n",
    "print(f\"El elemento {elemento} aparece {frecuencia} veces en la tupla.\")"
   ]
  },
  {
   "cell_type": "code",
   "execution_count": 21,
   "id": "00f4d300-7b77-4fbc-bf72-7b70aee20bba",
   "metadata": {},
   "outputs": [
    {
     "name": "stdout",
     "output_type": "stream",
     "text": [
      "Las tuplas son iguales.\n"
     ]
    }
   ],
   "source": [
    "# Ejercicio 10: Comparar dos tuplas\n",
    "\n",
    "tupla1 = (1, 2, 3)\n",
    "tupla2 = (1, 2, 3)\n",
    "\n",
    "if tupla1 == tupla2:\n",
    "    print(\"Las tuplas son iguales.\")\n",
    "else:\n",
    "    print(\"Las tuplas son diferentes.\")"
   ]
  },
  {
   "cell_type": "markdown",
   "id": "48213969-a721-45d2-ba11-5d35db197b07",
   "metadata": {},
   "source": [
    "## Iteraciones"
   ]
  },
  {
   "cell_type": "markdown",
   "id": "e61bec47-f212-46d9-a86c-3c8c69b6f6a2",
   "metadata": {},
   "source": [
    "### For or while"
   ]
  },
  {
   "cell_type": "code",
   "execution_count": 1,
   "id": "96ee74c9-16d3-47c2-a2bd-a616aba654e6",
   "metadata": {},
   "outputs": [
    {
     "name": "stdout",
     "output_type": "stream",
     "text": [
      "1\n",
      "2\n",
      "3\n",
      "4\n",
      "5\n",
      "6\n",
      "7\n",
      "8\n",
      "9\n",
      "10\n",
      "1\n",
      "2\n",
      "3\n",
      "4\n",
      "5\n",
      "6\n",
      "7\n",
      "8\n",
      "9\n",
      "10\n"
     ]
    }
   ],
   "source": [
    "# Ejercicio 1: Imprimir los primeros 10 números naturales utilizando for y while\n",
    "\n",
    "# 10 números naturales utilizando for\n",
    "\n",
    "def imprimir_con_for():\n",
    "    for i in range(1, 11):\n",
    "        print(i)\n",
    "        \n",
    "# 10 números naturales utilizando while\n",
    "\n",
    "def imprimir_con_while():\n",
    "    i = 1\n",
    "    while i <= 10:\n",
    "        print(i)\n",
    "        i += 1\n",
    "\n",
    "imprimir_con_for()\n",
    "imprimir_con_while()"
   ]
  },
  {
   "cell_type": "code",
   "execution_count": 3,
   "id": "731016fa-e071-4190-890d-222c6377a940",
   "metadata": {},
   "outputs": [
    {
     "name": "stdout",
     "output_type": "stream",
     "text": [
      "Suma con for: 1275\n",
      "Suma con while: 1275\n"
     ]
    }
   ],
   "source": [
    "# Ejercicio 2: Suma de los primeros 50 números utilizando for y while\n",
    "\n",
    "def suma_con_for():\n",
    "    suma = 0\n",
    "    for i in range(1, 51):\n",
    "        suma += i\n",
    "    return suma\n",
    "\n",
    "def suma_con_while():\n",
    "    suma = 0\n",
    "    i = 1\n",
    "    while i <= 50:\n",
    "        suma += i\n",
    "        i += 1\n",
    "    return suma\n",
    "\n",
    "print(\"Suma con for:\", suma_con_for())\n",
    "print(\"Suma con while:\", suma_con_while())"
   ]
  },
  {
   "cell_type": "code",
   "execution_count": 5,
   "id": "0451753b-f267-4f37-91a0-aea618dab67a",
   "metadata": {},
   "outputs": [
    {
     "name": "stdout",
     "output_type": "stream",
     "text": [
      "5 x 1 = 5\n",
      "5 x 2 = 10\n",
      "5 x 3 = 15\n",
      "5 x 4 = 20\n",
      "5 x 5 = 25\n",
      "5 x 6 = 30\n",
      "5 x 7 = 35\n",
      "5 x 8 = 40\n",
      "5 x 9 = 45\n",
      "5 x 10 = 50\n",
      "5 x 1 = 5\n",
      "5 x 2 = 10\n",
      "5 x 3 = 15\n",
      "5 x 4 = 20\n",
      "5 x 5 = 25\n",
      "5 x 6 = 30\n",
      "5 x 7 = 35\n",
      "5 x 8 = 40\n",
      "5 x 9 = 45\n",
      "5 x 10 = 50\n"
     ]
    }
   ],
   "source": [
    "# Ejercicio 3: Tabla de multiplicar utilizando for y while\n",
    "\n",
    "def tabla_multiplicar_for(numero):\n",
    "    for i in range(1, 11):\n",
    "        print(f\"{numero} x {i} = {numero * i}\")\n",
    "\n",
    "def tabla_multiplicar_while(numero):\n",
    "    i = 1\n",
    "    while i <= 10:\n",
    "        print(f\"{numero} x {i} = {numero * i}\")\n",
    "        i += 1\n",
    "\n",
    "numero = 5\n",
    "tabla_multiplicar_for(numero)\n",
    "tabla_multiplicar_while(numero)"
   ]
  },
  {
   "cell_type": "code",
   "execution_count": 7,
   "id": "7da3b588-63d2-4c6d-907f-e2f1db8c790d",
   "metadata": {},
   "outputs": [
    {
     "name": "stdout",
     "output_type": "stream",
     "text": [
      "Vocales con for: 4\n",
      "Vocales con while: 4\n"
     ]
    }
   ],
   "source": [
    "# Ejercicio 4: Contar las vocales en una cadena utilizando for y while\n",
    "\n",
    "def contar_vocales_for(cadena):\n",
    "    vocales = \"aeiouAEIOU\"\n",
    "    contador = 0\n",
    "    for letra in cadena:\n",
    "        if letra in vocales:\n",
    "            contador += 1\n",
    "    return contador\n",
    "\n",
    "def contar_vocales_while(cadena):\n",
    "    vocales = \"aeiouAEIOU\"\n",
    "    contador = 0\n",
    "    i = 0\n",
    "    while i < len(cadena):\n",
    "        if cadena[i] in vocales:\n",
    "            contador += 1\n",
    "        i += 1\n",
    "    return contador\n",
    "\n",
    "cadena = \"Hola Mundo\"\n",
    "print(\"Vocales con for:\", contar_vocales_for(cadena))\n",
    "print(\"Vocales con while:\", contar_vocales_while(cadena))"
   ]
  },
  {
   "cell_type": "code",
   "execution_count": 9,
   "id": "8d48c3cf-2a42-4f56-ad32-9ed4ad8246ea",
   "metadata": {},
   "outputs": [
    {
     "name": "stdout",
     "output_type": "stream",
     "text": [
      "Pares: [2, 4, 6, 8, 10, 12, 14, 16, 18, 20]\n",
      "Impares: [1, 3, 5, 7, 9, 11, 13, 15, 17, 19]\n",
      "Pares: [2, 4, 6, 8, 10, 12, 14, 16, 18, 20]\n",
      "Impares: [1, 3, 5, 7, 9, 11, 13, 15, 17, 19]\n"
     ]
    }
   ],
   "source": [
    "# Ejercicio 5: Imprimir números pares e impares hasta un límite utilizando for y while\n",
    "\n",
    "def imprimir_pares_impares_for(limite):\n",
    "    pares = []\n",
    "    impares = []\n",
    "    for i in range(1, limite + 1):\n",
    "        if i % 2 == 0:\n",
    "            pares.append(i)\n",
    "        else:\n",
    "            impares.append(i)\n",
    "    print(\"Pares:\", pares)\n",
    "    print(\"Impares:\", impares)\n",
    "\n",
    "def imprimir_pares_impares_while(limite):\n",
    "    pares = []\n",
    "    impares = []\n",
    "    i = 1\n",
    "    while i <= limite:\n",
    "        if i % 2 == 0:\n",
    "            pares.append(i)\n",
    "        else:\n",
    "            impares.append(i)\n",
    "        i += 1\n",
    "    print(\"Pares:\", pares)\n",
    "    print(\"Impares:\", impares)\n",
    "\n",
    "limite = 20\n",
    "imprimir_pares_impares_for(limite)\n",
    "imprimir_pares_impares_while(limite)"
   ]
  },
  {
   "cell_type": "code",
   "execution_count": 11,
   "id": "d624276f-6eca-48ec-b6b0-f1c1797dd9e3",
   "metadata": {},
   "outputs": [
    {
     "name": "stdout",
     "output_type": "stream",
     "text": [
      "1\n",
      "2\n",
      "3\n",
      "4\n",
      "5\n",
      "1\n",
      "2\n",
      "3\n",
      "4\n",
      "5\n"
     ]
    }
   ],
   "source": [
    "# Ejercicio 6: Imprimir los dígitos de un número utilizando for y while\n",
    "\n",
    "def imprimir_digitos_for(numero):\n",
    "    for digito in str(numero):\n",
    "        print(digito)\n",
    "\n",
    "def imprimir_digitos_while(numero):\n",
    "    numero = str(numero)\n",
    "    i = 0\n",
    "    while i < len(numero):\n",
    "        print(numero[i])\n",
    "        i += 1\n",
    "\n",
    "numero = 12345\n",
    "imprimir_digitos_for(numero)\n",
    "imprimir_digitos_while(numero)"
   ]
  },
  {
   "cell_type": "markdown",
   "id": "78078c19-92b6-45be-b9c7-aace931233e3",
   "metadata": {
    "jp-MarkdownHeadingCollapsed": true
   },
   "source": [
    "### Usando solo for"
   ]
  },
  {
   "cell_type": "code",
   "execution_count": 13,
   "id": "5eb6266c-1ccf-4270-8764-58e22f779898",
   "metadata": {},
   "outputs": [
    {
     "name": "stdout",
     "output_type": "stream",
     "text": [
      "Introduce un número:  5\n"
     ]
    },
    {
     "name": "stdout",
     "output_type": "stream",
     "text": [
      "1\n",
      "2\n",
      "3\n",
      "4\n",
      "5\n"
     ]
    }
   ],
   "source": [
    "# 1. Imprimir los primeros n números naturales\n",
    "\n",
    "n = int(input(\"Introduce un número: \"))\n",
    "for i in range(1, n + 1):\n",
    "    print(i)"
   ]
  },
  {
   "cell_type": "code",
   "execution_count": 15,
   "id": "5871e921-8fc6-4a77-a18f-7b2a19ef648f",
   "metadata": {},
   "outputs": [
    {
     "name": "stdout",
     "output_type": "stream",
     "text": [
      "Introduce un número límite:  3\n"
     ]
    },
    {
     "name": "stdout",
     "output_type": "stream",
     "text": [
      "2\n"
     ]
    }
   ],
   "source": [
    "# 2. Imprimir los números pares hasta un límite\n",
    "\n",
    "limite = int(input(\"Introduce un número límite: \"))\n",
    "for i in range(2, limite + 1, 2):\n",
    "    print(i)"
   ]
  },
  {
   "cell_type": "code",
   "execution_count": 17,
   "id": "6ce9248b-7c6b-40d6-a1ff-632526013550",
   "metadata": {},
   "outputs": [
    {
     "name": "stdout",
     "output_type": "stream",
     "text": [
      "Introduce un número para calcular su factorial:  5\n"
     ]
    },
    {
     "name": "stdout",
     "output_type": "stream",
     "text": [
      "El factorial de 5 es: 120\n"
     ]
    }
   ],
   "source": [
    "# 3. Calcular el factorial de un número\n",
    "\n",
    "n = int(input(\"Introduce un número para calcular su factorial: \"))\n",
    "factorial = 1\n",
    "for i in range(1, n + 1):\n",
    "    factorial *= i\n",
    "print(f\"El factorial de {n} es: {factorial}\")"
   ]
  },
  {
   "cell_type": "code",
   "execution_count": 23,
   "id": "c4f7af75-4648-4f86-b3a2-382aef0d075a",
   "metadata": {},
   "outputs": [
    {
     "name": "stdout",
     "output_type": "stream",
     "text": [
      "Introduce un valor límite:  8\n"
     ]
    },
    {
     "name": "stdout",
     "output_type": "stream",
     "text": [
      "Hay 3 números mayores que 8.\n"
     ]
    }
   ],
   "source": [
    "# 4. Contar cuántos elementos en una lista son mayores que un valor dado\n",
    "\n",
    "lista = [5, 8, 12, 20, 3, 9]\n",
    "limite = int(input(\"Introduce un valor límite: \"))\n",
    "contador = 0\n",
    "for numero in lista:\n",
    "    if numero > limite:\n",
    "        contador += 1\n",
    "print(f\"Hay {contador} números mayores que {limite}.\")"
   ]
  },
  {
   "cell_type": "code",
   "execution_count": 25,
   "id": "5ddd1497-3f2b-4d2b-85cd-e418bc2fbe2e",
   "metadata": {},
   "outputs": [
    {
     "name": "stdout",
     "output_type": "stream",
     "text": [
      "La suma de los números en la lista es: 39\n"
     ]
    }
   ],
   "source": [
    "# 5. Calcular la suma de una lista de números\n",
    "\n",
    "lista = [4, 7, 10, 15, 3]\n",
    "suma = 0\n",
    "for numero in lista:\n",
    "    suma += numero\n",
    "print(\"La suma de los números en la lista es:\", suma)"
   ]
  },
  {
   "cell_type": "code",
   "execution_count": 27,
   "id": "e32caa6c-b469-4b1f-83e1-131feea6c132",
   "metadata": {},
   "outputs": [
    {
     "name": "stdout",
     "output_type": "stream",
     "text": [
      "Introduce un número límite:  7\n"
     ]
    },
    {
     "name": "stdout",
     "output_type": "stream",
     "text": [
      "Lista de números impares: [1, 3, 5, 7]\n"
     ]
    }
   ],
   "source": [
    "# 6. Generar una lista de números impares hasta un límite\n",
    "\n",
    "limite = int(input(\"Introduce un número límite: \"))\n",
    "impares = []\n",
    "for i in range(1, limite + 1, 2):\n",
    "    impares.append(i)\n",
    "print(\"Lista de números impares:\", impares)"
   ]
  },
  {
   "cell_type": "markdown",
   "id": "755be598-6d49-4f5d-adea-ef03bb317ec8",
   "metadata": {
    "jp-MarkdownHeadingCollapsed": true
   },
   "source": [
    "### Usando sólo while"
   ]
  },
  {
   "cell_type": "code",
   "execution_count": 1,
   "id": "e3a78938-be80-427b-a0a5-3b38fff8b329",
   "metadata": {},
   "outputs": [
    {
     "name": "stdout",
     "output_type": "stream",
     "text": [
      "Introduce un número:  4\n"
     ]
    },
    {
     "name": "stdout",
     "output_type": "stream",
     "text": [
      "1\n",
      "2\n",
      "3\n",
      "4\n"
     ]
    }
   ],
   "source": [
    "# 1. Imprimir los primeros n números naturales\n",
    "\n",
    "n = int(input(\"Introduce un número: \"))\n",
    "i = 1\n",
    "while i <= n:\n",
    "    print(i)\n",
    "    i += 1"
   ]
  },
  {
   "cell_type": "code",
   "execution_count": 1,
   "id": "1f851f49-3d8f-401e-bece-c8fb603952c9",
   "metadata": {},
   "outputs": [
    {
     "name": "stdout",
     "output_type": "stream",
     "text": [
      "Introduce un valor límite:  18\n"
     ]
    },
    {
     "name": "stdout",
     "output_type": "stream",
     "text": [
      "Hay 1 números mayores que 18.\n"
     ]
    }
   ],
   "source": [
    "# 2. Contar cuántos elementos son mayores que un valor dado en una lista\n",
    "\n",
    "lista = [5, 8, 12, 20, 3, 9]\n",
    "limite = int(input(\"Introduce un valor límite: \"))\n",
    "contador = 0\n",
    "i = 0\n",
    "while i < len(lista):\n",
    "    if lista[i] > limite:\n",
    "        contador += 1\n",
    "    i += 1\n",
    "print(f\"Hay {contador} números mayores que {limite}.\")"
   ]
  },
  {
   "cell_type": "code",
   "execution_count": 1,
   "id": "de778ba9-de54-4ffc-a424-82e426976780",
   "metadata": {},
   "outputs": [
    {
     "name": "stdout",
     "output_type": "stream",
     "text": [
      "Adivina el número entre 1 y 100:  54\n"
     ]
    },
    {
     "name": "stdout",
     "output_type": "stream",
     "text": [
      "Demasiado alto.\n"
     ]
    },
    {
     "name": "stdout",
     "output_type": "stream",
     "text": [
      "Intenta de nuevo:  23\n"
     ]
    },
    {
     "name": "stdout",
     "output_type": "stream",
     "text": [
      "Demasiado alto.\n"
     ]
    },
    {
     "name": "stdout",
     "output_type": "stream",
     "text": [
      "Intenta de nuevo:  11\n"
     ]
    },
    {
     "name": "stdout",
     "output_type": "stream",
     "text": [
      "Demasiado alto.\n"
     ]
    },
    {
     "name": "stdout",
     "output_type": "stream",
     "text": [
      "Intenta de nuevo:  1\n"
     ]
    },
    {
     "name": "stdout",
     "output_type": "stream",
     "text": [
      "¡Correcto! El número era: 1\n"
     ]
    }
   ],
   "source": [
    "# 3. Adivinar un número\n",
    "\n",
    "import random\n",
    "\n",
    "numero_secreto = random.randint(1, 100)\n",
    "adivinanza = int(input(\"Adivina el número entre 1 y 100: \"))\n",
    "\n",
    "while adivinanza != numero_secreto:\n",
    "    if adivinanza < numero_secreto:\n",
    "        print(\"Demasiado bajo.\")\n",
    "    else:\n",
    "        print(\"Demasiado alto.\")\n",
    "    adivinanza = int(input(\"Intenta de nuevo: \"))\n",
    "\n",
    "print(\"¡Correcto! El número era:\", numero_secreto)"
   ]
  },
  {
   "cell_type": "code",
   "execution_count": 5,
   "id": "bb51853d-a952-43ba-bdb3-3f535d03c992",
   "metadata": {},
   "outputs": [
    {
     "name": "stdout",
     "output_type": "stream",
     "text": [
      "Introduce un número:  7\n"
     ]
    },
    {
     "name": "stdout",
     "output_type": "stream",
     "text": [
      "Lista de los primeros 7 números impares: [1, 3, 5, 7, 9, 11, 13]\n"
     ]
    }
   ],
   "source": [
    "# 4. Generar una lista de los primeros n números impares\n",
    "\n",
    "n = int(input(\"Introduce un número: \"))\n",
    "impares = []\n",
    "i = 1\n",
    "while len(impares) < n:\n",
    "    impares.append(i)\n",
    "    i += 2\n",
    "print(\"Lista de los primeros\", n, \"números impares:\", impares)"
   ]
  },
  {
   "cell_type": "code",
   "execution_count": 9,
   "id": "43ec020e-de57-4773-82e8-fb14fa95ecea",
   "metadata": {},
   "outputs": [
    {
     "name": "stdout",
     "output_type": "stream",
     "text": [
      "Elige un número entero: 2546\n"
     ]
    },
    {
     "name": "stdout",
     "output_type": "stream",
     "text": [
      "La suma de los dígitos es: 17\n"
     ]
    }
   ],
   "source": [
    "# 5. Sumar los dígitos de un número\n",
    "\n",
    "numero = int(input('Elige un número entero:'))\n",
    "suma = 0 \n",
    "\n",
    "while numero > 0:\n",
    "    suma += numero % 10\n",
    "    numero //= 10\n",
    "print(\"La suma de los dígitos es:\", suma)"
   ]
  },
  {
   "cell_type": "markdown",
   "id": "754a4b74-41bb-49b4-9c1f-68535ae44ecc",
   "metadata": {
    "jp-MarkdownHeadingCollapsed": true
   },
   "source": [
    "## Funciones"
   ]
  },
  {
   "cell_type": "code",
   "execution_count": 1,
   "id": "0fc81c5e-ceae-42f2-9f47-9f4db87a64ca",
   "metadata": {},
   "outputs": [
    {
     "name": "stdout",
     "output_type": "stream",
     "text": [
      "Introduce el radio del círculo:  45\n"
     ]
    },
    {
     "name": "stdout",
     "output_type": "stream",
     "text": [
      "El área del círculo es: 6361.725123519331\n"
     ]
    }
   ],
   "source": [
    "# Ejercicio 1. Función para calcular el área de un círculo\n",
    "\n",
    "import math\n",
    "\n",
    "def calcular_area_circulo(radio):\n",
    "    return math.pi * radio ** 2\n",
    "\n",
    "radio = float(input(\"Introduce el radio del círculo: \"))\n",
    "area = calcular_area_circulo(radio)\n",
    "print(f\"El área del círculo es: {area}\")"
   ]
  },
  {
   "cell_type": "code",
   "execution_count": 21,
   "id": "821c654d-fb70-4b14-b6a8-edfcc32920be",
   "metadata": {},
   "outputs": [
    {
     "name": "stdout",
     "output_type": "stream",
     "text": [
      "Introduce un número:  8\n"
     ]
    },
    {
     "name": "stdout",
     "output_type": "stream",
     "text": [
      "No es primo 2 es divisor\n",
      "8 no es un número primo.\n"
     ]
    }
   ],
   "source": [
    "# 2. Función para verificar si un número es primo\n",
    "\n",
    "def es_primo(num):\n",
    "    for n in range(2, num):\n",
    "        if num % n == 0:\n",
    "            print(\"No es primo\", n, \"es divisor\")\n",
    "            return False\n",
    "    print(\"Es primo\")\n",
    "    return True\n",
    "\n",
    "num = int(input(\"Introduce un número: \"))\n",
    "if es_primo(num):\n",
    "    print(f\"{num} es un número primo.\")\n",
    "else:\n",
    "    print(f\"{num} no es un número primo.\")"
   ]
  },
  {
   "cell_type": "code",
   "execution_count": 23,
   "id": "6ecd7981-656f-41c9-bb86-c1ec89806f53",
   "metadata": {},
   "outputs": [
    {
     "name": "stdout",
     "output_type": "stream",
     "text": [
      "Introduce un número:  3\n"
     ]
    },
    {
     "name": "stdout",
     "output_type": "stream",
     "text": [
      "El factorial de 3 es: 6\n"
     ]
    }
   ],
   "source": [
    "# 3. Función para calcular el factorial de un número\n",
    "\n",
    "def factorial (n):\n",
    "    resultado = 1\n",
    "    for i in range (1, n + 1):\n",
    "        resultado *= i\n",
    "    return resultado\n",
    "\n",
    "n = int(input(\"Introduce un número: \"))\n",
    "print(f\"El factorial de {n} es: {factorial(n)}\")"
   ]
  },
  {
   "cell_type": "code",
   "execution_count": 7,
   "id": "d5a194ae-6164-4119-9466-9a764b524966",
   "metadata": {},
   "outputs": [
    {
     "name": "stdout",
     "output_type": "stream",
     "text": [
      "Introduce el primer número:  2\n",
      "Introduce el segundo número:  4\n",
      "Introduce el tercer número:  9\n"
     ]
    },
    {
     "name": "stdout",
     "output_type": "stream",
     "text": [
      "El mayor de los tres números es: 9\n"
     ]
    }
   ],
   "source": [
    "# 4. Función para encontrar el máximo de tres números\n",
    "\n",
    "def maximo_de_tres(a, b, c):\n",
    "    return max(a, b, c)\n",
    "\n",
    "a = int(input(\"Introduce el primer número: \"))\n",
    "b = int(input(\"Introduce el segundo número: \"))\n",
    "c = int(input(\"Introduce el tercer número: \"))\n",
    "print('El mayor de los tres números es:', maximo_de_tres(a, b, c))"
   ]
  },
  {
   "cell_type": "code",
   "execution_count": 21,
   "id": "2ebd1298-88e6-4fdc-9eea-e3122c8cc06a",
   "metadata": {},
   "outputs": [
    {
     "name": "stdout",
     "output_type": "stream",
     "text": [
      "Introduce un número:  8\n"
     ]
    },
    {
     "name": "stdout",
     "output_type": "stream",
     "text": [
      "8 es un número par.\n"
     ]
    }
   ],
   "source": [
    "# 6. Función para verificar si un número es par o impar\n",
    "\n",
    "def es_par(numero):\n",
    "    return numero % 2 == 0\n",
    "\n",
    "numero = int(input(\"Introduce un número: \"))\n",
    "if es_par(numero):\n",
    "    print(numero, 'es un número par.')\n",
    "else:\n",
    "    print(numero, 'es un número impar.')"
   ]
  },
  {
   "cell_type": "code",
   "execution_count": 23,
   "id": "8cf36f62-b052-40ba-9125-1fc313b5dd65",
   "metadata": {},
   "outputs": [
    {
     "name": "stdout",
     "output_type": "stream",
     "text": [
      "Introduce una cadena de texto:  esto es una cadena de texto.\n"
     ]
    },
    {
     "name": "stdout",
     "output_type": "stream",
     "text": [
      "El número de vocales en la cadena es: 11\n"
     ]
    }
   ],
   "source": [
    "# 7. Función para contar el número de vocales en una cadena\n",
    "\n",
    "def contar_vocales(cadena):\n",
    "    vocales = 'aeiouAEIOU'\n",
    "    contador = 0\n",
    "    for letra in cadena:\n",
    "        if letra in vocales:\n",
    "            contador += 1\n",
    "    return contador\n",
    "\n",
    "cadena = input(\"Introduce una cadena de texto: \")\n",
    "print(f\"El número de vocales en la cadena es: {contar_vocales(cadena)}\")"
   ]
  },
  {
   "cell_type": "code",
   "execution_count": 33,
   "id": "7bb237ce-6552-493f-a138-e034063b8c41",
   "metadata": {},
   "outputs": [
    {
     "name": "stdout",
     "output_type": "stream",
     "text": [
      "Escribe una palabra para saber si es palindromo: Fiero\n"
     ]
    },
    {
     "name": "stdout",
     "output_type": "stream",
     "text": [
      "La palabra Fiero no es un palindromo.\n"
     ]
    }
   ],
   "source": [
    "# 8. Función para verificar si una palabra es un palíndromo\n",
    "\n",
    "def es_palindromo (palabra):\n",
    "    palabra = palabra.lower()\n",
    "    return palabra == palabra [::-1]\n",
    "\n",
    "palabra = input('Escribe una palabra para saber si es palindromo:')\n",
    "\n",
    "if es_palindromo (palabra):\n",
    "    print ('La palabra', palabra, 'es un palindromo.')\n",
    "else: \n",
    "    print ('La palabra', palabra, 'no es un palindromo.') "
   ]
  },
  {
   "cell_type": "code",
   "execution_count": 35,
   "id": "151457d6-fe4e-4b43-bfa5-c5015a435253",
   "metadata": {},
   "outputs": [
    {
     "name": "stdout",
     "output_type": "stream",
     "text": [
      "La suma de los elementos de la lista es: 50\n"
     ]
    }
   ],
   "source": [
    "def suma_lista(lista):\n",
    "    suma = 0\n",
    "    for numero in lista:\n",
    "        suma += numero\n",
    "    return suma\n",
    "\n",
    "lista = [5, 10, 15, 20]\n",
    "print(f\"La suma de los elementos de la lista es: {suma_lista(lista)}\")"
   ]
  },
  {
   "cell_type": "markdown",
   "id": "0967efd3-fd53-4984-89d6-1630ab2f6600",
   "metadata": {
    "jp-MarkdownHeadingCollapsed": true
   },
   "source": [
    "## Operador random"
   ]
  },
  {
   "cell_type": "code",
   "execution_count": 41,
   "id": "8579a988-4b6f-49bf-8559-b982ad067512",
   "metadata": {},
   "outputs": [
    {
     "name": "stdout",
     "output_type": "stream",
     "text": [
      "Número flotante aleatorio entre 0 y 1: 0.8488099261303828\n",
      "Color aleatorio: azul\n",
      "Muestra aleatoria sin reemplazo: [20, 30, 50]\n",
      "Cartas barajadas: ['10', 'J', 'Q', 'K', 'A']\n"
     ]
    }
   ],
   "source": [
    "# Distintas operaciones con random\n",
    "\n",
    "import random\n",
    "\n",
    "numero_flotante = random.random()\n",
    "print(f\"Número flotante aleatorio entre 0 y 1: {numero_flotante}\")\n",
    "\n",
    "# Seleccionar un color aleatorio de una lista\n",
    "colores = [\"rojo\", \"verde\", \"azul\", \"amarillo\"]\n",
    "color_aleatorio = random.choice(colores)\n",
    "print(f\"Color aleatorio: {color_aleatorio}\")\n",
    "\n",
    "# Seleccionar 3 números aleatorios de una lista sin repetir\n",
    "numeros = [10, 20, 30, 40, 50]\n",
    "muestra = random.sample(numeros, 3)\n",
    "print(f\"Muestra aleatoria sin reemplazo: {muestra}\")\n",
    "\n",
    "# Barajar una lista de cartas\n",
    "cartas = [\"A\", \"K\", \"Q\", \"J\", \"10\"]\n",
    "random.shuffle(cartas)\n",
    "print(f\"Cartas barajadas: {cartas}\")"
   ]
  },
  {
   "cell_type": "code",
   "execution_count": 11,
   "id": "7a5c5e4a-6cf8-4108-b56d-b4ecfb2209f7",
   "metadata": {},
   "outputs": [
    {
     "name": "stdout",
     "output_type": "stream",
     "text": [
      "El resultado de un número aleatorio entre 1 y 100 es: 7\n"
     ]
    }
   ],
   "source": [
    "# 1. Generar un número aleatorio entre 1 y 100\n",
    "\n",
    "import random\n",
    "numero = random.randint(1,100)\n",
    "print ('El resultado de un número aleatorio entre 1 y 100 es:', numero)"
   ]
  },
  {
   "cell_type": "code",
   "execution_count": 15,
   "id": "fa64d075-180d-4d09-a4f2-46f4a18fb178",
   "metadata": {},
   "outputs": [
    {
     "name": "stdout",
     "output_type": "stream",
     "text": [
      "El resultado de la tirada es: 6\n"
     ]
    }
   ],
   "source": [
    "# 2. Simular el lanzamiento de un dado de 6 caras\n",
    "\n",
    "import random\n",
    "numero = random.randint(1,6)\n",
    "print ('El resultado de la tirada es:', numero)"
   ]
  },
  {
   "cell_type": "code",
   "execution_count": 23,
   "id": "b52cafc7-7a89-47ab-b3d2-794397183594",
   "metadata": {},
   "outputs": [
    {
     "name": "stdout",
     "output_type": "stream",
     "text": [
      "La contraseña generada es: \"L&$;>$e\n"
     ]
    }
   ],
   "source": [
    "# 3. Generar una contraseña aleatoria con 8 caracteres, números y simbolos \n",
    "\n",
    "import random\n",
    "import string\n",
    "\n",
    "caracteres = string.ascii_letters + string.digits + string.punctuation\n",
    "contraseña = ''.join(random.choice(caracteres) for _ in range(8))\n",
    "print(f\"La contraseña generada es: {contraseña}\")"
   ]
  },
  {
   "cell_type": "code",
   "execution_count": 29,
   "id": "f8994e52-5244-4c4d-a683-c65be7ab6eb8",
   "metadata": {},
   "outputs": [
    {
     "name": "stdout",
     "output_type": "stream",
     "text": [
      "El ganador del sorteo es: Carlos\n"
     ]
    }
   ],
   "source": [
    "# 4. Selección de elementos aleatorios de una lista\n",
    "\n",
    "import random\n",
    "\n",
    "lst = ['Pepe', 'Ana', 'Carlos', 'Juan', 'Diego', 'Rosa']\n",
    "nombre_aleatorio = random.choice(lst)\n",
    "print ('El ganador del sorteo es:', nombre_aleatorio)"
   ]
  },
  {
   "cell_type": "code",
   "execution_count": 43,
   "id": "dd7fb53a-c667-42eb-a7e2-9fe7c9e15fbb",
   "metadata": {},
   "outputs": [
    {
     "name": "stdout",
     "output_type": "stream",
     "text": [
      "La moneda ha salido: cruz\n"
     ]
    }
   ],
   "source": [
    "# 5. Simular el lanzamiento de una moneda\n",
    "\n",
    "import random\n",
    "\n",
    "moneda = random.choice(['cara','cruz'])\n",
    "print ('La moneda ha salido:', moneda)"
   ]
  },
  {
   "cell_type": "code",
   "execution_count": 49,
   "id": "b0809c7a-deca-4d91-ab00-45ef874ba23f",
   "metadata": {},
   "outputs": [
    {
     "name": "stdout",
     "output_type": "stream",
     "text": [
      "Cuantas caras tiene el dado? 54\n"
     ]
    },
    {
     "name": "stdout",
     "output_type": "stream",
     "text": [
      "El resultado del lanzamiento es: 23\n"
     ]
    }
   ],
   "source": [
    "# 6. Simular un dado de n caras \n",
    "\n",
    "import random \n",
    "\n",
    "caras = int(input('Cuantas caras tiene el dado?'))\n",
    "lanzamiento_dado = random.randint (1,caras)\n",
    "print ('El resultado del lanzamiento es:', lanzamiento_dado)"
   ]
  },
  {
   "cell_type": "code",
   "execution_count": 29,
   "id": "6c78e7f5-e95e-441e-a617-5237192ed969",
   "metadata": {},
   "outputs": [
    {
     "name": "stdout",
     "output_type": "stream",
     "text": [
      "The early bird gets the worm, but the second mouse gets the cheese.\n",
      "Someone in your life needs a letter from you.\n",
      "Help! I’m being held prisoner in a Chinese bakery!\n"
     ]
    }
   ],
   "source": [
    "import random\n",
    "\n",
    "options = [\n",
    "  'Don’t pursue happiness – create it.',\n",
    "  'All things are difficult before they are easy.',\n",
    "  'The early bird gets the worm, but the second mouse gets the cheese.',\n",
    "  'If you eat something and nobody sees you eat it, it has no calories.',\n",
    "  'Someone in your life needs a letter from you.',\n",
    "  'Don’t just think. Act!',\n",
    "  'Your heart will skip a beat.',\n",
    "  'The fortune you search for is in another cookie.',\n",
    "  'Help! I’m being held prisoner in a Chinese bakery!'\n",
    "]\n",
    "\n",
    "def fortune():\n",
    "  random_fortune = random.randint(0, len(options) - 1)\n",
    "  print(options[random_fortune])\n",
    "\n",
    "fortune()\n",
    "fortune()\n",
    "fortune()"
   ]
  },
  {
   "cell_type": "code",
   "execution_count": null,
   "id": "79b1e499-5e34-4dcb-adea-ff6554c4178f",
   "metadata": {},
   "outputs": [],
   "source": []
  }
 ],
 "metadata": {
  "kernelspec": {
   "display_name": "Python 3 (ipykernel)",
   "language": "python",
   "name": "python3"
  },
  "language_info": {
   "codemirror_mode": {
    "name": "ipython",
    "version": 3
   },
   "file_extension": ".py",
   "mimetype": "text/x-python",
   "name": "python",
   "nbconvert_exporter": "python",
   "pygments_lexer": "ipython3",
   "version": "3.12.4"
  }
 },
 "nbformat": 4,
 "nbformat_minor": 5
}
