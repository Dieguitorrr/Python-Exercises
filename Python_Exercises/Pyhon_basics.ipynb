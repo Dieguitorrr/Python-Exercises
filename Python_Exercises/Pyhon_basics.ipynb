{
 "cells": [
  {
   "cell_type": "markdown",
   "id": "94258bbb-97be-4580-9e1b-5015203b741d",
   "metadata": {},
   "source": [
    "# Python Basics"
   ]
  },
  {
   "cell_type": "markdown",
   "id": "3e2ae42c-5800-4657-8baa-682ee26c339a",
   "metadata": {
    "jp-MarkdownHeadingCollapsed": true
   },
   "source": [
    "## Basic operators"
   ]
  },
  {
   "cell_type": "code",
   "execution_count": 3,
   "id": "45e5947d-f3c6-438d-83a8-f6135be6f404",
   "metadata": {},
   "outputs": [
    {
     "name": "stdout",
     "output_type": "stream",
     "text": [
      "You have 1187.4 dolars left.\n"
     ]
    }
   ],
   "source": [
    "#The simplest cash converter\n",
    "x = float(int(input('What do you have left in pesos?')))\n",
    "y = float(int(input('What do you have left in soles?')))\n",
    "z = float(int(input('What do you have left in reais?')))\n",
    "dollars = x * 0.051 + y * 0.027 + z * 0.18\n",
    "print ('You have', dollars, 'dolars left.')"
   ]
  },
  {
   "cell_type": "markdown",
   "id": "b7fdc602-d9af-4bd7-ba18-026f2112f502",
   "metadata": {
    "jp-MarkdownHeadingCollapsed": true
   },
   "source": [
    "## Lists"
   ]
  },
  {
   "cell_type": "code",
   "execution_count": 1,
   "id": "4fd7dec2-6214-493a-93a1-ab56d71e3fbb",
   "metadata": {},
   "outputs": [
    {
     "name": "stdout",
     "output_type": "stream",
     "text": [
      "Day 0\n",
      "Day 1\n",
      "Day 2\n",
      "Day 3\n",
      "Day 4\n",
      "Day 5\n",
      "Day 6\n"
     ]
    }
   ],
   "source": [
    "# Range with 7 days\n",
    "\n",
    "for days in range(7):\n",
    "    print ('Day', days)"
   ]
  },
  {
   "cell_type": "code",
   "execution_count": 3,
   "id": "38064d9c-3d2a-46e6-9c30-990398b52712",
   "metadata": {},
   "outputs": [
    {
     "name": "stdout",
     "output_type": "stream",
     "text": [
      "apple\n",
      "banana\n",
      "cherry\n"
     ]
    }
   ],
   "source": [
    "# Basic list with fruits\n",
    "\n",
    "fruits = ['apple', 'banana', 'cherry']\n",
    "for fruit in fruits:\n",
    "\tprint(fruit)"
   ]
  },
  {
   "cell_type": "code",
   "execution_count": 5,
   "id": "5b4e5a9f-55b9-45f0-8274-6519db9a5b8c",
   "metadata": {},
   "outputs": [
    {
     "name": "stdout",
     "output_type": "stream",
     "text": [
      "D\n",
      "i\n",
      "e\n",
      "g\n",
      "o\n"
     ]
    }
   ],
   "source": [
    "# Basic range with your name\n",
    "\n",
    "name = 'Diego'\n",
    "for letters in name:\n",
    "    print (letters)"
   ]
  },
  {
   "cell_type": "code",
   "execution_count": 9,
   "id": "f241a0e7-24bc-479c-8d00-4456e4e25d04",
   "metadata": {},
   "outputs": [
    {
     "name": "stdout",
     "output_type": "stream",
     "text": [
      "2\n",
      "4\n",
      "6\n",
      "8\n"
     ]
    }
   ],
   "source": [
    "# Basic range with start, stop and step\n",
    "\n",
    "for i in range(2,10,2): #Creates start, stop, step\n",
    "\tprint(i)"
   ]
  },
  {
   "cell_type": "code",
   "execution_count": 13,
   "id": "943a0875-342a-4470-897b-8d1a31f15cf1",
   "metadata": {},
   "outputs": [
    {
     "name": "stdout",
     "output_type": "stream",
     "text": [
      "55\n"
     ]
    }
   ],
   "source": [
    "# Basic range exercise\n",
    "\n",
    "total = 0 #Input variable before the range so i can add to this variable\n",
    "for i in range(1,11):\n",
    "\ttotal += i\n",
    "print(total)"
   ]
  },
  {
   "cell_type": "code",
   "execution_count": 53,
   "id": "b360111e-3562-4079-baff-87268302de54",
   "metadata": {},
   "outputs": [
    {
     "name": "stdout",
     "output_type": "stream",
     "text": [
      "[1, 2, 3, 5, 8, 9, 12, 13, 21, 23, 34, 39, 45, 46, 67, 89, 90, 98, 100, 110]\n"
     ]
    }
   ],
   "source": [
    "# Simple exercise with a list with basic commands\n",
    "\n",
    "lst = [1,2,34,5,3,12,9, 8, 67, 89, 98, 90, 39, 21, 45, 46, 23, 13]\n",
    " \n",
    "len(lst)\n",
    "lst[0]\n",
    "lst[len(lst)-1]\n",
    "lst.index(90)\n",
    "lst[:8]\n",
    "lst.append(100)\n",
    "lst.append(110)\n",
    " \n",
    "lst.sort()\n",
    " \n",
    "print(lst)"
   ]
  },
  {
   "cell_type": "code",
   "execution_count": 68,
   "id": "5d40fa08-c146-455b-8a50-eec9a6d94cf1",
   "metadata": {},
   "outputs": [
    {
     "name": "stdout",
     "output_type": "stream",
     "text": [
      "Average: 6.0\n"
     ]
    }
   ],
   "source": [
    "#List average\n",
    "\n",
    "numbers = [2, 4, 6, 8, 10]\n",
    "average = sum(numbers) / len(numbers) #use sum to sum up all numbers in list and len to divide by the number of items in the list\n",
    "print('Average:', average)"
   ]
  },
  {
   "cell_type": "code",
   "execution_count": 66,
   "id": "b5b93c36-5f10-4713-adf0-6665fcb3cf24",
   "metadata": {},
   "outputs": [
    {
     "name": "stdout",
     "output_type": "stream",
     "text": [
      "What name are you looking for? Anna\n"
     ]
    },
    {
     "name": "stdout",
     "output_type": "stream",
     "text": [
      "Anna not found in the list.\n"
     ]
    }
   ],
   "source": [
    "# Simple program that finds if a name is in a list\n",
    "\n",
    "names = [\"Alice\", \"Bob\", \"Charlie\", \"Dave\"]\n",
    "name = input('What name are you looking for?')\n",
    "if name in names:\n",
    "    index = names.index(name)\n",
    "    print(name, 'found at index', index)\n",
    "else:\n",
    "    print(name, 'not found in the list.')"
   ]
  },
  {
   "cell_type": "code",
   "execution_count": 140,
   "id": "df09b12b-5ae0-4663-a9bb-121f0d972e42",
   "metadata": {},
   "outputs": [
    {
     "name": "stdout",
     "output_type": "stream",
     "text": [
      "number divisible by 3:  12\n",
      "number divisible by 3:  6\n",
      "number divisible by 3:  12\n",
      "number divisible by 3:  93\n",
      "number divisible by 3:  783\n",
      "number divisible by 3:  330\n"
     ]
    }
   ],
   "source": [
    "# Find numbers divisible by 3\n",
    "\n",
    "x = [12, 43, 4, 1, 6, 343, 10, 34, 12, 93, 783, 330, 896, 1, 55]\n",
    "for item in x:\n",
    "    if item%3==0:\n",
    "        print(\"number divisible by 3: \", item)"
   ]
  },
  {
   "cell_type": "code",
   "execution_count": 138,
   "id": "1f399ec8-f7a7-4e83-8084-953a4e9f28eb",
   "metadata": {},
   "outputs": [
    {
     "name": "stdout",
     "output_type": "stream",
     "text": [
      "['43', '343', '93', '783']\n"
     ]
    }
   ],
   "source": [
    "# Find numbers ending in 3\n",
    "\n",
    "x = [12, 43, 4, 1, 6, 343, 10, 34, 12, 93, 783, 330, 896, 1, 55]\n",
    "output_list = []\n",
    "for item in x:\n",
    "    item = str(item)\n",
    "    last_digit = item[-1]\n",
    "    if last_digit == '3':\n",
    "        output_list.append(item)\n",
    "print(output_list) # ['43', '343', '93', '783']"
   ]
  },
  {
   "cell_type": "code",
   "execution_count": null,
   "id": "84a56c53-6a31-4b4f-80f8-3ed31cdbdd22",
   "metadata": {},
   "outputs": [],
   "source": [
    "# find minimum and maximum in list x:\n",
    " \n",
    "print(\"min in list 'x': \", min(x)) # 1\n",
    "print(\"max in list 'x': \", max(x)) # 896"
   ]
  },
  {
   "cell_type": "code",
   "execution_count": 144,
   "id": "d583e3e3-8680-49e2-8e0d-6e7da87c89ce",
   "metadata": {},
   "outputs": [
    {
     "name": "stdout",
     "output_type": "stream",
     "text": [
      "conversation\n",
      "we're\n",
      "plate\n",
      "sour\n",
      "jukebox\n",
      "taxi\n",
      "fast\n",
      "bag\n",
      "man\n",
      "going\n",
      "don't\n",
      "one\n",
      "mind\n",
      "backseat\n",
      "friends\n",
      "know\n"
     ]
    }
   ],
   "source": [
    "# Iterate on the items of this dictionary to print only those keys where the frequency of the word is less than 3.\n",
    "\n",
    "word_freq = {'love': 25, 'conversation': 1, 'every': 6, \"we're\": 1, 'plate': 1, 'sour': 1, 'jukebox': 1, 'now': 11, 'taxi': 1, 'fast': 1, 'bag': 1, 'man': 1, 'push': 3, 'baby': 14, 'going': 1, 'you': 16, \"don't\": 2, 'one': 1, 'mind': 2, 'backseat': 1, 'friends': 1, 'then': 3, 'know': 2}\n",
    "\n",
    "for word, freq in word_freq.items():\n",
    "    if freq < 3:\n",
    "        print(word)"
   ]
  },
  {
   "cell_type": "code",
   "execution_count": 150,
   "id": "cd1cf584-935a-46d8-827d-05e0d570fc41",
   "metadata": {},
   "outputs": [
    {
     "name": "stdout",
     "output_type": "stream",
     "text": [
      "love\n"
     ]
    }
   ],
   "source": [
    "# Which is the word with the highest frequency?\n",
    "\n",
    "word_freq = {'love': 25, 'conversation': 1, 'every': 6, \"we're\": 1, 'plate': 1, 'sour': 1, 'jukebox': 1, 'now': 11, 'taxi': 1, 'fast': 1, 'bag': 1, 'man': 1, 'push': 3, 'baby': 14, 'going': 1, 'you': 16, \"don't\": 2, 'one': 1, 'mind': 2, 'backseat': 1, 'friends': 1, 'then': 3, 'know': 2}\n",
    "\n",
    "frequencies = list(word_freq.values()) # We convert the values to a list so we can use the max() function to get the max value\n",
    "max_freq = max(frequencies) \n",
    "for word, freq in word_freq.items():\n",
    "    if freq == max_freq:\n",
    "        print(word)\n",
    "        "
   ]
  },
  {
   "cell_type": "markdown",
   "id": "e6831e5e-ac11-420c-acd6-034b303c779b",
   "metadata": {
    "jp-MarkdownHeadingCollapsed": true
   },
   "source": [
    "## Iterations"
   ]
  },
  {
   "cell_type": "code",
   "execution_count": 70,
   "id": "28eff727-b297-40f0-b7fd-889ff7c4b6f5",
   "metadata": {
    "scrolled": true
   },
   "outputs": [
    {
     "name": "stdout",
     "output_type": "stream",
     "text": [
      "10\n",
      "11\n",
      "12\n",
      "13\n",
      "14\n",
      "15\n",
      "16\n",
      "17\n",
      "18\n",
      "19\n",
      "20\n",
      "21\n",
      "22\n",
      "23\n",
      "24\n",
      "25\n",
      "26\n",
      "27\n",
      "28\n",
      "29\n",
      "30\n"
     ]
    }
   ],
   "source": [
    "# Range 1 to 30\n",
    "for i in range(10,31):\n",
    "    print(i)"
   ]
  },
  {
   "cell_type": "code",
   "execution_count": 88,
   "id": "f5465f10-7334-40d8-9b3b-95125961eec6",
   "metadata": {},
   "outputs": [
    {
     "name": "stdout",
     "output_type": "stream",
     "text": [
      "10\n",
      "15\n",
      "20\n",
      "25\n",
      "30\n"
     ]
    }
   ],
   "source": [
    "#Range 1 to 30\n",
    "for i in range(10,31): #This range function uses start and stop\n",
    "    if i%5==0:\n",
    "        print(i)"
   ]
  },
  {
   "cell_type": "code",
   "execution_count": 76,
   "id": "4e2ec89a-1be8-48e1-b714-7465af427f6c",
   "metadata": {},
   "outputs": [
    {
     "name": "stdout",
     "output_type": "stream",
     "text": [
      "*\n",
      "***\n",
      "*****\n"
     ]
    }
   ],
   "source": [
    "#exercise 1 with asteriscs\n",
    "for i in range(1,6,2): #This range function uses start, stop and step\n",
    "    print(i*\"*\")"
   ]
  },
  {
   "cell_type": "code",
   "execution_count": 86,
   "id": "61293635-420c-4821-9bd3-30bbb78cc408",
   "metadata": {},
   "outputs": [
    {
     "name": "stdout",
     "output_type": "stream",
     "text": [
      "   *\n",
      "  ***\n",
      " *****\n"
     ]
    }
   ],
   "source": [
    "#exercise 2 with asteriscs\n",
    "space = 2\n",
    "for i in range(1,6,2): #This range function uses start, stop and step\n",
    "    print(space*\" \",i*\"*\")\n",
    "    space = space - 1"
   ]
  },
  {
   "cell_type": "code",
   "execution_count": 84,
   "id": "1ab0f210-5872-4a46-abd4-46620d5c11da",
   "metadata": {},
   "outputs": [
    {
     "name": "stdout",
     "output_type": "stream",
     "text": [
      "Please enter a positive integer:  4\n"
     ]
    },
    {
     "name": "stdout",
     "output_type": "stream",
     "text": [
      "Factorial is:  24\n",
      "The answer is correct\n"
     ]
    }
   ],
   "source": [
    "#Import math function\n",
    "import math\n",
    "#Use the function input() to prompt the user to enter an integer number.\n",
    "a = int(input(\"Please enter a positive integer: \"))\n",
    "#Then calculate the factorial of that number using loops.\n",
    "result = 1\n",
    "for a in range(2,a+1):\n",
    "    result = result*a\n",
    "#To verify the correctness of your result, you can compare it with the factorial calculated using the factorial from the math library.\n",
    "if result == math.factorial(a):\n",
    "    print(\"Factorial is: \", result)\n",
    "    print(\"The answer is correct\")\n",
    "else:\n",
    "    print(\"Your answer is not correct\")"
   ]
  },
  {
   "cell_type": "markdown",
   "id": "cfbd2564-7ade-4c50-af80-13a0a885929c",
   "metadata": {},
   "source": [
    "## Conditional Statements"
   ]
  },
  {
   "cell_type": "code",
   "execution_count": 49,
   "id": "db82abfc-d533-47b1-b0f5-b21b89466031",
   "metadata": {},
   "outputs": [
    {
     "name": "stdout",
     "output_type": "stream",
     "text": [
      "Enter a letter of the alphabet:  Z\n"
     ]
    },
    {
     "name": "stdout",
     "output_type": "stream",
     "text": [
      "The letter is a consonant.\n"
     ]
    }
   ],
   "source": [
    "#A program that determines if a letter is a consonant or a vowel\n",
    "\n",
    "letter = input(\"Enter a letter of the alphabet: \")\n",
    " \n",
    "# Convert the letter to lowercase for easier comparison\n",
    "letter = letter.lower()\n",
    " \n",
    "if letter == 'a' or letter == 'e' or letter == 'i' or letter == 'o' or letter == 'u':\n",
    "    print(\"The letter is a vowel.\")\n",
    "else:\n",
    "    print(\"The letter is a consonant.\")"
   ]
  },
  {
   "cell_type": "code",
   "execution_count": 55,
   "id": "2335ca76-602a-4842-adf8-eeba0be2325d",
   "metadata": {},
   "outputs": [
    {
     "name": "stdout",
     "output_type": "stream",
     "text": [
      "Please input an integer:  16\n"
     ]
    },
    {
     "name": "stdout",
     "output_type": "stream",
     "text": [
      "16 is even\n"
     ]
    }
   ],
   "source": [
    "#Simple program that determines if a number is odd or even\n",
    "\n",
    "a = input(\"Please input an integer: \")\n",
    " \n",
    "if a.isdigit(): #Use is isdigit() to determine if the input is a number\n",
    "    a = int(a) #Validates that the number is an integer\n",
    " \n",
    "    if a == 0:\n",
    "        print(a, 'is zero')\n",
    "    elif a%2 ==0:\n",
    "        print(a, 'is even')\n",
    "    else:\n",
    "        print(a, 'is odd')\n",
    "else:\n",
    "    print(\"Input was not an integer\")"
   ]
  },
  {
   "cell_type": "code",
   "execution_count": 58,
   "id": "05ee54ca-24a4-4c79-8f5c-7953ab274aa6",
   "metadata": {},
   "outputs": [
    {
     "name": "stdout",
     "output_type": "stream",
     "text": [
      "What is your grade? 84.5\n"
     ]
    },
    {
     "name": "stdout",
     "output_type": "stream",
     "text": [
      "Your grade is B\n"
     ]
    }
   ],
   "source": [
    "#This is a simple grades calculator\n",
    "\n",
    "#Ask the question\n",
    "grade = float(input('What is your grade?'))\n",
    "\n",
    "#2.Define variables using if, elif, else\n",
    "if grade > 90:\n",
    "  print('Your grade is A')\n",
    "elif grade > 80:\n",
    "  print('Your grade is B')\n",
    "elif grade > 70:\n",
    "  print('Your grade is C')\n",
    "elif grade > 60:\n",
    "  print('Your grade is D')\n",
    "else:\n",
    "  print('Your grade is F')"
   ]
  },
  {
   "cell_type": "code",
   "execution_count": 60,
   "id": "98f14835-4645-48f1-89a6-97733cae2854",
   "metadata": {},
   "outputs": [
    {
     "name": "stdout",
     "output_type": "stream",
     "text": [
      "What is your PH? 8\n"
     ]
    },
    {
     "name": "stdout",
     "output_type": "stream",
     "text": [
      "Your PH is Basic.\n"
     ]
    }
   ],
   "source": [
    "#This program calculates if your PH level is basic, acidic or neutral\n",
    "\n",
    "#1.Ask the question\n",
    "PH = float(input('What is your PH?'))\n",
    "\n",
    "#2.Define variables using if, elif, else\n",
    "if PH > 7:\n",
    "  print ('Your PH is Basic.')\n",
    "elif PH < 7:\n",
    "  print ('Your PH is Acidic')\n",
    "else:\n",
    "  print ('Your PH is Neutral')"
   ]
  },
  {
   "cell_type": "code",
   "execution_count": 90,
   "id": "6dac2ce4-d9d9-45b6-8377-85a53d575978",
   "metadata": {},
   "outputs": [
    {
     "name": "stdout",
     "output_type": "stream",
     "text": [
      "What is your height (cm)?  187\n",
      "How many credits do you have?  13\n"
     ]
    },
    {
     "name": "stdout",
     "output_type": "stream",
     "text": [
      "Enjoy the ride!\n"
     ]
    }
   ],
   "source": [
    "# Cyclone.py program from Codedex\n",
    "height = int(input('What is your height (cm)? '))\n",
    "credits = int(input('How many credits do you have? '))\n",
    "if height >= 185 and credits >= 10:\n",
    "  print ('Enjoy the ride!')\n",
    "elif height < 185 and credits >= 10:\n",
    "  print ('You are not tall enough to ride.')\n",
    "elif height >= 185 and credits < 10:\n",
    "  print (\"You don't have enough credits.\")\n",
    "else:\n",
    "  print (\"You don't have enough credits nad you are not tall enough.\")"
   ]
  },
  {
   "cell_type": "code",
   "execution_count": 94,
   "id": "ea860d83-ed24-4186-9330-00553080dd40",
   "metadata": {},
   "outputs": [
    {
     "name": "stdout",
     "output_type": "stream",
     "text": [
      "===============\n",
      "The Sorting Hat\n",
      "===============\n",
      "Q1) Do you like Dawn or Dusk?\n",
      "  1) Dawn\n",
      "  2) Dusk\n"
     ]
    },
    {
     "name": "stdout",
     "output_type": "stream",
     "text": [
      "Enter answer (1-2):  1\n"
     ]
    },
    {
     "name": "stdout",
     "output_type": "stream",
     "text": [
      "\n",
      "Q2) When I'm dead, I want people to remember me as:\n",
      "  1) The Good\n",
      "  2) The Great\n",
      "  3) The Wise\n",
      "  4) The Bold\n"
     ]
    },
    {
     "name": "stdout",
     "output_type": "stream",
     "text": [
      "Enter your answer (1-4):  1\n"
     ]
    },
    {
     "name": "stdout",
     "output_type": "stream",
     "text": [
      "\n",
      "Q3) Which kind of instrument most pleases your ear?\n",
      "  1) The violin\n",
      "  2) The trumpet\n",
      "  3) The piano\n",
      "  4) The drum\n"
     ]
    },
    {
     "name": "stdout",
     "output_type": "stream",
     "text": [
      "Enter your answer (1-4):  3\n"
     ]
    },
    {
     "name": "stdout",
     "output_type": "stream",
     "text": [
      "Gryffindor:  1\n",
      "Ravenclaw:  5\n",
      "Hufflepuff:  2\n",
      "Slytherin:  0\n",
      "🦅 Ravenclaw!\n"
     ]
    }
   ],
   "source": [
    "# Sorting Hat 🧙‍♂️\n",
    "\n",
    "gryffindor = 0\n",
    "hufflepuff = 0\n",
    "ravenclaw = 0\n",
    "slytherin = 0\n",
    "\n",
    "print('===============')\n",
    "print('The Sorting Hat')\n",
    "print('===============')\n",
    "\n",
    "# ~~~~~~~~~~~~~~~ Question 1 ~~~~~~~~~~~~~~~\n",
    "\n",
    "print('Q1) Do you like Dawn or Dusk?')\n",
    "\n",
    "print('  1) Dawn')\n",
    "print('  2) Dusk')\n",
    "\n",
    "answer = int(input('Enter answer (1-2): '))\n",
    "\n",
    "if answer == 1:\n",
    "  gryffindor += 1\n",
    "  ravenclaw += 1\n",
    "elif answer == 2:\n",
    "  hufflepuff += 1\n",
    "  slytherin +=1\n",
    "else:\n",
    "  print('Wrong input.')\n",
    "\n",
    "# ~~~~~~~~~~~~~~~ Question 2 ~~~~~~~~~~~~~~~\n",
    "\n",
    "print(\"\\nQ2) When I'm dead, I want people to remember me as:\")\n",
    "\n",
    "print('  1) The Good')\n",
    "print('  2) The Great')\n",
    "print('  3) The Wise')\n",
    "print('  4) The Bold')\n",
    "\n",
    "answer = int(input('Enter your answer (1-4): '))\n",
    "\n",
    "if answer == 1:\n",
    "  hufflepuff += 2\n",
    "elif answer == 2:\n",
    "  slytherin += 2\n",
    "elif answer == 3:\n",
    "  ravenclaw += 2\n",
    "elif answer == 4:\n",
    "  gryffindor += 2\n",
    "else:\n",
    "  print('Wrong input.')\n",
    "\n",
    "# ~~~~~~~~~~~~~~~ Question 3 ~~~~~~~~~~~~~~~\n",
    "\n",
    "print('\\nQ3) Which kind of instrument most pleases your ear?')\n",
    "\n",
    "print('  1) The violin')\n",
    "print('  2) The trumpet')\n",
    "print('  3) The piano')\n",
    "print('  4) The drum')\n",
    "\n",
    "answer = int(input('Enter your answer (1-4): '))\n",
    "\n",
    "if answer == 1:\n",
    "  slytherin += 4\n",
    "elif answer == 2:\n",
    "  hufflepuff += 4\n",
    "elif answer == 3:\n",
    "  ravenclaw +=4\n",
    "elif answer == 4:\n",
    "  gryffindor += 4\n",
    "else:\n",
    "  print('Wrong input.')\n",
    "  \n",
    "print(\"Gryffindor: \", gryffindor)\n",
    "print(\"Ravenclaw: \", ravenclaw)\n",
    "print(\"Hufflepuff: \", hufflepuff)\n",
    "print(\"Slytherin: \", slytherin)\n",
    "\n",
    "if gryffindor >= ravenclaw and gryffindor >= hufflepuff and gryffindor >= slytherin:\n",
    "  print('🦁 Gryffindor!')\n",
    "elif ravenclaw >= hufflepuff and ravenclaw >= slytherin:\n",
    "  print('🦅 Ravenclaw!')\n",
    "elif hufflepuff >= slytherin:\n",
    "  print('🦡 Hufflepuff!')\n",
    "else:\n",
    "  print('🐍 Slytherin!')"
   ]
  },
  {
   "cell_type": "markdown",
   "id": "c5f873e7-a345-42e9-8c95-919c81dccfda",
   "metadata": {
    "jp-MarkdownHeadingCollapsed": true
   },
   "source": [
    "## Random Module"
   ]
  },
  {
   "cell_type": "code",
   "execution_count": 31,
   "id": "1c99a184-8075-4675-a1a3-95bb073bdb61",
   "metadata": {},
   "outputs": [
    {
     "name": "stdout",
     "output_type": "stream",
     "text": [
      "Tails\n"
     ]
    }
   ],
   "source": [
    "#This a program that flips a coin and gives a result\n",
    "\n",
    "import random\n",
    "\n",
    "num = random.randint(0, 1)   # Generates a random number that's either 0 or 1\n",
    "\n",
    "if num > 0.5:\n",
    "  print('Heads')\n",
    "else:\n",
    "  print('Tails')"
   ]
  },
  {
   "cell_type": "code",
   "execution_count": 62,
   "id": "02b9e80e-d99f-4898-bf10-ddd69283d1c0",
   "metadata": {},
   "outputs": [
    {
     "name": "stdout",
     "output_type": "stream",
     "text": [
      "What is your question? Will I win the Bonoloto soon?\n"
     ]
    },
    {
     "name": "stdout",
     "output_type": "stream",
     "text": [
      "Question:  Will I win the Bonoloto soon?\n",
      "Reply hazy, try again.\n"
     ]
    }
   ],
   "source": [
    "#This is a program that asks quiestions to a magic ball\n",
    "\n",
    "#1.Import random\n",
    "import random\n",
    "\n",
    "#2.Ask the question\n",
    "question = input('What is your question?')\n",
    "print ('Question: ',question)\n",
    "\n",
    "#3.Define the variables from 1 to 9 and print options\n",
    "num = random.randint(1, 9)\n",
    "if num == 1:\n",
    "  print ('Yes - definitely.')\n",
    "elif num == 2:\n",
    "  print ('It is decidedly so.')\n",
    "elif num == 3:\n",
    "  print ('Without a doubt.')\n",
    "elif num == 4:\n",
    "  print ('Reply hazy, try again.') \n",
    "elif num == 5:\n",
    "  print ('Ask again later.')\n",
    "elif num == 6:\n",
    "  print ('Better not tell you now.')\n",
    "elif num == 7:\n",
    "  print ('My sources say no.')\n",
    "elif num == 8:\n",
    "  print ('Outlook not so good.')\n",
    "else:\n",
    "  print ('Very doubtful.')"
   ]
  },
  {
   "cell_type": "code",
   "execution_count": 152,
   "id": "d1300765-2e8d-4579-bab6-418d0b5a5ad4",
   "metadata": {},
   "outputs": [
    {
     "name": "stdout",
     "output_type": "stream",
     "text": [
      "Guess the number between 1 and 100:  25\n"
     ]
    },
    {
     "name": "stdout",
     "output_type": "stream",
     "text": [
      "Too high, try again!\n"
     ]
    },
    {
     "name": "stdout",
     "output_type": "stream",
     "text": [
      "Guess the number between 1 and 100:  32\n"
     ]
    },
    {
     "name": "stdout",
     "output_type": "stream",
     "text": [
      "Too high, try again!\n"
     ]
    },
    {
     "name": "stdout",
     "output_type": "stream",
     "text": [
      "Guess the number between 1 and 100:  15\n"
     ]
    },
    {
     "name": "stdout",
     "output_type": "stream",
     "text": [
      "Too high, try again!\n"
     ]
    },
    {
     "name": "stdout",
     "output_type": "stream",
     "text": [
      "Guess the number between 1 and 100:  9\n"
     ]
    },
    {
     "name": "stdout",
     "output_type": "stream",
     "text": [
      "Too high, try again!\n"
     ]
    },
    {
     "name": "stdout",
     "output_type": "stream",
     "text": [
      "Guess the number between 1 and 100:  7\n"
     ]
    },
    {
     "name": "stdout",
     "output_type": "stream",
     "text": [
      "Too high, try again!\n"
     ]
    },
    {
     "name": "stdout",
     "output_type": "stream",
     "text": [
      "Guess the number between 1 and 100:  3\n"
     ]
    },
    {
     "name": "stdout",
     "output_type": "stream",
     "text": [
      "Too high, try again!\n"
     ]
    },
    {
     "name": "stdout",
     "output_type": "stream",
     "text": [
      "Guess the number between 1 and 100:  1\n"
     ]
    },
    {
     "name": "stdout",
     "output_type": "stream",
     "text": [
      "Too low, try again!\n"
     ]
    },
    {
     "name": "stdout",
     "output_type": "stream",
     "text": [
      "Guess the number between 1 and 100:  2\n"
     ]
    },
    {
     "name": "stdout",
     "output_type": "stream",
     "text": [
      "Congratulations, you guessed the number!\n"
     ]
    }
   ],
   "source": [
    "import random\n",
    "\n",
    "# Generate a random number between 1 and 100\n",
    "random_number = random.randint(1, 100)\n",
    "\n",
    "# Initialize a variable to keep track of the user's guesses\n",
    "guess = 0\n",
    "\n",
    "# Start the while loop\n",
    "while guess != random_number:\n",
    "    # Ask the user for a guess\n",
    "    guess = int(input(\"Guess the number between 1 and 100: \"))\n",
    "\n",
    "    # Compare the user's guess with the random number\n",
    "    if guess > random_number:\n",
    "        print(\"Too high, try again!\")\n",
    "    elif guess < random_number:\n",
    "        print(\"Too low, try again!\")\n",
    "\n",
    "# If the while loop condition is False, it means the user guessed the correct number\n",
    "print(\"Congratulations, you guessed the number!\")\n"
   ]
  },
  {
   "cell_type": "code",
   "execution_count": 19,
   "id": "8d55da76-86a2-45f1-b2d5-c8aff34397c3",
   "metadata": {},
   "outputs": [
    {
     "name": "stdout",
     "output_type": "stream",
     "text": [
      "Let´s play paper, rock, scissors\n",
      "1) Paper\n",
      "2) Rock\n",
      "3) Scissors\n"
     ]
    },
    {
     "name": "stdout",
     "output_type": "stream",
     "text": [
      "Pick a number 3\n"
     ]
    },
    {
     "name": "stdout",
     "output_type": "stream",
     "text": [
      "You chose 3\n",
      "Computer choses 2\n",
      "Computer wins\n"
     ]
    }
   ],
   "source": [
    "# Game of paper, rock, scissors\n",
    "print('Let´s play paper, rock, scissors')\n",
    "print ('1) Paper')\n",
    "print ('2) Rock')\n",
    "print('3) Scissors')\n",
    "player = int(input('Pick a number')) # Defines variable for player\n",
    "print ('You chose', player)\n",
    "import random\n",
    "\n",
    "# Generate a random number between 1 and 3\n",
    "computer = random.randint(1, 3) # Defines variable for computer\n",
    "print ('Computer choses', computer)\n",
    "if computer == 1 and player == 3:\n",
    "    print('You win')\n",
    "elif computer == 1 and player == 2:\n",
    "    print ('Computer wins')\n",
    "elif computer == 1 and player == 1:\n",
    "    print ('Tie')\n",
    "elif computer == 2 and player == 1:\n",
    "    print('You win')\n",
    "elif computer == 2 and player == 3:\n",
    "    print ('Computer wins')\n",
    "elif computer == 2 and player == 2:\n",
    "    print ('Tie')\n",
    "elif computer == 3 and player == 2:\n",
    "    print('You win')\n",
    "elif computer == 3 and player == 1:\n",
    "    print ('Computer wins')\n",
    "elif computer == 3 and player == 3:\n",
    "    print ('Tie')"
   ]
  },
  {
   "cell_type": "markdown",
   "id": "f068d3f4-85d3-4d05-a058-f55c6ecc2f4a",
   "metadata": {},
   "source": [
    "## Loops"
   ]
  },
  {
   "cell_type": "code",
   "execution_count": 15,
   "id": "aaf49a67-8c7c-42a6-b8a1-fdc2b91d6c15",
   "metadata": {},
   "outputs": [
    {
     "name": "stdout",
     "output_type": "stream",
     "text": [
      "0\n",
      "2\n",
      "4\n",
      "6\n",
      "8\n",
      "Mi condición es mayor o igual que 10\n"
     ]
    }
   ],
   "source": [
    "# My condition\n",
    "\n",
    "my_condition = 0\n",
    "\n",
    "while my_condition < 10:\n",
    "    print(my_condition)\n",
    "    my_condition += 2\n",
    "else:  # Es opcional\n",
    "    print( \"Mi condición es greater or equal to 10\")"
   ]
  },
  {
   "cell_type": "code",
   "execution_count": 98,
   "id": "44eff6b6-d707-4f3d-afb5-c4859b127391",
   "metadata": {},
   "outputs": [
    {
     "name": "stdout",
     "output_type": "stream",
     "text": [
      "BANK OF DIEGO\n"
     ]
    },
    {
     "name": "stdout",
     "output_type": "stream",
     "text": [
      "Enter your PIN:  3214\n",
      "Incorrect PIN. Enter your PIN again:  2341\n",
      "Incorrect PIN. Enter your PIN again:  1234\n"
     ]
    },
    {
     "name": "stdout",
     "output_type": "stream",
     "text": [
      "PIN accepted!\n"
     ]
    }
   ],
   "source": [
    "#The Bank´s PIN\n",
    "\n",
    "print('BANK OF DIEGO')\n",
    "\n",
    "pin = int(input('Enter your PIN: '))\n",
    "\n",
    "while pin != 1234:\n",
    "  pin = int(input('Incorrect PIN. Enter your PIN again: '))\n",
    "\n",
    "if pin == 1234:\n",
    "  print('PIN accepted!')"
   ]
  },
  {
   "cell_type": "code",
   "execution_count": 17,
   "id": "eb234707-adc5-49cd-a677-fe04a0435ba3",
   "metadata": {},
   "outputs": [
    {
     "name": "stdout",
     "output_type": "stream",
     "text": [
      "Guess the number:   5\n",
      "Guess the number:   4\n",
      "Guess the number:   3\n"
     ]
    },
    {
     "name": "stdout",
     "output_type": "stream",
     "text": [
      "You ran out of tries.\n"
     ]
    }
   ],
   "source": [
    "# Guess the number\n",
    "\n",
    "tries = 0\n",
    "guess = 0\n",
    "\n",
    "while guess != 6 and tries <3:\n",
    "  guess = int(input(\"Guess the number:  \"))\n",
    "  tries +=1\n",
    "\n",
    "if guess != 6:\n",
    "  print('You ran out of tries.')\n",
    "else:\n",
    "  print('You got it!')"
   ]
  },
  {
   "cell_type": "code",
   "execution_count": null,
   "id": "fa892e76-280f-4bcc-8679-6835f089bf9e",
   "metadata": {},
   "outputs": [],
   "source": [
    "# Detention\n",
    "\n",
    "for x in range(15):\n",
    "  print('I will not throw airplanes in class') #If you run this program it wil print \"I will not throw airplanes in class\" 100 times. Don´t."
   ]
  },
  {
   "cell_type": "code",
   "execution_count": 106,
   "id": "02c80c3e-387e-440f-b3c6-528ee3719816",
   "metadata": {},
   "outputs": [
    {
     "name": "stdout",
     "output_type": "stream",
     "text": [
      "The square of 0 is 0\n",
      "The square of 1 is 1\n",
      "The square of 2 is 4\n",
      "The square of 3 is 9\n",
      "The square of 4 is 16\n"
     ]
    }
   ],
   "source": [
    "# String concatenation\n",
    "\n",
    "for i in range(5):\n",
    "  print('The square of ' + str(i) + ' is ' + str(i*i))"
   ]
  },
  {
   "cell_type": "code",
   "execution_count": 110,
   "id": "2c05c4bf-a2eb-48ba-b0fa-26c31d479a0a",
   "metadata": {},
   "outputs": [
    {
     "name": "stdout",
     "output_type": "stream",
     "text": [
      "The square of 0 is 0\n",
      "The square of 1 is 1\n",
      "The square of 2 is 4\n",
      "The square of 3 is 9\n",
      "The square of 4 is 16\n"
     ]
    }
   ],
   "source": [
    "# String interpolation\n",
    "\n",
    "for i in range(5):\n",
    "  print(f'The square of {i} is {i*i}')"
   ]
  },
  {
   "cell_type": "code",
   "execution_count": 114,
   "id": "30a413d9-aaea-43cb-9d07-f75cc681d84e",
   "metadata": {},
   "outputs": [
    {
     "name": "stdout",
     "output_type": "stream",
     "text": [
      "The square of  0  is  0\n",
      "The square of  1  is  1\n",
      "The square of  2  is  4\n",
      "The square of  3  is  9\n",
      "The square of  4  is  16\n"
     ]
    }
   ],
   "source": [
    "#String with comas\n",
    "\n",
    "for i in range(5):\n",
    "  print('The square of ', (i),' is ',(i*i))"
   ]
  },
  {
   "cell_type": "code",
   "execution_count": 3,
   "id": "bb5646f9-c6e2-4a6e-b11e-be9159fb2b26",
   "metadata": {},
   "outputs": [
    {
     "name": "stdout",
     "output_type": "stream",
     "text": [
      "Python programming is fun!\n"
     ]
    }
   ],
   "source": [
    "#Reverse text\n",
    "\n",
    "text = '!nuf si gnimmargorp nohtyP'\n",
    "reversed_text = ''\n",
    " \n",
    "for i in text:\n",
    "  reversed_text = i + reversed_text\n",
    " \n",
    "print(reversed_text)"
   ]
  },
  {
   "cell_type": "code",
   "execution_count": 116,
   "id": "8033ae19-81ff-4fe7-a496-25800eec8bf1",
   "metadata": {
    "scrolled": true
   },
   "outputs": [
    {
     "name": "stdout",
     "output_type": "stream",
     "text": [
      "99 bottles of beer on the wall\n",
      "99 bottles of beer\n",
      "Take one down, pass it around\n",
      "98 bottles of beer on the wall\n",
      "98 bottles of beer on the wall\n",
      "98 bottles of beer\n",
      "Take one down, pass it around\n",
      "97 bottles of beer on the wall\n",
      "97 bottles of beer on the wall\n",
      "97 bottles of beer\n",
      "Take one down, pass it around\n",
      "96 bottles of beer on the wall\n",
      "96 bottles of beer on the wall\n",
      "96 bottles of beer\n",
      "Take one down, pass it around\n",
      "95 bottles of beer on the wall\n",
      "95 bottles of beer on the wall\n",
      "95 bottles of beer\n",
      "Take one down, pass it around\n",
      "94 bottles of beer on the wall\n",
      "94 bottles of beer on the wall\n",
      "94 bottles of beer\n",
      "Take one down, pass it around\n",
      "93 bottles of beer on the wall\n",
      "93 bottles of beer on the wall\n",
      "93 bottles of beer\n",
      "Take one down, pass it around\n",
      "92 bottles of beer on the wall\n",
      "92 bottles of beer on the wall\n",
      "92 bottles of beer\n",
      "Take one down, pass it around\n",
      "91 bottles of beer on the wall\n",
      "91 bottles of beer on the wall\n",
      "91 bottles of beer\n",
      "Take one down, pass it around\n",
      "90 bottles of beer on the wall\n",
      "90 bottles of beer on the wall\n",
      "90 bottles of beer\n",
      "Take one down, pass it around\n",
      "89 bottles of beer on the wall\n",
      "89 bottles of beer on the wall\n",
      "89 bottles of beer\n",
      "Take one down, pass it around\n",
      "88 bottles of beer on the wall\n",
      "88 bottles of beer on the wall\n",
      "88 bottles of beer\n",
      "Take one down, pass it around\n",
      "87 bottles of beer on the wall\n",
      "87 bottles of beer on the wall\n",
      "87 bottles of beer\n",
      "Take one down, pass it around\n",
      "86 bottles of beer on the wall\n",
      "86 bottles of beer on the wall\n",
      "86 bottles of beer\n",
      "Take one down, pass it around\n",
      "85 bottles of beer on the wall\n",
      "85 bottles of beer on the wall\n",
      "85 bottles of beer\n",
      "Take one down, pass it around\n",
      "84 bottles of beer on the wall\n",
      "84 bottles of beer on the wall\n",
      "84 bottles of beer\n",
      "Take one down, pass it around\n",
      "83 bottles of beer on the wall\n",
      "83 bottles of beer on the wall\n",
      "83 bottles of beer\n",
      "Take one down, pass it around\n",
      "82 bottles of beer on the wall\n",
      "82 bottles of beer on the wall\n",
      "82 bottles of beer\n",
      "Take one down, pass it around\n",
      "81 bottles of beer on the wall\n",
      "81 bottles of beer on the wall\n",
      "81 bottles of beer\n",
      "Take one down, pass it around\n",
      "80 bottles of beer on the wall\n",
      "80 bottles of beer on the wall\n",
      "80 bottles of beer\n",
      "Take one down, pass it around\n",
      "79 bottles of beer on the wall\n",
      "79 bottles of beer on the wall\n",
      "79 bottles of beer\n",
      "Take one down, pass it around\n",
      "78 bottles of beer on the wall\n",
      "78 bottles of beer on the wall\n",
      "78 bottles of beer\n",
      "Take one down, pass it around\n",
      "77 bottles of beer on the wall\n",
      "77 bottles of beer on the wall\n",
      "77 bottles of beer\n",
      "Take one down, pass it around\n",
      "76 bottles of beer on the wall\n",
      "76 bottles of beer on the wall\n",
      "76 bottles of beer\n",
      "Take one down, pass it around\n",
      "75 bottles of beer on the wall\n",
      "75 bottles of beer on the wall\n",
      "75 bottles of beer\n",
      "Take one down, pass it around\n",
      "74 bottles of beer on the wall\n",
      "74 bottles of beer on the wall\n",
      "74 bottles of beer\n",
      "Take one down, pass it around\n",
      "73 bottles of beer on the wall\n",
      "73 bottles of beer on the wall\n",
      "73 bottles of beer\n",
      "Take one down, pass it around\n",
      "72 bottles of beer on the wall\n",
      "72 bottles of beer on the wall\n",
      "72 bottles of beer\n",
      "Take one down, pass it around\n",
      "71 bottles of beer on the wall\n",
      "71 bottles of beer on the wall\n",
      "71 bottles of beer\n",
      "Take one down, pass it around\n",
      "70 bottles of beer on the wall\n",
      "70 bottles of beer on the wall\n",
      "70 bottles of beer\n",
      "Take one down, pass it around\n",
      "69 bottles of beer on the wall\n",
      "69 bottles of beer on the wall\n",
      "69 bottles of beer\n",
      "Take one down, pass it around\n",
      "68 bottles of beer on the wall\n",
      "68 bottles of beer on the wall\n",
      "68 bottles of beer\n",
      "Take one down, pass it around\n",
      "67 bottles of beer on the wall\n",
      "67 bottles of beer on the wall\n",
      "67 bottles of beer\n",
      "Take one down, pass it around\n",
      "66 bottles of beer on the wall\n",
      "66 bottles of beer on the wall\n",
      "66 bottles of beer\n",
      "Take one down, pass it around\n",
      "65 bottles of beer on the wall\n",
      "65 bottles of beer on the wall\n",
      "65 bottles of beer\n",
      "Take one down, pass it around\n",
      "64 bottles of beer on the wall\n",
      "64 bottles of beer on the wall\n",
      "64 bottles of beer\n",
      "Take one down, pass it around\n",
      "63 bottles of beer on the wall\n",
      "63 bottles of beer on the wall\n",
      "63 bottles of beer\n",
      "Take one down, pass it around\n",
      "62 bottles of beer on the wall\n",
      "62 bottles of beer on the wall\n",
      "62 bottles of beer\n",
      "Take one down, pass it around\n",
      "61 bottles of beer on the wall\n",
      "61 bottles of beer on the wall\n",
      "61 bottles of beer\n",
      "Take one down, pass it around\n",
      "60 bottles of beer on the wall\n",
      "60 bottles of beer on the wall\n",
      "60 bottles of beer\n",
      "Take one down, pass it around\n",
      "59 bottles of beer on the wall\n",
      "59 bottles of beer on the wall\n",
      "59 bottles of beer\n",
      "Take one down, pass it around\n",
      "58 bottles of beer on the wall\n",
      "58 bottles of beer on the wall\n",
      "58 bottles of beer\n",
      "Take one down, pass it around\n",
      "57 bottles of beer on the wall\n",
      "57 bottles of beer on the wall\n",
      "57 bottles of beer\n",
      "Take one down, pass it around\n",
      "56 bottles of beer on the wall\n",
      "56 bottles of beer on the wall\n",
      "56 bottles of beer\n",
      "Take one down, pass it around\n",
      "55 bottles of beer on the wall\n",
      "55 bottles of beer on the wall\n",
      "55 bottles of beer\n",
      "Take one down, pass it around\n",
      "54 bottles of beer on the wall\n",
      "54 bottles of beer on the wall\n",
      "54 bottles of beer\n",
      "Take one down, pass it around\n",
      "53 bottles of beer on the wall\n",
      "53 bottles of beer on the wall\n",
      "53 bottles of beer\n",
      "Take one down, pass it around\n",
      "52 bottles of beer on the wall\n",
      "52 bottles of beer on the wall\n",
      "52 bottles of beer\n",
      "Take one down, pass it around\n",
      "51 bottles of beer on the wall\n",
      "51 bottles of beer on the wall\n",
      "51 bottles of beer\n",
      "Take one down, pass it around\n",
      "50 bottles of beer on the wall\n",
      "50 bottles of beer on the wall\n",
      "50 bottles of beer\n",
      "Take one down, pass it around\n",
      "49 bottles of beer on the wall\n",
      "49 bottles of beer on the wall\n",
      "49 bottles of beer\n",
      "Take one down, pass it around\n",
      "48 bottles of beer on the wall\n",
      "48 bottles of beer on the wall\n",
      "48 bottles of beer\n",
      "Take one down, pass it around\n",
      "47 bottles of beer on the wall\n",
      "47 bottles of beer on the wall\n",
      "47 bottles of beer\n",
      "Take one down, pass it around\n",
      "46 bottles of beer on the wall\n",
      "46 bottles of beer on the wall\n",
      "46 bottles of beer\n",
      "Take one down, pass it around\n",
      "45 bottles of beer on the wall\n",
      "45 bottles of beer on the wall\n",
      "45 bottles of beer\n",
      "Take one down, pass it around\n",
      "44 bottles of beer on the wall\n",
      "44 bottles of beer on the wall\n",
      "44 bottles of beer\n",
      "Take one down, pass it around\n",
      "43 bottles of beer on the wall\n",
      "43 bottles of beer on the wall\n",
      "43 bottles of beer\n",
      "Take one down, pass it around\n",
      "42 bottles of beer on the wall\n",
      "42 bottles of beer on the wall\n",
      "42 bottles of beer\n",
      "Take one down, pass it around\n",
      "41 bottles of beer on the wall\n",
      "41 bottles of beer on the wall\n",
      "41 bottles of beer\n",
      "Take one down, pass it around\n",
      "40 bottles of beer on the wall\n",
      "40 bottles of beer on the wall\n",
      "40 bottles of beer\n",
      "Take one down, pass it around\n",
      "39 bottles of beer on the wall\n",
      "39 bottles of beer on the wall\n",
      "39 bottles of beer\n",
      "Take one down, pass it around\n",
      "38 bottles of beer on the wall\n",
      "38 bottles of beer on the wall\n",
      "38 bottles of beer\n",
      "Take one down, pass it around\n",
      "37 bottles of beer on the wall\n",
      "37 bottles of beer on the wall\n",
      "37 bottles of beer\n",
      "Take one down, pass it around\n",
      "36 bottles of beer on the wall\n",
      "36 bottles of beer on the wall\n",
      "36 bottles of beer\n",
      "Take one down, pass it around\n",
      "35 bottles of beer on the wall\n",
      "35 bottles of beer on the wall\n",
      "35 bottles of beer\n",
      "Take one down, pass it around\n",
      "34 bottles of beer on the wall\n",
      "34 bottles of beer on the wall\n",
      "34 bottles of beer\n",
      "Take one down, pass it around\n",
      "33 bottles of beer on the wall\n",
      "33 bottles of beer on the wall\n",
      "33 bottles of beer\n",
      "Take one down, pass it around\n",
      "32 bottles of beer on the wall\n",
      "32 bottles of beer on the wall\n",
      "32 bottles of beer\n",
      "Take one down, pass it around\n",
      "31 bottles of beer on the wall\n",
      "31 bottles of beer on the wall\n",
      "31 bottles of beer\n",
      "Take one down, pass it around\n",
      "30 bottles of beer on the wall\n",
      "30 bottles of beer on the wall\n",
      "30 bottles of beer\n",
      "Take one down, pass it around\n",
      "29 bottles of beer on the wall\n",
      "29 bottles of beer on the wall\n",
      "29 bottles of beer\n",
      "Take one down, pass it around\n",
      "28 bottles of beer on the wall\n",
      "28 bottles of beer on the wall\n",
      "28 bottles of beer\n",
      "Take one down, pass it around\n",
      "27 bottles of beer on the wall\n",
      "27 bottles of beer on the wall\n",
      "27 bottles of beer\n",
      "Take one down, pass it around\n",
      "26 bottles of beer on the wall\n",
      "26 bottles of beer on the wall\n",
      "26 bottles of beer\n",
      "Take one down, pass it around\n",
      "25 bottles of beer on the wall\n",
      "25 bottles of beer on the wall\n",
      "25 bottles of beer\n",
      "Take one down, pass it around\n",
      "24 bottles of beer on the wall\n",
      "24 bottles of beer on the wall\n",
      "24 bottles of beer\n",
      "Take one down, pass it around\n",
      "23 bottles of beer on the wall\n",
      "23 bottles of beer on the wall\n",
      "23 bottles of beer\n",
      "Take one down, pass it around\n",
      "22 bottles of beer on the wall\n",
      "22 bottles of beer on the wall\n",
      "22 bottles of beer\n",
      "Take one down, pass it around\n",
      "21 bottles of beer on the wall\n",
      "21 bottles of beer on the wall\n",
      "21 bottles of beer\n",
      "Take one down, pass it around\n",
      "20 bottles of beer on the wall\n",
      "20 bottles of beer on the wall\n",
      "20 bottles of beer\n",
      "Take one down, pass it around\n",
      "19 bottles of beer on the wall\n",
      "19 bottles of beer on the wall\n",
      "19 bottles of beer\n",
      "Take one down, pass it around\n",
      "18 bottles of beer on the wall\n",
      "18 bottles of beer on the wall\n",
      "18 bottles of beer\n",
      "Take one down, pass it around\n",
      "17 bottles of beer on the wall\n",
      "17 bottles of beer on the wall\n",
      "17 bottles of beer\n",
      "Take one down, pass it around\n",
      "16 bottles of beer on the wall\n",
      "16 bottles of beer on the wall\n",
      "16 bottles of beer\n",
      "Take one down, pass it around\n",
      "15 bottles of beer on the wall\n",
      "15 bottles of beer on the wall\n",
      "15 bottles of beer\n",
      "Take one down, pass it around\n",
      "14 bottles of beer on the wall\n",
      "14 bottles of beer on the wall\n",
      "14 bottles of beer\n",
      "Take one down, pass it around\n",
      "13 bottles of beer on the wall\n",
      "13 bottles of beer on the wall\n",
      "13 bottles of beer\n",
      "Take one down, pass it around\n",
      "12 bottles of beer on the wall\n",
      "12 bottles of beer on the wall\n",
      "12 bottles of beer\n",
      "Take one down, pass it around\n",
      "11 bottles of beer on the wall\n",
      "11 bottles of beer on the wall\n",
      "11 bottles of beer\n",
      "Take one down, pass it around\n",
      "10 bottles of beer on the wall\n",
      "10 bottles of beer on the wall\n",
      "10 bottles of beer\n",
      "Take one down, pass it around\n",
      "9 bottles of beer on the wall\n",
      "9 bottles of beer on the wall\n",
      "9 bottles of beer\n",
      "Take one down, pass it around\n",
      "8 bottles of beer on the wall\n",
      "8 bottles of beer on the wall\n",
      "8 bottles of beer\n",
      "Take one down, pass it around\n",
      "7 bottles of beer on the wall\n",
      "7 bottles of beer on the wall\n",
      "7 bottles of beer\n",
      "Take one down, pass it around\n",
      "6 bottles of beer on the wall\n",
      "6 bottles of beer on the wall\n",
      "6 bottles of beer\n",
      "Take one down, pass it around\n",
      "5 bottles of beer on the wall\n",
      "5 bottles of beer on the wall\n",
      "5 bottles of beer\n",
      "Take one down, pass it around\n",
      "4 bottles of beer on the wall\n",
      "4 bottles of beer on the wall\n",
      "4 bottles of beer\n",
      "Take one down, pass it around\n",
      "3 bottles of beer on the wall\n",
      "3 bottles of beer on the wall\n",
      "3 bottles of beer\n",
      "Take one down, pass it around\n",
      "2 bottles of beer on the wall\n",
      "2 bottles of beer on the wall\n",
      "2 bottles of beer\n",
      "Take one down, pass it around\n",
      "1 bottles of beer on the wall\n",
      "1 bottles of beer on the wall\n",
      "1 bottles of beer\n",
      "Take one down, pass it around\n",
      "0 bottles of beer on the wall\n"
     ]
    }
   ],
   "source": [
    "#99 bottles of beer\n",
    "\n",
    "for i in range(99, 0, -1):\n",
    "  print(f'{i} bottles of beer on the wall')\n",
    "  print(f'{i} bottles of beer')\n",
    "  print('Take one down, pass it around')\n",
    "  print(f'{i-1} bottles of beer on the wall')"
   ]
  },
  {
   "cell_type": "code",
   "execution_count": 130,
   "id": "25e21434-1855-49c4-9083-d9b625afda6d",
   "metadata": {
    "scrolled": true
   },
   "outputs": [
    {
     "name": "stdout",
     "output_type": "stream",
     "text": [
      "1\n",
      "2\n",
      "Fizz\n",
      "4\n",
      "Buzz\n",
      "Fizz\n",
      "7\n",
      "8\n",
      "Fizz\n",
      "Buzz\n",
      "11\n",
      "Fizz\n",
      "13\n",
      "14\n",
      "FizzBuzz\n",
      "16\n",
      "17\n",
      "Fizz\n",
      "19\n",
      "Buzz\n",
      "Fizz\n",
      "22\n",
      "23\n",
      "Fizz\n",
      "Buzz\n",
      "26\n",
      "Fizz\n",
      "28\n",
      "29\n",
      "FizzBuzz\n",
      "31\n",
      "32\n",
      "Fizz\n",
      "34\n",
      "Buzz\n",
      "Fizz\n",
      "37\n",
      "38\n",
      "Fizz\n",
      "Buzz\n",
      "41\n",
      "Fizz\n",
      "43\n",
      "44\n",
      "FizzBuzz\n",
      "46\n",
      "47\n",
      "Fizz\n",
      "49\n",
      "Buzz\n",
      "Fizz\n",
      "52\n",
      "53\n",
      "Fizz\n",
      "Buzz\n",
      "56\n",
      "Fizz\n",
      "58\n",
      "59\n",
      "FizzBuzz\n",
      "61\n",
      "62\n",
      "Fizz\n",
      "64\n",
      "Buzz\n",
      "Fizz\n",
      "67\n",
      "68\n",
      "Fizz\n",
      "Buzz\n",
      "71\n",
      "Fizz\n",
      "73\n",
      "74\n",
      "FizzBuzz\n",
      "76\n",
      "77\n",
      "Fizz\n",
      "79\n",
      "Buzz\n",
      "Fizz\n",
      "82\n",
      "83\n",
      "Fizz\n",
      "Buzz\n",
      "86\n",
      "Fizz\n",
      "88\n",
      "89\n",
      "FizzBuzz\n",
      "91\n",
      "92\n",
      "Fizz\n",
      "94\n",
      "Buzz\n",
      "Fizz\n",
      "97\n",
      "98\n",
      "Fizz\n"
     ]
    }
   ],
   "source": [
    "# How to play FizzBuzz\n",
    "\n",
    "for i in range(1,100):\n",
    "  if i%3 ==0 and not i%15 ==0:\n",
    "    print ('Fizz')\n",
    "  elif i%5 ==0 and not i%15 ==0:\n",
    "    print ('Buzz')\n",
    "  elif i%15 ==0:\n",
    "    print ('FizzBuzz')\n",
    "  else:\n",
    "    print(i)"
   ]
  },
  {
   "cell_type": "code",
   "execution_count": 2,
   "id": "7c26ad69-8911-4a08-820a-2465c96efc2d",
   "metadata": {},
   "outputs": [
    {
     "name": "stdout",
     "output_type": "stream",
     "text": [
      "1\n",
      "2\n",
      "Fizz\n",
      "4\n",
      "Buzz\n",
      "Fizz\n",
      "7\n",
      "8\n",
      "Fizz\n",
      "Buzz\n",
      "11\n",
      "Fizz\n",
      "13\n",
      "14\n",
      "FizzBuzz\n",
      "16\n",
      "17\n",
      "Fizz\n",
      "19\n",
      "Buzz\n",
      "Fizz\n",
      "22\n",
      "23\n",
      "Fizz\n",
      "Buzz\n",
      "26\n",
      "Fizz\n",
      "28\n",
      "29\n",
      "FizzBuzz\n",
      "31\n",
      "32\n",
      "Fizz\n",
      "34\n",
      "Buzz\n",
      "Fizz\n",
      "37\n",
      "38\n",
      "Fizz\n",
      "Buzz\n",
      "41\n",
      "Fizz\n",
      "43\n",
      "44\n",
      "FizzBuzz\n",
      "46\n",
      "47\n",
      "Fizz\n",
      "49\n",
      "Buzz\n",
      "Fizz\n",
      "52\n",
      "53\n",
      "Fizz\n",
      "Buzz\n",
      "56\n",
      "Fizz\n",
      "58\n",
      "59\n",
      "FizzBuzz\n",
      "61\n",
      "62\n",
      "Fizz\n",
      "64\n",
      "Buzz\n",
      "Fizz\n",
      "67\n",
      "68\n",
      "Fizz\n",
      "Buzz\n",
      "71\n",
      "Fizz\n",
      "73\n",
      "74\n",
      "FizzBuzz\n",
      "76\n",
      "77\n",
      "Fizz\n",
      "79\n",
      "Buzz\n",
      "Fizz\n",
      "82\n",
      "83\n",
      "Fizz\n",
      "Buzz\n",
      "86\n",
      "Fizz\n",
      "88\n",
      "89\n",
      "FizzBuzz\n",
      "91\n",
      "92\n",
      "Fizz\n",
      "94\n",
      "Buzz\n",
      "Fizz\n",
      "97\n",
      "98\n",
      "Fizz\n",
      "Buzz\n"
     ]
    }
   ],
   "source": [
    "#Another way to play FizzBuzz\n",
    "\n",
    "for num in range(1, 101):\n",
    "  if num % 3 == 0 and num % 5 == 0:\n",
    "    print('FizzBuzz')\n",
    "  elif num % 3 == 0:\n",
    "    print('Fizz')\n",
    "  elif num % 5 == 0:\n",
    "    print('Buzz')\n",
    "  else:\n",
    "    print(num)"
   ]
  },
  {
   "cell_type": "markdown",
   "id": "c83a7e86",
   "metadata": {},
   "source": [
    "## General Exercises"
   ]
  },
  {
   "cell_type": "code",
   "execution_count": 31,
   "id": "afeaf722-2f5c-4781-a738-3589dfb8cd2a",
   "metadata": {},
   "outputs": [
    {
     "name": "stdout",
     "output_type": "stream",
     "text": [
      "Welcome to Rock, Paper, Scissors! We will play 5 rounds. First player to 3 wins is victorious! \n",
      "\n",
      "Round  1\n"
     ]
    },
    {
     "name": "stdout",
     "output_type": "stream",
     "text": [
      "Rock, Paper or Scissors?:  Paper\n"
     ]
    },
    {
     "name": "stdout",
     "output_type": "stream",
     "text": [
      "You choose Paper and Computer chooses Paper\n",
      "It's a tie!\n",
      "Player 0 - 0 Computer\n",
      "\n",
      "\n",
      "Round  2\n"
     ]
    },
    {
     "name": "stdout",
     "output_type": "stream",
     "text": [
      "Rock, Paper or Scissors?:  Rock\n"
     ]
    },
    {
     "name": "stdout",
     "output_type": "stream",
     "text": [
      "You choose Rock and Computer chooses Scissors\n",
      "Rock crushes Scissors! You win!\n",
      "Player 1 - 0 Computer\n",
      "\n",
      "\n",
      "Round  3\n"
     ]
    },
    {
     "name": "stdout",
     "output_type": "stream",
     "text": [
      "Rock, Paper or Scissors?:  Rock\n"
     ]
    },
    {
     "name": "stdout",
     "output_type": "stream",
     "text": [
      "You choose Rock and Computer chooses Paper\n",
      "Paper covers Rock! Computer wins!\n",
      "Player 1 - 1 Computer\n",
      "\n",
      "\n",
      "Round  4\n"
     ]
    },
    {
     "name": "stdout",
     "output_type": "stream",
     "text": [
      "Rock, Paper or Scissors?:  Rock\n"
     ]
    },
    {
     "name": "stdout",
     "output_type": "stream",
     "text": [
      "You choose Rock and Computer chooses Scissors\n",
      "Rock crushes Scissors! You win!\n",
      "Player 2 - 1 Computer\n",
      "\n",
      "\n",
      "Round  5\n"
     ]
    },
    {
     "name": "stdout",
     "output_type": "stream",
     "text": [
      "Rock, Paper or Scissors?:  Rock\n"
     ]
    },
    {
     "name": "stdout",
     "output_type": "stream",
     "text": [
      "You choose Rock and Computer chooses Rock\n",
      "It's a tie!\n",
      "Player 2 - 1 Computer\n",
      "\n",
      "\n",
      "Game over!\n",
      "You are the winner! 2 - 1 Computer\n"
     ]
    }
   ],
   "source": [
    "#Another way of playing rock, paper, scissors with while and with rounds\n",
    "\n",
    "from random import randint\n",
    "\n",
    "\n",
    "# list of gestures\n",
    "gestures = ['Rock', 'Paper', 'Scissors']\n",
    "# define the number of rounds\n",
    "n_rounds = 5\n",
    "\n",
    "def cpu_choice():\n",
    "    return gestures[randint(0, 2)]\n",
    "    \n",
    "def player_choice():\n",
    "    \n",
    "    # set up a while loop that continues if input is invalid and breaks with a correct input.\n",
    "    while True: \n",
    "        \n",
    "        # get user input\n",
    "        choice = input(\"Rock, Paper or Scissors?: \")\n",
    "        \n",
    "        # if the choice is not in the approved list\n",
    "        if choice not in gestures:\n",
    "            print(\"Hmmm not valid, try again please!\")\n",
    "            continue\n",
    "        \n",
    "        else:\n",
    "            break\n",
    "        \n",
    "    return choice\n",
    "    \n",
    "def round_winner(player, cpu):\n",
    "    \n",
    "    # print both choices\n",
    "    print(\"You choose\", player, \"and Computer chooses\", cpu)\n",
    "    \n",
    "    # check for ties\n",
    "    if player == cpu:\n",
    "        print(\"It's a tie!\")\n",
    "        return 0\n",
    "    \n",
    "    # check when player chose Rock\n",
    "    elif player == 'Rock':\n",
    "        if cpu == 'Paper':\n",
    "            print(\"Paper covers Rock! Computer wins!\")\n",
    "            return 1\n",
    "        else:\n",
    "            print(\"Rock crushes Scissors! You win!\")\n",
    "            return 2\n",
    "    \n",
    "    # when the player chose Paper\n",
    "    elif player == 'Paper':\n",
    "        if cpu == 'Rock':\n",
    "            print(\"Paper covers Rock! You win!\")\n",
    "            return 2\n",
    "        else:\n",
    "            print(\"Scissors cut paper! Computer wins!\")\n",
    "            return 1\n",
    "        \n",
    "    # or when the player chose Scissors\n",
    "    else:\n",
    "        if cpu == 'Paper':\n",
    "            print(\"Scissors cut paper! You win!\")\n",
    "            return 2\n",
    "        else:\n",
    "            print(\"Rock crushes Scissors! Computer wins!\")\n",
    "            return 1\n",
    "def game(n_rounds):\n",
    "    \n",
    "    # define variables to store number of wins\n",
    "    player_score = 0\n",
    "    cpu_score = 0\n",
    "    \n",
    "    # calculate number of rounds to win\n",
    "    rounds_to_win = (n_rounds + 1) / 2\n",
    "    \n",
    "    # store current round\n",
    "    current_round = 1\n",
    "    \n",
    "    print(\"Welcome to Rock, Paper, Scissors! We will play %d rounds. First player to %d wins is victorious! \\n\" % (n_rounds, rounds_to_win))\n",
    "        \n",
    "    while cpu_score < rounds_to_win and player_score < rounds_to_win and current_round <= n_rounds:\n",
    "        \n",
    "        # print the number of the current round\n",
    "        print(\"Round \", current_round)\n",
    "        \n",
    "        # get cpu and player choice\n",
    "        cpu = cpu_choice()\n",
    "        player = player_choice()\n",
    "        \n",
    "        # determine who wins the round\n",
    "        winner = round_winner(player, cpu)\n",
    "        \n",
    "        # update the global scores\n",
    "        if winner == 1:\n",
    "            cpu_score += 1\n",
    "        elif winner == 2:\n",
    "            player_score += 1\n",
    "        else:\n",
    "            pass\n",
    "        \n",
    "        print(\"Player\", player_score, \"-\", cpu_score, \"Computer\")\n",
    "        \n",
    "        # add a round\n",
    "        current_round += 1\n",
    "        \n",
    "        print(\"\\n\")\n",
    "    \n",
    "    print(\"Game over!\")\n",
    "    \n",
    "    if player_score == cpu_score:\n",
    "        print(\"It's a tie!\", player_score, \"-\", cpu_score, \"Computer\")\n",
    "    \n",
    "    elif player_score > cpu_score:\n",
    "        print(\"You are the winner!\", player_score, \"-\", cpu_score, \"Computer\")\n",
    "    \n",
    "    else:\n",
    "        print(\"Sorry, you lose!\", player_score, \"-\", cpu_score, \"Computer\")\n",
    "\n",
    "# uncomment next line to run the game        \n",
    "game(n_rounds)"
   ]
  },
  {
   "cell_type": "code",
   "execution_count": 1,
   "id": "149646f3-2304-4b28-b7d1-f11146f52662",
   "metadata": {},
   "outputs": [
    {
     "name": "stdout",
     "output_type": "stream",
     "text": [
      "100\n",
      "120\n",
      "140\n",
      "160\n",
      "180\n",
      "200\n"
     ]
    }
   ],
   "source": [
    "i = 100\n",
    "while(i <= 200):\n",
    "  print(i)\n",
    "  i += 20"
   ]
  },
  {
   "cell_type": "code",
   "execution_count": null,
   "id": "2832c9ce-90de-4c1a-a3d4-a226643a116e",
   "metadata": {},
   "outputs": [],
   "source": []
  }
 ],
 "metadata": {
  "kernelspec": {
   "display_name": "Python 3 (ipykernel)",
   "language": "python",
   "name": "python3"
  },
  "language_info": {
   "codemirror_mode": {
    "name": "ipython",
    "version": 3
   },
   "file_extension": ".py",
   "mimetype": "text/x-python",
   "name": "python",
   "nbconvert_exporter": "python",
   "pygments_lexer": "ipython3",
   "version": "3.12.4"
  }
 },
 "nbformat": 4,
 "nbformat_minor": 5
}
